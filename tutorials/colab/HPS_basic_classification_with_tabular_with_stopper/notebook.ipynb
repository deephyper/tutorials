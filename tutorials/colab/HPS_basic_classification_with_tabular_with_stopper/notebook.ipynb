{
 "cells": [
  {
   "cell_type": "markdown",
   "id": "f7ef2e27",
   "metadata": {
    "id": "f7ef2e27"
   },
   "source": [
    "# Multi-Fidelity Hyperparameter Optimization with Keras\n",
    "\n",
    "[![Open In Colab](https://colab.research.google.com/assets/colab-badge.svg)](https://colab.research.google.com/github/deephyper/tutorials/blob/main/tutorials/colab/HPS_basic_classification_with_tabular_data/notebook.ipynb)\n",
    "\n",
    "In this tutorial we present how to use hyperparameter optimization on an example from the Keras documentation. We follow the previous tutorial based on the same example and add multi-fidelity to it. The purpose of multi-fidelity is to dynamically manage the budget allocated (also called fidelity) to evaluate an hyperparameter configuration. For example, when training a deep neural network the number of epochs can be continued or stopped based on currently observed performance and some policy.\n",
    "\n",
    "In DeepHyper, the multi-fidelity agent is designed separately from the hyperparameter search agent. Of course, both can communicate but from an API perspective they are different objects. The multi-fidelity agents are called `Stopper` in DeepHyper and their documentation can be found at [deephyper.stopper](https://deephyper.readthedocs.io/en/latest/_autosummary/deephyper.stopper.html). \n",
    "\n",
    "In this notebook, we will demonstrate how to use multi-fidelity inside sequential Bayesian optimization. When moving to a distributed setting, it is important to use a shared memory accessible by all workers otherwise the multi-fidelity scheme may not work properly. An example, of database instanciation for parallel computing is explained in: [Introduction to Distributed Bayesian Optimization (DBO) with MPI (Communication) and Redis (Storage)](https://deephyper.readthedocs.io/en/latest/tutorials/tutorials/scripts/02_Intro_to_DBO/README.html).\n",
    "\n",
    "**Reference**:\n",
    " This tutorial is based on materials from the Keras Documentation: [Structured data classification from scratch](https://keras.io/examples/structured_data/structured_data_classification_from_scratch/)\n",
    "\n",
    "Let us start with installing DeepHyper!\n",
    "    \n",
    "<div class=\"alert alert-warning\">\n",
    "\n",
    "<b>Warning</b>\n",
    "    \n",
    "Since the release of **Keras 3.0**, this tutorial should be run with `tf-keras` ([link to pypi](https://pypi.org/project/tf-keras/)).\n",
    "    \n",
    "</div>"
   ]
  },
  {
   "cell_type": "code",
   "execution_count": 10,
   "id": "3fdbc102-a0e1-4f83-ab59-24ff712df5f7",
   "metadata": {
    "collapsed": true,
    "jupyter": {
     "outputs_hidden": true
    },
    "tags": []
   },
   "outputs": [
    {
     "name": "stdout",
     "output_type": "stream",
     "text": [
      "0.9.0\n"
     ]
    }
   ],
   "source": [
    "try:\n",
    "    import deephyper\n",
    "    import deephyper.stopper.lce\n",
    "    print(deephyper.__version__)\n",
    "except (ImportError, ModuleNotFoundError):\n",
    "    !pip install \"deephyper[jax-cpu]\"\n",
    "    import deephyper\n",
    "    import deephyper.stopper.lce\n",
    "    print(deephyper.__version__)"
   ]
  },
  {
   "cell_type": "markdown",
   "id": "38664b59",
   "metadata": {
    "id": "38664b59"
   },
   "source": [
    "<div class=\"alert alert-info\">\n",
    "    \n",
    "<b>Note</b>\n",
    "    \n",
    "The following environment variables can be used to avoid the logging of **some** Tensorflow *DEBUG*, *INFO* and *WARNING* statements.\n",
    "    \n",
    "</div>"
   ]
  },
  {
   "cell_type": "code",
   "execution_count": 11,
   "id": "320e7d27",
   "metadata": {
    "ExecuteTime": {
     "end_time": "2021-10-06T14:08:03.492690Z",
     "start_time": "2021-10-06T14:08:03.490841Z"
    },
    "id": "320e7d27",
    "tags": []
   },
   "outputs": [],
   "source": [
    "import os\n",
    "\n",
    "os.environ[\"TF_CPP_MIN_LOG_LEVEL\"] = str(4)\n",
    "os.environ[\"AUTOGRAPH_VERBOSITY\"] = str(0)"
   ]
  },
  {
   "cell_type": "markdown",
   "id": "22386d68",
   "metadata": {
    "id": "22386d68"
   },
   "source": [
    "## Imports"
   ]
  },
  {
   "cell_type": "code",
   "execution_count": 12,
   "id": "f3a37b1d",
   "metadata": {
    "ExecuteTime": {
     "end_time": "2021-10-06T14:08:06.961251Z",
     "start_time": "2021-10-06T14:08:04.788328Z"
    },
    "id": "f3a37b1d",
    "tags": []
   },
   "outputs": [],
   "source": [
    "import pandas as pd\n",
    "import tensorflow as tf\n",
    "import tf_keras as tfk\n",
    "tf.get_logger().setLevel(\"ERROR\")"
   ]
  },
  {
   "cell_type": "markdown",
   "id": "c702c644",
   "metadata": {
    "id": "c702c644"
   },
   "source": [
    "## The dataset (from Keras.io)\n",
    "\n",
    "The [dataset](https://archive.ics.uci.edu/ml/datasets/heart+Disease) is provided by the\n",
    "Cleveland Clinic Foundation for Heart Disease.\n",
    "It's a CSV file with 303 rows. Each row contains information about a patient (a\n",
    "**sample**), and each column describes an attribute of the patient (a **feature**). We\n",
    "use the features to predict whether a patient has a heart disease (**binary\n",
    "classification**).\n",
    "\n",
    "Here's the description of each feature:\n",
    "\n",
    "Column| Description| Feature Type\n",
    "------------|--------------------|----------------------\n",
    "Age | Age in years | Numerical\n",
    "Sex | (1 = male; 0 = female) | Categorical\n",
    "CP | Chest pain type (0, 1, 2, 3, 4) | Categorical\n",
    "Trestbpd | Resting blood pressure (in mm Hg on admission) | Numerical\n",
    "Chol | Serum cholesterol in mg/dl | Numerical\n",
    "FBS | fasting blood sugar in 120 mg/dl (1 = true; 0 = false) | Categorical\n",
    "RestECG | Resting electrocardiogram results (0, 1, 2) | Categorical\n",
    "Thalach | Maximum heart rate achieved | Numerical\n",
    "Exang | Exercise induced angina (1 = yes; 0 = no) | Categorical\n",
    "Oldpeak | ST depression induced by exercise relative to rest | Numerical\n",
    "Slope | Slope of the peak exercise ST segment | Numerical\n",
    "CA | Number of major vessels (0-3) colored by fluoroscopy | Both numerical & categorical\n",
    "Thal | 3 = normal; 6 = fixed defect; 7 = reversible defect | Categorical\n",
    "Target | Diagnosis of heart disease (1 = true; 0 = false) | Target"
   ]
  },
  {
   "cell_type": "code",
   "execution_count": 13,
   "id": "9499cd94",
   "metadata": {
    "ExecuteTime": {
     "end_time": "2021-10-06T14:08:19.106131Z",
     "start_time": "2021-10-06T14:08:19.102761Z"
    },
    "id": "9499cd94",
    "tags": []
   },
   "outputs": [],
   "source": [
    "def load_data():\n",
    "    file_url = \"http://storage.googleapis.com/download.tensorflow.org/data/heart.csv\"\n",
    "    dataframe = pd.read_csv(file_url)\n",
    "\n",
    "    val_dataframe = dataframe.sample(frac=0.2, random_state=1337)\n",
    "    train_dataframe = dataframe.drop(val_dataframe.index)\n",
    "\n",
    "    return train_dataframe, val_dataframe\n",
    "\n",
    "\n",
    "def dataframe_to_dataset(dataframe):\n",
    "    dataframe = dataframe.copy()\n",
    "    labels = dataframe.pop(\"target\")\n",
    "    ds = tf.data.Dataset.from_tensor_slices((dict(dataframe), labels))\n",
    "    ds = ds.shuffle(buffer_size=len(dataframe))\n",
    "    return ds"
   ]
  },
  {
   "cell_type": "markdown",
   "id": "6ceb5938",
   "metadata": {
    "id": "6ceb5938"
   },
   "source": [
    "## Preprocessing & encoding of features\n",
    "\n",
    "The next cells use `tfk.layers.Normalization()` to apply standard scaling on the features.\n",
    "\n",
    "Then, the `tfk.layers.StringLookup` and `tfk.layers.IntegerLookup` are used to encode categorical variables."
   ]
  },
  {
   "cell_type": "code",
   "execution_count": 14,
   "id": "996814d7",
   "metadata": {
    "ExecuteTime": {
     "end_time": "2021-10-06T14:08:22.308775Z",
     "start_time": "2021-10-06T14:08:22.304430Z"
    },
    "id": "996814d7",
    "tags": []
   },
   "outputs": [],
   "source": [
    "def encode_numerical_feature(feature, name, dataset):\n",
    "    # Create a Normalization layer for our feature\n",
    "    normalizer = tfk.layers.Normalization()\n",
    "\n",
    "    # Prepare a Dataset that only yields our feature\n",
    "    feature_ds = dataset.map(lambda x, y: x[name])\n",
    "    feature_ds = feature_ds.map(lambda x: tf.expand_dims(x, -1))\n",
    "\n",
    "    # Learn the statistics of the data\n",
    "    normalizer.adapt(feature_ds)\n",
    "\n",
    "    # Normalize the input feature\n",
    "    encoded_feature = normalizer(feature)\n",
    "    return encoded_feature\n",
    "\n",
    "\n",
    "def encode_categorical_feature(feature, name, dataset, is_string):\n",
    "    lookup_class = (\n",
    "        tfk.layers.StringLookup if is_string else tfk.layers.IntegerLookup\n",
    "    )\n",
    "    # Create a lookup layer which will turn strings into integer indices\n",
    "    lookup = lookup_class(output_mode=\"binary\")\n",
    "\n",
    "    # Prepare a Dataset that only yields our feature\n",
    "    feature_ds = dataset.map(lambda x, y: x[name])\n",
    "    feature_ds = feature_ds.map(lambda x: tf.expand_dims(x, -1))\n",
    "\n",
    "    # Learn the set of possible string values and assign them a fixed integer index\n",
    "    lookup.adapt(feature_ds)\n",
    "\n",
    "    # Turn the string input into integer indices\n",
    "    encoded_feature = lookup(feature)\n",
    "    return encoded_feature"
   ]
  },
  {
   "cell_type": "markdown",
   "id": "c8743319",
   "metadata": {
    "id": "c8743319"
   },
   "source": [
    "## Define the run-function with multi-fidelity\n",
    "\n",
    "The run-function defines how the objective that we want to maximize is computed. It takes a `job` (see [deephyper.evaluator.RunningJob](https://deephyper.readthedocs.io/en/latest/_autosummary/deephyper.evaluator.RunningJob.html)) as input and outputs a scaler value or dictionnary (see [deephyper.evaluator](https://deephyper.readthedocs.io/en/latest/_autosummary/deephyper.evaluator.html)). The objective is always maximized in DeepHyper. The `job.parameters` contains a suggested configuration of hyperparameters that we want to evaluate. In this example we will search for:\n",
    "\n",
    "* `units` (default value: `32`)\n",
    "* `activation` (default value: `\"relu\"`)\n",
    "* `dropout_rate` (default value: `0.5`)\n",
    "* `batch_size` (default value: `32`)\n",
    "* `learning_rate` (default value: `1e-3`)\n",
    "\n",
    "A hyperparameter value can be acessed easily in the dictionary through the corresponding key, for example `job[\"units\"]` or `job.parameters[\"units\"]` are both valid. Unlike the previous tutorial in this example we want to use multi-fidelity to dynamically choose the allocated budget of each evaluation. Therefore we use the tensorflow keras integration of stoppers `deephyper.stopper.integration.TFKerasStopperCallback`. The multi-fidelity agent will monitor the validation accuracy (`val_accuracy`) in the context of maximization. This `stopper_callback` is then added to the callbacks used by the model during the training. In order to collect more information about the execution of our job we use the `@profile` decorator on the run-function which will collect execution timings (`timestamp_start` and `timestamp_end`). We will also add `\"metadata\"` to the output of our function to know how many epochs were used to evaluate each model. To learn more about how the `@profile` decorator can be used check our tutorial on [Understanding the pros and cons of Evaluator parallel backends](https://deephyper.readthedocs.io/en/latest/tutorials/tutorials/scripts/03_Evaluators/README.html).\n",
    "\n",
    "```python\n",
    "    stopper_callback = TFKerasStopperCallback(\n",
    "        job, \n",
    "        monitor=\"val_accuracy\", \n",
    "        mode=\"max\"\n",
    "    )\n",
    "                                              \n",
    "    history = model.fit(\n",
    "        train_ds, \n",
    "        epochs=100, \n",
    "        validation_data=val_ds, \n",
    "        verbose=0,\n",
    "        callbacks=[stopper_callback]\n",
    "    )\n",
    "    \n",
    "    \n",
    "    objective = history.history[\"val_accuracy\"][-1]\n",
    "    metadata = {\"budget\": stopper_callback.budget}\n",
    "    return {\"objective\": objective, \"metadata\": metadata}\n",
    "```"
   ]
  },
  {
   "cell_type": "code",
   "execution_count": 27,
   "id": "2f99f031",
   "metadata": {
    "ExecuteTime": {
     "end_time": "2021-10-06T14:08:25.815920Z",
     "start_time": "2021-10-06T14:08:25.802830Z"
    },
    "id": "2f99f031",
    "tags": []
   },
   "outputs": [],
   "source": [
    "import json\n",
    "\n",
    "from deephyper.evaluator import profile, RunningJob\n",
    "from deephyper.stopper.integration.tf_keras2 import TFKerasStopperCallback\n",
    "\n",
    "\n",
    "@profile\n",
    "def run(job: RunningJob):\n",
    "    \n",
    "    config = job.parameters\n",
    "    \n",
    "    def create_and_fit_model():\n",
    "        tf.autograph.set_verbosity(0)\n",
    "        import absl.logging\n",
    "        absl.logging.set_verbosity(absl.logging.ERROR)\n",
    "\n",
    "        # Load data and split into validation set\n",
    "        train_dataframe, val_dataframe = load_data()\n",
    "        train_ds = dataframe_to_dataset(train_dataframe)\n",
    "        val_ds = dataframe_to_dataset(val_dataframe)\n",
    "        train_ds = train_ds.batch(config[\"batch_size\"])\n",
    "        val_ds = val_ds.batch(config[\"batch_size\"])\n",
    "\n",
    "        # Categorical features encoded as integers\n",
    "        sex = tfk.Input(shape=(1,), name=\"sex\", dtype=\"int64\")\n",
    "        cp = tfk.Input(shape=(1,), name=\"cp\", dtype=\"int64\")\n",
    "        fbs = tfk.Input(shape=(1,), name=\"fbs\", dtype=\"int64\")\n",
    "        restecg = tfk.Input(shape=(1,), name=\"restecg\", dtype=\"int64\")\n",
    "        exang = tfk.Input(shape=(1,), name=\"exang\", dtype=\"int64\")\n",
    "        ca = tfk.Input(shape=(1,), name=\"ca\", dtype=\"int64\")\n",
    "\n",
    "        # Categorical feature encoded as string\n",
    "        thal = tfk.Input(shape=(1,), name=\"thal\", dtype=\"string\")\n",
    "\n",
    "        # Numerical features\n",
    "        age = tfk.Input(shape=(1,), name=\"age\")\n",
    "        trestbps = tfk.Input(shape=(1,), name=\"trestbps\")\n",
    "        chol = tfk.Input(shape=(1,), name=\"chol\")\n",
    "        thalach = tfk.Input(shape=(1,), name=\"thalach\")\n",
    "        oldpeak = tfk.Input(shape=(1,), name=\"oldpeak\")\n",
    "        slope = tfk.Input(shape=(1,), name=\"slope\")\n",
    "\n",
    "        all_inputs = [\n",
    "            sex,\n",
    "            cp,\n",
    "            fbs,\n",
    "            restecg,\n",
    "            exang,\n",
    "            ca,\n",
    "            thal,\n",
    "            age,\n",
    "            trestbps,\n",
    "            chol,\n",
    "            thalach,\n",
    "            oldpeak,\n",
    "            slope,\n",
    "        ]\n",
    "\n",
    "        # Integer categorical features\n",
    "        sex_encoded = encode_categorical_feature(sex, \"sex\", train_ds, False)\n",
    "        cp_encoded = encode_categorical_feature(cp, \"cp\", train_ds, False)\n",
    "        fbs_encoded = encode_categorical_feature(fbs, \"fbs\", train_ds, False)\n",
    "        restecg_encoded = encode_categorical_feature(restecg, \"restecg\", train_ds, False)\n",
    "        exang_encoded = encode_categorical_feature(exang, \"exang\", train_ds, False)\n",
    "        ca_encoded = encode_categorical_feature(ca, \"ca\", train_ds, False)\n",
    "\n",
    "        # String categorical features\n",
    "        thal_encoded = encode_categorical_feature(thal, \"thal\", train_ds, True)\n",
    "\n",
    "        # Numerical features\n",
    "        age_encoded = encode_numerical_feature(age, \"age\", train_ds)\n",
    "        trestbps_encoded = encode_numerical_feature(trestbps, \"trestbps\", train_ds)\n",
    "        chol_encoded = encode_numerical_feature(chol, \"chol\", train_ds)\n",
    "        thalach_encoded = encode_numerical_feature(thalach, \"thalach\", train_ds)\n",
    "        oldpeak_encoded = encode_numerical_feature(oldpeak, \"oldpeak\", train_ds)\n",
    "        slope_encoded = encode_numerical_feature(slope, \"slope\", train_ds)\n",
    "\n",
    "        all_features = tfk.layers.concatenate(\n",
    "            [\n",
    "                sex_encoded,\n",
    "                cp_encoded,\n",
    "                fbs_encoded,\n",
    "                restecg_encoded,\n",
    "                exang_encoded,\n",
    "                slope_encoded,\n",
    "                ca_encoded,\n",
    "                thal_encoded,\n",
    "                age_encoded,\n",
    "                trestbps_encoded,\n",
    "                chol_encoded,\n",
    "                thalach_encoded,\n",
    "                oldpeak_encoded,\n",
    "            ]\n",
    "        )\n",
    "        x = tfk.layers.Dense(config[\"units\"], activation=config[\"activation\"])(\n",
    "            all_features\n",
    "        )\n",
    "        x = tfk.layers.Dropout(config[\"dropout_rate\"])(x)\n",
    "        output = tfk.layers.Dense(1, activation=\"sigmoid\")(x)\n",
    "        model = tfk.Model(all_inputs, output)\n",
    "\n",
    "        optimizer = tfk.optimizers.Adam(learning_rate=config[\"learning_rate\"])\n",
    "        model.compile(optimizer, \"binary_crossentropy\", metrics=[\"accuracy\"])\n",
    "        \n",
    "        stopper_callback = TFKerasStopperCallback(\n",
    "            job, \n",
    "            monitor=\"val_accuracy\", \n",
    "            mode=\"max\"\n",
    "        )\n",
    "\n",
    "        history = model.fit(\n",
    "                train_ds, \n",
    "                epochs=100, \n",
    "                validation_data=val_ds, \n",
    "                verbose=0,\n",
    "                callbacks=[stopper_callback]\n",
    "            )\n",
    "        return history, stopper_callback.budget\n",
    "\n",
    "    try:\n",
    "        history, budget = create_and_fit_model()        \n",
    "    except:\n",
    "        class History:\n",
    "            history = {\n",
    "                \"accuracy\": None,\n",
    "                \"val_accuracy\": [\"F_fit\"],\n",
    "                \"loss\": None,\n",
    "                \"val_loss\": None,\n",
    "            }\n",
    "\n",
    "        history, budget = History(), 0\n",
    "    \n",
    "    \n",
    "    objective = history.history[\"val_accuracy\"][-1]\n",
    "    metadata = {\n",
    "        \"loss\": history.history[\"loss\"],\n",
    "        \"val_loss\": history.history[\"val_loss\"],\n",
    "        \"accuracy\": history.history[\"accuracy\"],\n",
    "        \"val_accuracy\": history.history[\"val_accuracy\"],\n",
    "    }\n",
    "    metadata = {k:json.dumps(v) for k,v in metadata.items()}\n",
    "    metadata[\"budget\"] = budget\n",
    "    return {\"objective\": objective, \"metadata\": metadata}"
   ]
  },
  {
   "cell_type": "markdown",
   "id": "ea800ab1",
   "metadata": {
    "id": "ea800ab1"
   },
   "source": [
    "<div class=\"alert alert-info\"> \n",
    "<b>Note</b>  \n",
    "<br>\n",
    "\n",
    "The objective maximized by DeepHyper is the `\"objective\"` value returned by the `run`-function.\n",
    "    \n",
    "</div>\n",
    "\n",
    "In this tutorial it corresponds to the validation accuracy of the last epoch of training which we retrieve in the `History` object returned by the `model.fit(...)` call.\n",
    "    \n",
    "```python\n",
    "...\n",
    "objective = history.history[\"val_accuracy\"][-1]\n",
    "...\n",
    "``` \n",
    "    \n",
    "Using an objective like `max(history.history['val_accuracy'])` can have undesired side effects.\n",
    "\n",
    "For example, it is possible that the training curves will overshoot a local maximum, resulting in a model without the capacity to flexibly adapt to new data in the future."
   ]
  },
  {
   "cell_type": "markdown",
   "id": "3ca589b5",
   "metadata": {
    "id": "3ca589b5"
   },
   "source": [
    "## Define the Hyperparameter optimization problem\n",
    "\n",
    "Hyperparameter ranges are defined using the following syntax:\n",
    "\n",
    "* Discrete integer ranges are generated from a tuple `(lower: int, upper: int)`\n",
    "* Continuous prarameters are generated from a tuple `(lower: float, upper: float)`\n",
    "* Categorical or nonordinal hyperparameter ranges can be given as a list of possible values `[val1, val2, ...]`\n"
   ]
  },
  {
   "cell_type": "code",
   "execution_count": 28,
   "id": "5813bb59",
   "metadata": {
    "ExecuteTime": {
     "end_time": "2021-10-06T14:08:50.985064Z",
     "start_time": "2021-10-06T14:08:49.770713Z"
    },
    "colab": {
     "base_uri": "https://localhost:8080/"
    },
    "id": "5813bb59",
    "outputId": "5c6260b7-2b23-4cda-a0b2-e6db07aa6177",
    "tags": []
   },
   "outputs": [
    {
     "data": {
      "text/plain": [
       "Configuration space object:\n",
       "  Hyperparameters:\n",
       "    activation, Type: Categorical, Choices: {elu, gelu, hard_sigmoid, linear, relu, selu, sigmoid, softplus, softsign, swish, tanh}, Default: relu\n",
       "    batch_size, Type: UniformInteger, Range: [8, 256], Default: 32, on log-scale\n",
       "    dropout_rate, Type: UniformFloat, Range: [0.0, 0.6], Default: 0.5\n",
       "    learning_rate, Type: UniformFloat, Range: [1e-05, 0.01], Default: 0.001, on log-scale\n",
       "    units, Type: UniformInteger, Range: [8, 128], Default: 32"
      ]
     },
     "execution_count": 28,
     "metadata": {},
     "output_type": "execute_result"
    }
   ],
   "source": [
    "from deephyper.hpo import HpProblem\n",
    "\n",
    "\n",
    "# Creation of an hyperparameter problem\n",
    "problem = HpProblem()\n",
    "\n",
    "# Discrete hyperparameter (sampled with uniform prior)\n",
    "problem.add_hyperparameter((8, 128), \"units\", default_value=32)\n",
    "\n",
    "\n",
    "# Categorical hyperparameter (sampled with uniform prior)\n",
    "ACTIVATIONS = [\n",
    "    \"elu\", \"gelu\", \"hard_sigmoid\", \"linear\", \"relu\", \"selu\",\n",
    "    \"sigmoid\", \"softplus\", \"softsign\", \"swish\", \"tanh\",\n",
    "]\n",
    "problem.add_hyperparameter(ACTIVATIONS, \"activation\", default_value=\"relu\")\n",
    "\n",
    "\n",
    "# Real hyperparameter (sampled with uniform prior)\n",
    "problem.add_hyperparameter((0.0, 0.6), \"dropout_rate\", default_value=0.5)\n",
    "\n",
    "\n",
    "# Discrete and Real hyperparameters (sampled with log-uniform)\n",
    "problem.add_hyperparameter((8, 256, \"log-uniform\"), \"batch_size\", default_value=32)\n",
    "problem.add_hyperparameter((1e-5, 1e-2, \"log-uniform\"), \"learning_rate\", default_value=1e-3)\n",
    "\n",
    "problem"
   ]
  },
  {
   "cell_type": "markdown",
   "id": "9f1719e4",
   "metadata": {
    "id": "9f1719e4"
   },
   "source": [
    "## Evaluate a default configuration\n",
    "\n",
    "We evaluate the performance of the default set of hyperparameters provided in the Keras tutorial."
   ]
  },
  {
   "cell_type": "code",
   "execution_count": 29,
   "id": "5ab7ab0c",
   "metadata": {
    "ExecuteTime": {
     "end_time": "2021-10-06T14:08:49.765740Z",
     "start_time": "2021-10-06T14:08:29.330155Z"
    },
    "colab": {
     "base_uri": "https://localhost:8080/"
    },
    "id": "5ab7ab0c",
    "outputId": "52c639e6-33bd-43bb-8aea-6d1ba1036f60",
    "scrolled": true,
    "tags": []
   },
   "outputs": [
    {
     "name": "stdout",
     "output_type": "stream",
     "text": [
      "Accuracy of the default configuration is 0.787 with a budget of 100 epochs.\n"
     ]
    },
    {
     "data": {
      "text/plain": [
       "{'output': {'objective': 0.7868852615356445,\n",
       "  'metadata': {'loss': '[0.8586015105247498, 0.7996073365211487, 0.7143529653549194, 0.7026970982551575, 0.6131916046142578, 0.5995704531669617, 0.5482029318809509, 0.5406618714332581, 0.5241131782531738, 0.524106502532959, 0.49953699111938477, 0.48616209626197815, 0.4766983389854431, 0.4396292269229889, 0.42282265424728394, 0.4252450466156006, 0.42260438203811646, 0.40739893913269043, 0.38850900530815125, 0.39543795585632324, 0.38968002796173096, 0.3746700584888458, 0.3902652859687805, 0.34748750925064087, 0.3520696759223938, 0.37348535656929016, 0.3489677906036377, 0.3853694796562195, 0.3613702654838562, 0.34566059708595276, 0.32275688648223877, 0.2991926074028015, 0.32832810282707214, 0.3174874782562256, 0.3352506458759308, 0.31052303314208984, 0.3016624450683594, 0.3174218535423279, 0.3001049757003784, 0.320993036031723, 0.30082637071609497, 0.30680087208747864, 0.31447672843933105, 0.28569477796554565, 0.29206568002700806, 0.31954723596572876, 0.32253536581993103, 0.30184730887413025, 0.3012655973434448, 0.2885284721851349, 0.2924761474132538, 0.27612340450286865, 0.28211188316345215, 0.27235496044158936, 0.28846436738967896, 0.29557710886001587, 0.2503412067890167, 0.27671802043914795, 0.2697695791721344, 0.270313024520874, 0.27802953124046326, 0.2447458654642105, 0.27979663014411926, 0.24681539833545685, 0.23311007022857666, 0.24984775483608246, 0.2718290090560913, 0.25780507922172546, 0.2598930597305298, 0.24725821614265442, 0.25572851300239563, 0.25640401244163513, 0.2774571478366852, 0.25011134147644043, 0.25798243284225464, 0.23662544786930084, 0.23648932576179504, 0.2736731469631195, 0.2540879547595978, 0.2552516758441925, 0.27141138911247253, 0.25138428807258606, 0.24117296934127808, 0.24266380071640015, 0.2398163378238678, 0.24061521887779236, 0.2434554100036621, 0.25063556432724, 0.24322843551635742, 0.241098552942276, 0.23228313028812408, 0.23064105212688446, 0.23888643085956573, 0.2367614358663559, 0.22047720849514008, 0.2215237319469452, 0.21931636333465576, 0.24564103782176971, 0.2615945637226105, 0.21107320487499237]',\n",
       "   'val_loss': '[0.7731939554214478, 0.7041282653808594, 0.6490469574928284, 0.6033157706260681, 0.566530704498291, 0.5350698232650757, 0.5093625783920288, 0.48751768469810486, 0.47036299109458923, 0.45570504665374756, 0.44297927618026733, 0.4324043095111847, 0.42428669333457947, 0.41646507382392883, 0.4094529449939728, 0.4042246341705322, 0.3995428681373596, 0.3959790766239166, 0.3934732675552368, 0.39177680015563965, 0.39164412021636963, 0.3913073241710663, 0.38937148451805115, 0.3881676495075226, 0.38752859830856323, 0.3878481984138489, 0.3882769048213959, 0.3893079459667206, 0.39045751094818115, 0.38898178935050964, 0.3874622583389282, 0.38792648911476135, 0.3885522484779358, 0.3897016644477844, 0.3899131417274475, 0.3892446458339691, 0.3893031179904938, 0.39050817489624023, 0.3913511037826538, 0.39246517419815063, 0.39239686727523804, 0.39178910851478577, 0.3916884958744049, 0.3904183804988861, 0.38918906450271606, 0.38943561911582947, 0.3889676630496979, 0.38773661851882935, 0.38719406723976135, 0.3878912031650543, 0.3887121081352234, 0.3896653354167938, 0.3893643915653229, 0.39059385657310486, 0.3905489444732666, 0.39046376943588257, 0.390889972448349, 0.3924510180950165, 0.3930373191833496, 0.3926296532154083, 0.3929689824581146, 0.3926841616630554, 0.39288032054901123, 0.39369523525238037, 0.3942595422267914, 0.39491453766822815, 0.3940185308456421, 0.3942662477493286, 0.39511701464653015, 0.3963031470775604, 0.39753109216690063, 0.39771392941474915, 0.3972932994365692, 0.3978917896747589, 0.39735597372055054, 0.39732155203819275, 0.3984433710575104, 0.39892396330833435, 0.39780914783477783, 0.3956872820854187, 0.3948351740837097, 0.3936671316623688, 0.39478129148483276, 0.3951336145401001, 0.3958606421947479, 0.3964930772781372, 0.3961707651615143, 0.3955737054347992, 0.3949708342552185, 0.3943345844745636, 0.39364561438560486, 0.39376264810562134, 0.3939083218574524, 0.3955366909503937, 0.39585644006729126, 0.3969064950942993, 0.3977656364440918, 0.3982703387737274, 0.39910033345222473, 0.3997335731983185]',\n",
       "   'accuracy': '[0.40082645416259766, 0.4628099203109741, 0.5454545617103577, 0.5330578684806824, 0.6404958963394165, 0.6611570119857788, 0.7479338645935059, 0.7355371713638306, 0.7355371713638306, 0.7355371713638306, 0.7479338645935059, 0.7809917330741882, 0.8140496015548706, 0.797520637512207, 0.78925621509552, 0.8181818127632141, 0.8099173307418823, 0.8223140239715576, 0.8388429880142212, 0.8264462947845459, 0.8016529083251953, 0.8305785059928894, 0.8429751992225647, 0.8512396812438965, 0.85537189245224, 0.8305785059928894, 0.8636363744735718, 0.8305785059928894, 0.8429751992225647, 0.8429751992225647, 0.8760330677032471, 0.8719007968902588, 0.8595041036605835, 0.8760330677032471, 0.8636363744735718, 0.8636363744735718, 0.8595041036605835, 0.8512396812438965, 0.8719007968902588, 0.8471074104309082, 0.8801652789115906, 0.8719007968902588, 0.8636363744735718, 0.8801652789115906, 0.8595041036605835, 0.85537189245224, 0.8636363744735718, 0.8760330677032471, 0.8636363744735718, 0.8801652789115906, 0.8801652789115906, 0.8760330677032471, 0.8719007968902588, 0.8801652789115906, 0.8636363744735718, 0.8801652789115906, 0.9173553586006165, 0.8884297609329224, 0.8636363744735718, 0.8842975497245789, 0.8966942429542542, 0.8842975497245789, 0.8842975497245789, 0.8925619721412659, 0.9049586653709412, 0.8884297609329224, 0.8760330677032471, 0.8884297609329224, 0.8966942429542542, 0.8842975497245789, 0.8760330677032471, 0.8842975497245789, 0.8719007968902588, 0.8884297609329224, 0.8966942429542542, 0.8966942429542542, 0.9173553586006165, 0.8842975497245789, 0.8884297609329224, 0.9049586653709412, 0.8595041036605835, 0.9090909361839294, 0.9173553586006165, 0.8925619721412659, 0.8966942429542542, 0.9049586653709412, 0.8760330677032471, 0.8925619721412659, 0.8925619721412659, 0.9049586653709412, 0.8884297609329224, 0.9049586653709412, 0.8925619721412659, 0.8925619721412659, 0.9214876294136047, 0.8966942429542542, 0.9049586653709412, 0.8884297609329224, 0.9008264541625977, 0.9173553586006165]',\n",
       "   'val_accuracy': '[0.31147539615631104, 0.5081967115402222, 0.688524603843689, 0.7868852615356445, 0.7868852615356445, 0.7868852615356445, 0.8032786846160889, 0.7868852615356445, 0.8032786846160889, 0.8032786846160889, 0.8032786846160889, 0.8032786846160889, 0.8032786846160889, 0.8196721076965332, 0.8196721076965332, 0.8196721076965332, 0.8196721076965332, 0.8196721076965332, 0.8196721076965332, 0.8196721076965332, 0.8196721076965332, 0.8360655903816223, 0.8360655903816223, 0.8360655903816223, 0.8360655903816223, 0.8360655903816223, 0.8360655903816223, 0.8360655903816223, 0.8360655903816223, 0.8360655903816223, 0.8360655903816223, 0.8360655903816223, 0.8360655903816223, 0.8360655903816223, 0.8360655903816223, 0.8360655903816223, 0.8360655903816223, 0.8360655903816223, 0.8360655903816223, 0.8360655903816223, 0.8360655903816223, 0.8360655903816223, 0.8360655903816223, 0.8360655903816223, 0.8360655903816223, 0.8360655903816223, 0.8360655903816223, 0.8360655903816223, 0.8196721076965332, 0.8196721076965332, 0.8196721076965332, 0.8196721076965332, 0.8196721076965332, 0.8196721076965332, 0.8196721076965332, 0.8196721076965332, 0.8196721076965332, 0.8196721076965332, 0.8196721076965332, 0.8196721076965332, 0.8032786846160889, 0.8196721076965332, 0.8196721076965332, 0.8032786846160889, 0.8032786846160889, 0.8196721076965332, 0.8032786846160889, 0.8032786846160889, 0.8032786846160889, 0.8032786846160889, 0.8032786846160889, 0.8032786846160889, 0.7868852615356445, 0.7868852615356445, 0.7868852615356445, 0.7868852615356445, 0.7868852615356445, 0.7868852615356445, 0.7868852615356445, 0.7868852615356445, 0.7868852615356445, 0.7868852615356445, 0.7868852615356445, 0.7868852615356445, 0.7868852615356445, 0.7868852615356445, 0.7868852615356445, 0.7868852615356445, 0.7868852615356445, 0.7868852615356445, 0.7868852615356445, 0.7868852615356445, 0.7868852615356445, 0.7868852615356445, 0.7868852615356445, 0.7868852615356445, 0.7868852615356445, 0.7868852615356445, 0.7868852615356445, 0.7868852615356445]',\n",
       "   'budget': 100}},\n",
       " 'metadata': {'timestamp_start': 1734356027.126697,\n",
       "  'timestamp_end': 1734356029.408076}}"
      ]
     },
     "execution_count": 29,
     "metadata": {},
     "output_type": "execute_result"
    }
   ],
   "source": [
    "out = run(RunningJob(parameters=problem.default_configuration))\n",
    "\n",
    "objective_default = out[\"output\"][\"objective\"]\n",
    "metadata_default = out[\"metadata\"].copy()\n",
    "metadata_default.update(out[\"output\"][\"metadata\"])\n",
    "    \n",
    "print(f\"Accuracy of the default configuration is {objective_default:.3f} with a budget of {metadata_default['budget']} epochs.\")\n",
    "\n",
    "out"
   ]
  },
  {
   "cell_type": "markdown",
   "id": "613067b2",
   "metadata": {
    "id": "613067b2"
   },
   "source": [
    "## Execute Multi-Fidelity Bayesian Optimization\n",
    "\n",
    "We create the CBO using the `problem` and `run`-function defined above. When directly passing the `run`-function to the search it is wrapped inside a [deephyper.evaluator.ThreadPoolEvaluator](https://deephyper.readthedocs.io/en/latest/_autosummary/deephyper.evaluator.ThreadPoolEvaluator.html) if the function is not defined as `async`. Then, we also import the [deephyper.stopper.SuccessiveHalvingStopper](https://deephyper.readthedocs.io/en/develop/_autosummary/deephyper.stopper.LCModelStopper.html#deephyper.stopper.SuccessiveHalvingStopper)."
   ]
  },
  {
   "cell_type": "code",
   "execution_count": 30,
   "id": "1e00f0f0",
   "metadata": {
    "ExecuteTime": {
     "end_time": "2021-10-06T14:08:58.089438Z",
     "start_time": "2021-10-06T14:08:58.087565Z"
    },
    "id": "1e00f0f0",
    "tags": []
   },
   "outputs": [
    {
     "name": "stderr",
     "output_type": "stream",
     "text": [
      "WARNING:root:Results file already exists, it will be renamed to /Users/romainegele/Documents/Argonne/deephyper-tutorials/tutorials/colab/HPS_basic_classification_with_tabular_with_stopper/results_20241216-143352.csv\n"
     ]
    }
   ],
   "source": [
    "from deephyper.hpo import CBO\n",
    "\n",
    "# Different stoppers can be used\n",
    "# from deephyper.stopper import SuccessiveHalvingStopper\n",
    "# from deephyper.stopper import MedianStopper\n",
    "from deephyper.stopper import LCModelStopper\n",
    "# from deephyper.stopper import ConstantStopper\n",
    "\n",
    "\n",
    "# Instanciate the search with the problem and the evaluator that we created before\n",
    "\n",
    "max_steps = 100\n",
    "# stopper = SuccessiveHalvingStopper(max_steps=100)\n",
    "# stopper = MedianStopper(max_steps=100)\n",
    "stopper = LCModelStopper(max_steps=max_steps, lc_model=\"pow3\")\n",
    "# stopper = ConstantStopper(max_steps=10)\n",
    "\n",
    "search = CBO(\n",
    "    problem,\n",
    "    run,\n",
    "    initial_points=[problem.default_configuration],\n",
    "    stopper=stopper,\n",
    "    acq_optimizer=\"mixedga\",\n",
    "    acq_optimizer_freq=1,\n",
    "    verbose=1,\n",
    ")"
   ]
  },
  {
   "cell_type": "markdown",
   "id": "5fad52a5",
   "metadata": {
    "id": "5fad52a5"
   },
   "source": [
    "<div class=\"alert alert-info\">\n",
    "    \n",
    "<b>Note</b>\n",
    "    \n",
    "All DeepHyper's search algorithm have two stopping criteria:\n",
    "    <ul> \n",
    "        <li> <code>`max_evals (int)`</code>: Defines the maximum number of evaluations that we want to perform. Default to <code>-1</code> for an infinite number.</li>\n",
    "        <li> <code>`timeout (int)`</code>: Defines a time budget (in seconds) before stopping the search. Default to <code>None</code> for an infinite time budget.</li>\n",
    "    </ul>\n",
    "    \n",
    "</div>"
   ]
  },
  {
   "cell_type": "code",
   "execution_count": 31,
   "id": "457546ce",
   "metadata": {
    "ExecuteTime": {
     "end_time": "2021-10-06T14:09:28.174734Z",
     "start_time": "2021-10-06T14:09:00.593517Z"
    },
    "colab": {
     "base_uri": "https://localhost:8080/"
    },
    "id": "457546ce",
    "outputId": "8cf5e4c3-8f17-40e7-ab55-011f30807198",
    "tags": []
   },
   "outputs": [
    {
     "data": {
      "application/vnd.jupyter.widget-view+json": {
       "model_id": "52b7a1266dbe4f3dbb9250db4c83bf46",
       "version_major": 2,
       "version_minor": 0
      },
      "text/plain": [
       "  0%|          | 0/100 [00:00<?, ?it/s]"
      ]
     },
     "metadata": {},
     "output_type": "display_data"
    }
   ],
   "source": [
    "results = search.search(max_evals=100)"
   ]
  },
  {
   "cell_type": "markdown",
   "id": "5c54414b",
   "metadata": {
    "id": "5c54414b"
   },
   "source": [
    "The returned `results` is a Pandas Dataframe where columns starting by `\"p:\"` are hyperparameters, columns starting by `\"m:\"` are additional metadata (from the user or from the `Evaluator`) as well as the `objective` value and the `job_id`:\n",
    "\n",
    "* `job_id` is a unique identifier corresponding to the order of creation of tasks.\n",
    "* `objective` is the value returned by the run-function.\n",
    "* `m:timestamp_submit` is the time (in seconds) when the task was created by the evaluator since the creation of the evaluator.\n",
    "* `m:timestamp_gather` is the time (in seconds) when the task was received after finishing by the evaluator since the creation of the evaluator.\n",
    "* `m:timestamp_start` is the time (in seconds) when the task started to run.\n",
    "* `m:timestamp_end` is the time (in seconds) when task finished to run.\n",
    "* `m:budget` is the consumed number of epoch for each evaluation."
   ]
  },
  {
   "cell_type": "code",
   "execution_count": 32,
   "id": "87bc93b8",
   "metadata": {
    "ExecuteTime": {
     "end_time": "2021-10-06T14:14:09.049833Z",
     "start_time": "2021-10-06T14:14:09.038740Z"
    },
    "colab": {
     "base_uri": "https://localhost:8080/",
     "height": 363
    },
    "id": "87bc93b8",
    "outputId": "620cd69a-c6b3-4444-bf0b-86c58dadc58f",
    "tags": []
   },
   "outputs": [
    {
     "data": {
      "text/html": [
       "<div>\n",
       "<style scoped>\n",
       "    .dataframe tbody tr th:only-of-type {\n",
       "        vertical-align: middle;\n",
       "    }\n",
       "\n",
       "    .dataframe tbody tr th {\n",
       "        vertical-align: top;\n",
       "    }\n",
       "\n",
       "    .dataframe thead th {\n",
       "        text-align: right;\n",
       "    }\n",
       "</style>\n",
       "<table border=\"1\" class=\"dataframe\">\n",
       "  <thead>\n",
       "    <tr style=\"text-align: right;\">\n",
       "      <th></th>\n",
       "      <th>p:activation</th>\n",
       "      <th>p:batch_size</th>\n",
       "      <th>p:dropout_rate</th>\n",
       "      <th>p:learning_rate</th>\n",
       "      <th>p:units</th>\n",
       "      <th>objective</th>\n",
       "      <th>job_id</th>\n",
       "      <th>job_status</th>\n",
       "      <th>m:timestamp_submit</th>\n",
       "      <th>m:timestamp_start</th>\n",
       "      <th>m:timestamp_end</th>\n",
       "      <th>m:loss</th>\n",
       "      <th>m:val_loss</th>\n",
       "      <th>m:accuracy</th>\n",
       "      <th>m:val_accuracy</th>\n",
       "      <th>m:budget</th>\n",
       "      <th>m:timestamp_gather</th>\n",
       "    </tr>\n",
       "  </thead>\n",
       "  <tbody>\n",
       "    <tr>\n",
       "      <th>0</th>\n",
       "      <td>relu</td>\n",
       "      <td>32</td>\n",
       "      <td>0.500000</td>\n",
       "      <td>0.001000</td>\n",
       "      <td>32</td>\n",
       "      <td>0.836066</td>\n",
       "      <td>0</td>\n",
       "      <td>DONE</td>\n",
       "      <td>1.456648</td>\n",
       "      <td>1.734356e+09</td>\n",
       "      <td>1.734356e+09</td>\n",
       "      <td>[0.7762918472290039, 0.7172616720199585, 0.619...</td>\n",
       "      <td>[0.6589392423629761, 0.5988807678222656, 0.551...</td>\n",
       "      <td>[0.4876033067703247, 0.5537189841270447, 0.636...</td>\n",
       "      <td>[0.6557376980781555, 0.7704917788505554, 0.770...</td>\n",
       "      <td>27</td>\n",
       "      <td>20.899885</td>\n",
       "    </tr>\n",
       "    <tr>\n",
       "      <th>1</th>\n",
       "      <td>linear</td>\n",
       "      <td>59</td>\n",
       "      <td>0.339804</td>\n",
       "      <td>0.000041</td>\n",
       "      <td>107</td>\n",
       "      <td>0.344262</td>\n",
       "      <td>1</td>\n",
       "      <td>DONE</td>\n",
       "      <td>20.921772</td>\n",
       "      <td>1.734356e+09</td>\n",
       "      <td>1.734356e+09</td>\n",
       "      <td>[0.8483479619026184, 0.8746565580368042, 0.855...</td>\n",
       "      <td>[0.8820262551307678, 0.8728614449501038, 0.864...</td>\n",
       "      <td>[0.39256197214126587, 0.38842976093292236, 0.3...</td>\n",
       "      <td>[0.3442623019218445, 0.3442623019218445, 0.344...</td>\n",
       "      <td>4</td>\n",
       "      <td>22.924103</td>\n",
       "    </tr>\n",
       "    <tr>\n",
       "      <th>2</th>\n",
       "      <td>softsign</td>\n",
       "      <td>18</td>\n",
       "      <td>0.172633</td>\n",
       "      <td>0.007230</td>\n",
       "      <td>85</td>\n",
       "      <td>0.803279</td>\n",
       "      <td>2</td>\n",
       "      <td>DONE</td>\n",
       "      <td>22.941753</td>\n",
       "      <td>1.734356e+09</td>\n",
       "      <td>1.734356e+09</td>\n",
       "      <td>[0.46248531341552734, 0.31250038743019104, 0.2...</td>\n",
       "      <td>[0.39278772473335266, 0.43497249484062195, 0.4...</td>\n",
       "      <td>[0.7520661354064941, 0.8801652789115906, 0.884...</td>\n",
       "      <td>[0.8360655903816223, 0.8360655903816223, 0.819...</td>\n",
       "      <td>24</td>\n",
       "      <td>40.662046</td>\n",
       "    </tr>\n",
       "    <tr>\n",
       "      <th>3</th>\n",
       "      <td>softplus</td>\n",
       "      <td>12</td>\n",
       "      <td>0.359155</td>\n",
       "      <td>0.002343</td>\n",
       "      <td>128</td>\n",
       "      <td>0.819672</td>\n",
       "      <td>3</td>\n",
       "      <td>DONE</td>\n",
       "      <td>40.680685</td>\n",
       "      <td>1.734356e+09</td>\n",
       "      <td>1.734356e+09</td>\n",
       "      <td>[0.6305540204048157, 0.4230377972126007, 0.357...</td>\n",
       "      <td>[0.38072243332862854, 0.3694585859775543, 0.37...</td>\n",
       "      <td>[0.6818181872367859, 0.7851239442825317, 0.830...</td>\n",
       "      <td>[0.8196721076965332, 0.8360655903816223, 0.868...</td>\n",
       "      <td>28</td>\n",
       "      <td>60.472700</td>\n",
       "    </tr>\n",
       "    <tr>\n",
       "      <th>4</th>\n",
       "      <td>swish</td>\n",
       "      <td>38</td>\n",
       "      <td>0.086987</td>\n",
       "      <td>0.006820</td>\n",
       "      <td>59</td>\n",
       "      <td>0.770492</td>\n",
       "      <td>4</td>\n",
       "      <td>DONE</td>\n",
       "      <td>60.490338</td>\n",
       "      <td>1.734356e+09</td>\n",
       "      <td>1.734356e+09</td>\n",
       "      <td>[0.46736523509025574, 0.33972206711769104, 0.3...</td>\n",
       "      <td>[0.4054938852787018, 0.42384105920791626, 0.47...</td>\n",
       "      <td>[0.8057851195335388, 0.85537189245224, 0.87190...</td>\n",
       "      <td>[0.7868852615356445, 0.8196721076965332, 0.836...</td>\n",
       "      <td>28</td>\n",
       "      <td>79.979665</td>\n",
       "    </tr>\n",
       "    <tr>\n",
       "      <th>...</th>\n",
       "      <td>...</td>\n",
       "      <td>...</td>\n",
       "      <td>...</td>\n",
       "      <td>...</td>\n",
       "      <td>...</td>\n",
       "      <td>...</td>\n",
       "      <td>...</td>\n",
       "      <td>...</td>\n",
       "      <td>...</td>\n",
       "      <td>...</td>\n",
       "      <td>...</td>\n",
       "      <td>...</td>\n",
       "      <td>...</td>\n",
       "      <td>...</td>\n",
       "      <td>...</td>\n",
       "      <td>...</td>\n",
       "      <td>...</td>\n",
       "    </tr>\n",
       "    <tr>\n",
       "      <th>95</th>\n",
       "      <td>linear</td>\n",
       "      <td>19</td>\n",
       "      <td>0.447234</td>\n",
       "      <td>0.000349</td>\n",
       "      <td>98</td>\n",
       "      <td>0.770492</td>\n",
       "      <td>95</td>\n",
       "      <td>DONE</td>\n",
       "      <td>1362.685955</td>\n",
       "      <td>1.734357e+09</td>\n",
       "      <td>1.734357e+09</td>\n",
       "      <td>[0.5967637300491333, 0.5458529591560364, 0.484...</td>\n",
       "      <td>[0.5172630548477173, 0.4642651081085205, 0.431...</td>\n",
       "      <td>[0.6859503984451294, 0.7355371713638306, 0.785...</td>\n",
       "      <td>[0.8196721076965332, 0.8032786846160889, 0.770...</td>\n",
       "      <td>4</td>\n",
       "      <td>1364.798876</td>\n",
       "    </tr>\n",
       "    <tr>\n",
       "      <th>96</th>\n",
       "      <td>selu</td>\n",
       "      <td>28</td>\n",
       "      <td>0.558953</td>\n",
       "      <td>0.000982</td>\n",
       "      <td>29</td>\n",
       "      <td>0.590164</td>\n",
       "      <td>96</td>\n",
       "      <td>DONE</td>\n",
       "      <td>1365.587112</td>\n",
       "      <td>1.734357e+09</td>\n",
       "      <td>1.734357e+09</td>\n",
       "      <td>[1.0907986164093018, 0.9619468450546265]</td>\n",
       "      <td>[0.8274208903312683, 0.6619265079498291]</td>\n",
       "      <td>[0.45041322708129883, 0.46694216132164]</td>\n",
       "      <td>[0.4754098355770111, 0.5901639461517334]</td>\n",
       "      <td>2</td>\n",
       "      <td>1366.761830</td>\n",
       "    </tr>\n",
       "    <tr>\n",
       "      <th>97</th>\n",
       "      <td>relu</td>\n",
       "      <td>27</td>\n",
       "      <td>0.506526</td>\n",
       "      <td>0.000915</td>\n",
       "      <td>22</td>\n",
       "      <td>0.278689</td>\n",
       "      <td>97</td>\n",
       "      <td>DONE</td>\n",
       "      <td>1367.168971</td>\n",
       "      <td>1.734357e+09</td>\n",
       "      <td>1.734357e+09</td>\n",
       "      <td>[0.7771559953689575]</td>\n",
       "      <td>[0.7669252157211304]</td>\n",
       "      <td>[0.46694216132164]</td>\n",
       "      <td>[0.2786885201931]</td>\n",
       "      <td>1</td>\n",
       "      <td>1368.319722</td>\n",
       "    </tr>\n",
       "    <tr>\n",
       "      <th>98</th>\n",
       "      <td>selu</td>\n",
       "      <td>28</td>\n",
       "      <td>0.500093</td>\n",
       "      <td>0.000781</td>\n",
       "      <td>30</td>\n",
       "      <td>0.803279</td>\n",
       "      <td>98</td>\n",
       "      <td>DONE</td>\n",
       "      <td>1369.933016</td>\n",
       "      <td>1.734357e+09</td>\n",
       "      <td>1.734357e+09</td>\n",
       "      <td>[0.7261590957641602, 0.5956395268440247, 0.558...</td>\n",
       "      <td>[0.5315390229225159, 0.47919774055480957, 0.44...</td>\n",
       "      <td>[0.6033057570457458, 0.7231404781341553, 0.702...</td>\n",
       "      <td>[0.8032786846160889, 0.8032786846160889, 0.803...</td>\n",
       "      <td>4</td>\n",
       "      <td>1372.021728</td>\n",
       "    </tr>\n",
       "    <tr>\n",
       "      <th>99</th>\n",
       "      <td>selu</td>\n",
       "      <td>29</td>\n",
       "      <td>0.472267</td>\n",
       "      <td>0.000967</td>\n",
       "      <td>30</td>\n",
       "      <td>0.803279</td>\n",
       "      <td>99</td>\n",
       "      <td>DONE</td>\n",
       "      <td>1373.452655</td>\n",
       "      <td>1.734357e+09</td>\n",
       "      <td>1.734357e+09</td>\n",
       "      <td>[0.6962501406669617, 0.6005415320396423, 0.510...</td>\n",
       "      <td>[0.4966993033885956, 0.4508146047592163, 0.427...</td>\n",
       "      <td>[0.6487603187561035, 0.7190082669258118, 0.764...</td>\n",
       "      <td>[0.8360655903816223, 0.8196721076965332, 0.819...</td>\n",
       "      <td>4</td>\n",
       "      <td>1375.494688</td>\n",
       "    </tr>\n",
       "  </tbody>\n",
       "</table>\n",
       "<p>100 rows × 17 columns</p>\n",
       "</div>"
      ],
      "text/plain": [
       "   p:activation  p:batch_size  p:dropout_rate  p:learning_rate  p:units  \\\n",
       "0          relu            32        0.500000         0.001000       32   \n",
       "1        linear            59        0.339804         0.000041      107   \n",
       "2      softsign            18        0.172633         0.007230       85   \n",
       "3      softplus            12        0.359155         0.002343      128   \n",
       "4         swish            38        0.086987         0.006820       59   \n",
       "..          ...           ...             ...              ...      ...   \n",
       "95       linear            19        0.447234         0.000349       98   \n",
       "96         selu            28        0.558953         0.000982       29   \n",
       "97         relu            27        0.506526         0.000915       22   \n",
       "98         selu            28        0.500093         0.000781       30   \n",
       "99         selu            29        0.472267         0.000967       30   \n",
       "\n",
       "    objective  job_id job_status  m:timestamp_submit  m:timestamp_start  \\\n",
       "0    0.836066       0       DONE            1.456648       1.734356e+09   \n",
       "1    0.344262       1       DONE           20.921772       1.734356e+09   \n",
       "2    0.803279       2       DONE           22.941753       1.734356e+09   \n",
       "3    0.819672       3       DONE           40.680685       1.734356e+09   \n",
       "4    0.770492       4       DONE           60.490338       1.734356e+09   \n",
       "..        ...     ...        ...                 ...                ...   \n",
       "95   0.770492      95       DONE         1362.685955       1.734357e+09   \n",
       "96   0.590164      96       DONE         1365.587112       1.734357e+09   \n",
       "97   0.278689      97       DONE         1367.168971       1.734357e+09   \n",
       "98   0.803279      98       DONE         1369.933016       1.734357e+09   \n",
       "99   0.803279      99       DONE         1373.452655       1.734357e+09   \n",
       "\n",
       "    m:timestamp_end                                             m:loss  \\\n",
       "0      1.734356e+09  [0.7762918472290039, 0.7172616720199585, 0.619...   \n",
       "1      1.734356e+09  [0.8483479619026184, 0.8746565580368042, 0.855...   \n",
       "2      1.734356e+09  [0.46248531341552734, 0.31250038743019104, 0.2...   \n",
       "3      1.734356e+09  [0.6305540204048157, 0.4230377972126007, 0.357...   \n",
       "4      1.734356e+09  [0.46736523509025574, 0.33972206711769104, 0.3...   \n",
       "..              ...                                                ...   \n",
       "95     1.734357e+09  [0.5967637300491333, 0.5458529591560364, 0.484...   \n",
       "96     1.734357e+09           [1.0907986164093018, 0.9619468450546265]   \n",
       "97     1.734357e+09                               [0.7771559953689575]   \n",
       "98     1.734357e+09  [0.7261590957641602, 0.5956395268440247, 0.558...   \n",
       "99     1.734357e+09  [0.6962501406669617, 0.6005415320396423, 0.510...   \n",
       "\n",
       "                                           m:val_loss  \\\n",
       "0   [0.6589392423629761, 0.5988807678222656, 0.551...   \n",
       "1   [0.8820262551307678, 0.8728614449501038, 0.864...   \n",
       "2   [0.39278772473335266, 0.43497249484062195, 0.4...   \n",
       "3   [0.38072243332862854, 0.3694585859775543, 0.37...   \n",
       "4   [0.4054938852787018, 0.42384105920791626, 0.47...   \n",
       "..                                                ...   \n",
       "95  [0.5172630548477173, 0.4642651081085205, 0.431...   \n",
       "96           [0.8274208903312683, 0.6619265079498291]   \n",
       "97                               [0.7669252157211304]   \n",
       "98  [0.5315390229225159, 0.47919774055480957, 0.44...   \n",
       "99  [0.4966993033885956, 0.4508146047592163, 0.427...   \n",
       "\n",
       "                                           m:accuracy  \\\n",
       "0   [0.4876033067703247, 0.5537189841270447, 0.636...   \n",
       "1   [0.39256197214126587, 0.38842976093292236, 0.3...   \n",
       "2   [0.7520661354064941, 0.8801652789115906, 0.884...   \n",
       "3   [0.6818181872367859, 0.7851239442825317, 0.830...   \n",
       "4   [0.8057851195335388, 0.85537189245224, 0.87190...   \n",
       "..                                                ...   \n",
       "95  [0.6859503984451294, 0.7355371713638306, 0.785...   \n",
       "96            [0.45041322708129883, 0.46694216132164]   \n",
       "97                                 [0.46694216132164]   \n",
       "98  [0.6033057570457458, 0.7231404781341553, 0.702...   \n",
       "99  [0.6487603187561035, 0.7190082669258118, 0.764...   \n",
       "\n",
       "                                       m:val_accuracy  m:budget  \\\n",
       "0   [0.6557376980781555, 0.7704917788505554, 0.770...        27   \n",
       "1   [0.3442623019218445, 0.3442623019218445, 0.344...         4   \n",
       "2   [0.8360655903816223, 0.8360655903816223, 0.819...        24   \n",
       "3   [0.8196721076965332, 0.8360655903816223, 0.868...        28   \n",
       "4   [0.7868852615356445, 0.8196721076965332, 0.836...        28   \n",
       "..                                                ...       ...   \n",
       "95  [0.8196721076965332, 0.8032786846160889, 0.770...         4   \n",
       "96           [0.4754098355770111, 0.5901639461517334]         2   \n",
       "97                                  [0.2786885201931]         1   \n",
       "98  [0.8032786846160889, 0.8032786846160889, 0.803...         4   \n",
       "99  [0.8360655903816223, 0.8196721076965332, 0.819...         4   \n",
       "\n",
       "    m:timestamp_gather  \n",
       "0            20.899885  \n",
       "1            22.924103  \n",
       "2            40.662046  \n",
       "3            60.472700  \n",
       "4            79.979665  \n",
       "..                 ...  \n",
       "95         1364.798876  \n",
       "96         1366.761830  \n",
       "97         1368.319722  \n",
       "98         1372.021728  \n",
       "99         1375.494688  \n",
       "\n",
       "[100 rows x 17 columns]"
      ]
     },
     "execution_count": 32,
     "metadata": {},
     "output_type": "execute_result"
    }
   ],
   "source": [
    "results"
   ]
  },
  {
   "cell_type": "markdown",
   "id": "53d673da",
   "metadata": {
    "id": "53d673da"
   },
   "source": [
    "Now that the search is over, let us print the best configuration found during this run."
   ]
  },
  {
   "cell_type": "code",
   "execution_count": 33,
   "id": "f906a04f",
   "metadata": {
    "ExecuteTime": {
     "end_time": "2021-10-06T14:14:10.979212Z",
     "start_time": "2021-10-06T14:14:10.975696Z"
    },
    "colab": {
     "base_uri": "https://localhost:8080/"
    },
    "id": "f906a04f",
    "outputId": "164bfe6d-df76-4258-d55d-e7d4125d5890",
    "tags": []
   },
   "outputs": [
    {
     "name": "stdout",
     "output_type": "stream",
     "text": [
      "The default configuration has an accuracy of 0.787. \n",
      "The best configuration found by DeepHyper has an accuracy 0.852, \n",
      "discovered after 155.03 secondes of search.\n",
      "\n"
     ]
    },
    {
     "data": {
      "text/plain": [
       "{'p:activation': 'hard_sigmoid',\n",
       " 'p:batch_size': 82,\n",
       " 'p:dropout_rate': 0.4126235591467216,\n",
       " 'p:learning_rate': 0.0092115321183525,\n",
       " 'p:units': 66,\n",
       " 'objective': 0.8524590134620667,\n",
       " 'job_id': 8,\n",
       " 'job_status': 'DONE',\n",
       " 'm:timestamp_submit': 144.16562676429749,\n",
       " 'm:timestamp_start': 1734356176.3988469,\n",
       " 'm:timestamp_end': 1734356187.2655392,\n",
       " 'm:loss': '[0.6404955983161926, 0.5596279501914978, 0.5096604824066162, 0.46859437227249146, 0.4367007911205292, 0.4165131747722626, 0.38263604044914246, 0.3789560794830322, 0.34091880917549133, 0.3308863341808319, 0.3304624557495117, 0.32781141996383667, 0.3071635365486145, 0.32555460929870605, 0.30638736486434937]',\n",
       " 'm:val_loss': '[0.5006539821624756, 0.44969770312309265, 0.4160424768924713, 0.39829689264297485, 0.3908998966217041, 0.3828335106372833, 0.36841049790382385, 0.3579486608505249, 0.35889461636543274, 0.366230845451355, 0.3804721534252167, 0.3914380371570587, 0.40232497453689575, 0.4068129062652588, 0.4070570766925812]',\n",
       " 'm:accuracy': '[0.6776859760284424, 0.7231404781341553, 0.7520661354064941, 0.7685950398445129, 0.78925621509552, 0.8264462947845459, 0.8305785059928894, 0.8264462947845459, 0.8223140239715576, 0.8388429880142212, 0.8429751992225647, 0.8512396812438965, 0.8719007968902588, 0.8636363744735718, 0.8595041036605835]',\n",
       " 'm:val_accuracy': '[0.7704917788505554, 0.7704917788505554, 0.7868852615356445, 0.7704917788505554, 0.8360655903816223, 0.8524590134620667, 0.8524590134620667, 0.8360655903816223, 0.8360655903816223, 0.8360655903816223, 0.8524590134620667, 0.8524590134620667, 0.8524590134620667, 0.8524590134620667, 0.8524590134620667]',\n",
       " 'm:budget': 15,\n",
       " 'm:timestamp_gather': 155.0327229499817}"
      ]
     },
     "execution_count": 33,
     "metadata": {},
     "output_type": "execute_result"
    }
   ],
   "source": [
    "i_max = results.objective.argmax()\n",
    "best_job = results.iloc[i_max].to_dict()\n",
    "\n",
    "\n",
    "print(f\"The default configuration has an accuracy of {objective_default:.3f}. \\n\" \n",
    "      f\"The best configuration found by DeepHyper has an accuracy {results['objective'].iloc[i_max]:.3f}, \\n\" \n",
    "      f\"discovered after {results['m:timestamp_gather'].iloc[i_max]:.2f} secondes of search.\\n\")\n",
    "\n",
    "best_job"
   ]
  },
  {
   "cell_type": "code",
   "execution_count": 34,
   "id": "d2163cf5",
   "metadata": {},
   "outputs": [
    {
     "data": {
      "image/png": "[encoded data removed]",
      "text/plain": [
       "<Figure size 640x480 with 1 Axes>"
      ]
     },
     "metadata": {},
     "output_type": "display_data"
    }
   ],
   "source": [
    "import matplotlib.pyplot as plt\n",
    "import numpy as np\n",
    "\n",
    "plt.figure()\n",
    "plt.plot(json.loads(metadata_default[\"val_accuracy\"]), color=\"skyblue\", label=\"Default (val)\")\n",
    "plt.plot(json.loads(metadata_default[\"accuracy\"]), color=\"skyblue\", linestyle=\"--\", label=\"Default (train)\")\n",
    "plt.plot(json.loads(best_job[\"m:val_accuracy\"]), color=\"coral\", linewidth=2, label=\"Best Job(val)\")\n",
    "plt.plot(json.loads(best_job[\"m:accuracy\"]), color=\"coral\", linestyle=\"--\", linewidth=2, label=\"Best Job (train)\")\n",
    "plt.legend()\n",
    "plt.ylim(0.5, 0.9)\n",
    "plt.grid()\n",
    "plt.show()"
   ]
  },
  {
   "cell_type": "markdown",
   "id": "32ad1f76-5d89-428b-b12d-01ed6125499d",
   "metadata": {},
   "source": [
    "We can observe an improvement of more than 3% in accuracy. We can retrieve the corresponding hyperparameter configuration with the number of epochs used for this evaluation (32)."
   ]
  },
  {
   "cell_type": "code",
   "execution_count": 39,
   "id": "3fce1a96",
   "metadata": {},
   "outputs": [
    {
     "data": {
      "image/png": "[encoded data removed]",
      "text/plain": [
       "<Figure size 4000x200 with 1 Axes>"
      ]
     },
     "metadata": {},
     "output_type": "display_data"
    }
   ],
   "source": [
    "plt.figure(figsize=(40, 2))\n",
    "cumulated_budget = 1\n",
    "for i, job in results.iterrows():\n",
    "    val_accuracy = json.loads(job[\"m:val_accuracy\"])\n",
    "    x = np.arange(len(val_accuracy)) + cumulated_budget\n",
    "    cumulated_budget += len(val_accuracy)\n",
    "    plt.plot(x, val_accuracy, label=f\"Job {i}\")\n",
    "plt.ylabel(\"Validation Accuracy\")\n",
    "plt.xlabel(\"Cumulated Epochs\")\n",
    "plt.ylim(0.75, 0.9)\n",
    "plt.grid()\n",
    "plt.show()"
   ]
  },
  {
   "cell_type": "code",
   "execution_count": null,
   "id": "228a4b68",
   "metadata": {},
   "outputs": [],
   "source": []
  }
 ],
 "metadata": {
  "colab": {
   "name": "tutorial_01.ipynb",
   "provenance": []
  },
  "kernelspec": {
   "display_name": "dh-3.12-240724",
   "language": "python",
   "name": "python3"
  },
  "language_info": {
   "codemirror_mode": {
    "name": "ipython",
    "version": 3
   },
   "file_extension": ".py",
   "mimetype": "text/x-python",
   "name": "python",
   "nbconvert_exporter": "python",
   "pygments_lexer": "ipython3",
   "version": "3.12.4"
  },
  "latex_envs": {
   "LaTeX_envs_menu_present": true,
   "autoclose": false,
   "autocomplete": true,
   "bibliofile": "biblio.bib",
   "cite_by": "apalike",
   "current_citInitial": 1,
   "eqLabelWithNumbers": true,
   "eqNumInitial": 1,
   "hotkeys": {
    "equation": ""
   },
   "labels_anchors": false,
   "latex_user_defs": false,
   "report_style_numbering": false,
   "user_envs_cfg": false
  },
  "nbTranslate": {
   "displayLangs": [
    "*"
   ],
   "hotkey": "alt-t",
   "langInMainMenu": true,
   "sourceLang": "en",
   "targetLang": "fr",
   "useGoogleTranslate": true
  },
  "toc": {
   "base_numbering": 1,
   "nav_menu": {},
   "number_sections": false,
   "sideBar": false,
   "skip_h1_title": true,
   "title_cell": "Table of Contents",
   "title_sidebar": "Contents",
   "toc_cell": true,
   "toc_position": {
    "height": "calc(100% - 180px)",
    "left": "10px",
    "top": "150px",
    "width": "165px"
   },
   "toc_section_display": false,
   "toc_window_display": false
  },
  "varInspector": {
   "cols": {
    "lenName": 16,
    "lenType": 16,
    "lenVar": 40
   },
   "kernels_config": {
    "python": {
     "delete_cmd_postfix": "",
     "delete_cmd_prefix": "del ",
     "library": "var_list.py",
     "varRefreshCmd": "print(var_dic_list())"
    },
    "r": {
     "delete_cmd_postfix": ") ",
     "delete_cmd_prefix": "rm(",
     "library": "var_list.r",
     "varRefreshCmd": "cat(var_dic_list()) "
    }
   },
   "types_to_exclude": [
    "module",
    "function",
    "builtin_function_or_method",
    "instance",
    "_Feature"
   ],
   "window_display": false
  }
 },
 "nbformat": 4,
 "nbformat_minor": 5
}
