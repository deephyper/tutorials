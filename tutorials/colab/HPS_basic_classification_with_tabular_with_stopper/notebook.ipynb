{
 "cells": [
  {
   "cell_type": "markdown",
   "id": "f7ef2e27",
   "metadata": {
    "id": "f7ef2e27"
   },
   "source": [
    "# Multi-Fidelity Hyperparameter Optimization with Keras\n",
    "\n",
    "[![Open In Colab](https://colab.research.google.com/assets/colab-badge.svg)](https://colab.research.google.com/github/deephyper/tutorials/blob/main/tutorials/colab/HPS_basic_classification_with_tabular_data/notebook.ipynb)\n",
    "\n",
    "In this tutorial we present how to use hyperparameter optimization on a basic example from the Keras documentation. We follow the previous tutorial based on the same example and add multi-fidelity to it. The purpose of multi-fidelity is to dynamically manage the budget allocated (also called fidelity) to evaluate an hyperparameter configuration. For example, when training a deep neural network the number of epochs can be continued or stopped based on currently observed performance and some policy.\n",
    "\n",
    "In DeepHyper, the multi-fidelity agent is designed separately from the hyperparameter search agent. Of course, both can communicate but from an API perspective they are different objects. The multi-fidelity agents are called `Stopper` in DeepHyper and their documentation can be found at [deephyper.stopper](https://deephyper.readthedocs.io/en/latest/_autosummary/deephyper.stopper.html). \n",
    "\n",
    "In this notebook, we will demonstrate how to use multi-fidelity inside sequential Bayesian optimization. When moving to a distributed setting, it is important to use a shared database accessible by all workers otherwise the multi-fidelity scheme may not work properly. An example, of database instanciation for parallel computing is explained in: [Introduction to Distributed Bayesian Optimization (DBO) with MPI (Communication) and Redis (Storage)](https://deephyper.readthedocs.io/en/latest/tutorials/tutorials/scripts/02_Intro_to_DBO/README.html).\n",
    "\n",
    "**Reference**:\n",
    " This tutorial is based on materials from the Keras Documentation: [Structured data classification from scratch](https://keras.io/examples/structured_data/structured_data_classification_from_scratch/)\n",
    "\n",
    "Let us start with installing DeepHyper!\n",
    "    \n",
    "<div class=\"alert alert-warning\">\n",
    "\n",
    "<b>Warning</b>\n",
    "    \n",
    "This tutorial should be run with `tensorflow>=2.6`.\n",
    "    \n",
    "</div>"
   ]
  },
  {
   "cell_type": "code",
   "execution_count": 1,
   "id": "3fdbc102-a0e1-4f83-ab59-24ff712df5f7",
   "metadata": {
    "collapsed": true,
    "jupyter": {
     "outputs_hidden": true
    },
    "tags": []
   },
   "outputs": [
    {
     "name": "stdout",
     "output_type": "stream",
     "text": [
      "0.7.0\n"
     ]
    }
   ],
   "source": [
    "# Uncomment of the following to install the required dependencies for LCModelStopper.\n",
    "#!pip install \"deephyper[jax-cpu]\"\n",
    "# or \n",
    "#!pip install \"deephyper[jax-cuda]\"\n",
    "\n",
    "import deephyper\n",
    "print(deephyper.__version__)"
   ]
  },
  {
   "cell_type": "markdown",
   "id": "38664b59",
   "metadata": {
    "id": "38664b59"
   },
   "source": [
    "<div class=\"alert alert-info\">\n",
    "    \n",
    "<b>Note</b>\n",
    "    \n",
    "The following environment variables can be used to avoid the logging of **some** Tensorflow *DEBUG*, *INFO* and *WARNING* statements.\n",
    "    \n",
    "</div>"
   ]
  },
  {
   "cell_type": "code",
   "execution_count": 2,
   "id": "320e7d27",
   "metadata": {
    "ExecuteTime": {
     "end_time": "2021-10-06T14:08:03.492690Z",
     "start_time": "2021-10-06T14:08:03.490841Z"
    },
    "id": "320e7d27",
    "tags": []
   },
   "outputs": [],
   "source": [
    "import os\n",
    "\n",
    "os.environ[\"TF_CPP_MIN_LOG_LEVEL\"] = str(4)\n",
    "os.environ[\"AUTOGRAPH_VERBOSITY\"] = str(0)"
   ]
  },
  {
   "cell_type": "markdown",
   "id": "22386d68",
   "metadata": {
    "id": "22386d68"
   },
   "source": [
    "## Imports"
   ]
  },
  {
   "cell_type": "code",
   "execution_count": 4,
   "id": "f3a37b1d",
   "metadata": {
    "ExecuteTime": {
     "end_time": "2021-10-06T14:08:06.961251Z",
     "start_time": "2021-10-06T14:08:04.788328Z"
    },
    "id": "f3a37b1d",
    "tags": []
   },
   "outputs": [],
   "source": [
    "import pandas as pd\n",
    "import tensorflow as tf\n",
    "import tf_keras as tfk\n",
    "tf.get_logger().setLevel(\"ERROR\")"
   ]
  },
  {
   "cell_type": "markdown",
   "id": "c702c644",
   "metadata": {
    "id": "c702c644"
   },
   "source": [
    "## The dataset (from Keras.io)\n",
    "\n",
    "The [dataset](https://archive.ics.uci.edu/ml/datasets/heart+Disease) is provided by the\n",
    "Cleveland Clinic Foundation for Heart Disease.\n",
    "It's a CSV file with 303 rows. Each row contains information about a patient (a\n",
    "**sample**), and each column describes an attribute of the patient (a **feature**). We\n",
    "use the features to predict whether a patient has a heart disease (**binary\n",
    "classification**).\n",
    "\n",
    "Here's the description of each feature:\n",
    "\n",
    "Column| Description| Feature Type\n",
    "------------|--------------------|----------------------\n",
    "Age | Age in years | Numerical\n",
    "Sex | (1 = male; 0 = female) | Categorical\n",
    "CP | Chest pain type (0, 1, 2, 3, 4) | Categorical\n",
    "Trestbpd | Resting blood pressure (in mm Hg on admission) | Numerical\n",
    "Chol | Serum cholesterol in mg/dl | Numerical\n",
    "FBS | fasting blood sugar in 120 mg/dl (1 = true; 0 = false) | Categorical\n",
    "RestECG | Resting electrocardiogram results (0, 1, 2) | Categorical\n",
    "Thalach | Maximum heart rate achieved | Numerical\n",
    "Exang | Exercise induced angina (1 = yes; 0 = no) | Categorical\n",
    "Oldpeak | ST depression induced by exercise relative to rest | Numerical\n",
    "Slope | Slope of the peak exercise ST segment | Numerical\n",
    "CA | Number of major vessels (0-3) colored by fluoroscopy | Both numerical & categorical\n",
    "Thal | 3 = normal; 6 = fixed defect; 7 = reversible defect | Categorical\n",
    "Target | Diagnosis of heart disease (1 = true; 0 = false) | Target"
   ]
  },
  {
   "cell_type": "code",
   "execution_count": 5,
   "id": "9499cd94",
   "metadata": {
    "ExecuteTime": {
     "end_time": "2021-10-06T14:08:19.106131Z",
     "start_time": "2021-10-06T14:08:19.102761Z"
    },
    "id": "9499cd94",
    "tags": []
   },
   "outputs": [],
   "source": [
    "def load_data():\n",
    "    file_url = \"http://storage.googleapis.com/download.tensorflow.org/data/heart.csv\"\n",
    "    dataframe = pd.read_csv(file_url)\n",
    "\n",
    "    val_dataframe = dataframe.sample(frac=0.2, random_state=1337)\n",
    "    train_dataframe = dataframe.drop(val_dataframe.index)\n",
    "\n",
    "    return train_dataframe, val_dataframe\n",
    "\n",
    "\n",
    "def dataframe_to_dataset(dataframe):\n",
    "    dataframe = dataframe.copy()\n",
    "    labels = dataframe.pop(\"target\")\n",
    "    ds = tf.data.Dataset.from_tensor_slices((dict(dataframe), labels))\n",
    "    ds = ds.shuffle(buffer_size=len(dataframe))\n",
    "    return ds"
   ]
  },
  {
   "cell_type": "markdown",
   "id": "6ceb5938",
   "metadata": {
    "id": "6ceb5938"
   },
   "source": [
    "## Preprocessing & encoding of features\n",
    "\n",
    "The next cells use `tfk.layers.Normalization()` to apply standard scaling on the features.\n",
    "\n",
    "Then, the `tfk.layers.StringLookup` and `tfk.layers.IntegerLookup` are used to encode categorical variables."
   ]
  },
  {
   "cell_type": "code",
   "execution_count": 6,
   "id": "996814d7",
   "metadata": {
    "ExecuteTime": {
     "end_time": "2021-10-06T14:08:22.308775Z",
     "start_time": "2021-10-06T14:08:22.304430Z"
    },
    "id": "996814d7",
    "tags": []
   },
   "outputs": [],
   "source": [
    "def encode_numerical_feature(feature, name, dataset):\n",
    "    # Create a Normalization layer for our feature\n",
    "    normalizer = tfk.layers.Normalization()\n",
    "\n",
    "    # Prepare a Dataset that only yields our feature\n",
    "    feature_ds = dataset.map(lambda x, y: x[name])\n",
    "    feature_ds = feature_ds.map(lambda x: tf.expand_dims(x, -1))\n",
    "\n",
    "    # Learn the statistics of the data\n",
    "    normalizer.adapt(feature_ds)\n",
    "\n",
    "    # Normalize the input feature\n",
    "    encoded_feature = normalizer(feature)\n",
    "    return encoded_feature\n",
    "\n",
    "\n",
    "def encode_categorical_feature(feature, name, dataset, is_string):\n",
    "    lookup_class = (\n",
    "        tfk.layers.StringLookup if is_string else tfk.layers.IntegerLookup\n",
    "    )\n",
    "    # Create a lookup layer which will turn strings into integer indices\n",
    "    lookup = lookup_class(output_mode=\"binary\")\n",
    "\n",
    "    # Prepare a Dataset that only yields our feature\n",
    "    feature_ds = dataset.map(lambda x, y: x[name])\n",
    "    feature_ds = feature_ds.map(lambda x: tf.expand_dims(x, -1))\n",
    "\n",
    "    # Learn the set of possible string values and assign them a fixed integer index\n",
    "    lookup.adapt(feature_ds)\n",
    "\n",
    "    # Turn the string input into integer indices\n",
    "    encoded_feature = lookup(feature)\n",
    "    return encoded_feature"
   ]
  },
  {
   "cell_type": "markdown",
   "id": "c8743319",
   "metadata": {
    "id": "c8743319"
   },
   "source": [
    "## Define the run-function with multi-fidelity\n",
    "\n",
    "The run-function defines how the objective that we want to maximize is computed. It takes a `job` (see [deephyper.evaluator.RunningJob](https://deephyper.readthedocs.io/en/latest/_autosummary/deephyper.evaluator.RunningJob.html)) as input and outputs a scaler value or dictionnary (see [deephyper.evaluator](https://deephyper.readthedocs.io/en/latest/_autosummary/deephyper.evaluator.html)). The objective is always maximized in DeepHyper. The `job.parameters` contains a suggested configuration of hyperparameters that we want to evaluate. In this example we will search for:\n",
    "\n",
    "* `units` (default value: `32`)\n",
    "* `activation` (default value: `\"relu\"`)\n",
    "* `dropout_rate` (default value: `0.5`)\n",
    "* `batch_size` (default value: `32`)\n",
    "* `learning_rate` (default value: `1e-3`)\n",
    "\n",
    "A hyperparameter value can be acessed easily in the dictionary through the corresponding key, for example `job[\"units\"]` or `job.parameters[\"units\"]` are both valid. Unlike the previous tutorial in this example we want to use multi-fidelity to dynamically choose the allocated budget of each evaluation. Therefore we use the tensorflow keras integration of stoppers `deephyper.stopper.integration.TFKerasStopperCallback`. The multi-fidelity agent will monitor the validation accuracy (`val_accuracy`) in the context of maximization. This `stopper_callback` is then added to the callbacks used by the model during the training. In order to collect more information about the execution of our job we use the `@profile` decorator on the run-function which will collect execution timings (`timestamp_start` and `timestamp_end`). We will also add `\"metadata\"` to the output of our function to know how many epochs were used to evaluate each model. To learn more about how the `@profile` decorator can be used check our tutorial on [Understanding the pros and cons of Evaluator parallel backends](https://deephyper.readthedocs.io/en/latest/tutorials/tutorials/scripts/03_Evaluators/README.html).\n",
    "\n",
    "```python\n",
    "    stopper_callback = TFKerasStopperCallback(\n",
    "        job, \n",
    "        monitor=\"val_accuracy\", \n",
    "        mode=\"max\"\n",
    "    )\n",
    "                                              \n",
    "    history = model.fit(\n",
    "        train_ds, \n",
    "        epochs=100, \n",
    "        validation_data=val_ds, \n",
    "        verbose=0,\n",
    "        callbacks=[stopper_callback]\n",
    "    )\n",
    "    \n",
    "    \n",
    "    objective = history.history[\"val_accuracy\"][-1]\n",
    "    metadata = {\"budget\": stopper_callback.budget}\n",
    "    return {\"objective\": objective, \"metadata\": metadata}\n",
    "```"
   ]
  },
  {
   "cell_type": "code",
   "execution_count": 7,
   "id": "2f99f031",
   "metadata": {
    "ExecuteTime": {
     "end_time": "2021-10-06T14:08:25.815920Z",
     "start_time": "2021-10-06T14:08:25.802830Z"
    },
    "id": "2f99f031",
    "tags": []
   },
   "outputs": [],
   "source": [
    "import json\n",
    "\n",
    "from deephyper.evaluator import profile, RunningJob\n",
    "from deephyper.stopper.integration.tf_keras2 import TFKerasStopperCallback\n",
    "\n",
    "\n",
    "@profile\n",
    "def run(job: RunningJob):\n",
    "    \n",
    "    config = job.parameters\n",
    "    \n",
    "    tf.autograph.set_verbosity(0)\n",
    "    import absl.logging\n",
    "    absl.logging.set_verbosity(absl.logging.ERROR)\n",
    "\n",
    "    # Load data and split into validation set\n",
    "    train_dataframe, val_dataframe = load_data()\n",
    "    train_ds = dataframe_to_dataset(train_dataframe)\n",
    "    val_ds = dataframe_to_dataset(val_dataframe)\n",
    "    train_ds = train_ds.batch(config[\"batch_size\"])\n",
    "    val_ds = val_ds.batch(config[\"batch_size\"])\n",
    "\n",
    "    # Categorical features encoded as integers\n",
    "    sex = tfk.Input(shape=(1,), name=\"sex\", dtype=\"int64\")\n",
    "    cp = tfk.Input(shape=(1,), name=\"cp\", dtype=\"int64\")\n",
    "    fbs = tfk.Input(shape=(1,), name=\"fbs\", dtype=\"int64\")\n",
    "    restecg = tfk.Input(shape=(1,), name=\"restecg\", dtype=\"int64\")\n",
    "    exang = tfk.Input(shape=(1,), name=\"exang\", dtype=\"int64\")\n",
    "    ca = tfk.Input(shape=(1,), name=\"ca\", dtype=\"int64\")\n",
    "\n",
    "    # Categorical feature encoded as string\n",
    "    thal = tfk.Input(shape=(1,), name=\"thal\", dtype=\"string\")\n",
    "\n",
    "    # Numerical features\n",
    "    age = tfk.Input(shape=(1,), name=\"age\")\n",
    "    trestbps = tfk.Input(shape=(1,), name=\"trestbps\")\n",
    "    chol = tfk.Input(shape=(1,), name=\"chol\")\n",
    "    thalach = tfk.Input(shape=(1,), name=\"thalach\")\n",
    "    oldpeak = tfk.Input(shape=(1,), name=\"oldpeak\")\n",
    "    slope = tfk.Input(shape=(1,), name=\"slope\")\n",
    "\n",
    "    all_inputs = [\n",
    "        sex,\n",
    "        cp,\n",
    "        fbs,\n",
    "        restecg,\n",
    "        exang,\n",
    "        ca,\n",
    "        thal,\n",
    "        age,\n",
    "        trestbps,\n",
    "        chol,\n",
    "        thalach,\n",
    "        oldpeak,\n",
    "        slope,\n",
    "    ]\n",
    "\n",
    "    # Integer categorical features\n",
    "    sex_encoded = encode_categorical_feature(sex, \"sex\", train_ds, False)\n",
    "    cp_encoded = encode_categorical_feature(cp, \"cp\", train_ds, False)\n",
    "    fbs_encoded = encode_categorical_feature(fbs, \"fbs\", train_ds, False)\n",
    "    restecg_encoded = encode_categorical_feature(restecg, \"restecg\", train_ds, False)\n",
    "    exang_encoded = encode_categorical_feature(exang, \"exang\", train_ds, False)\n",
    "    ca_encoded = encode_categorical_feature(ca, \"ca\", train_ds, False)\n",
    "\n",
    "    # String categorical features\n",
    "    thal_encoded = encode_categorical_feature(thal, \"thal\", train_ds, True)\n",
    "\n",
    "    # Numerical features\n",
    "    age_encoded = encode_numerical_feature(age, \"age\", train_ds)\n",
    "    trestbps_encoded = encode_numerical_feature(trestbps, \"trestbps\", train_ds)\n",
    "    chol_encoded = encode_numerical_feature(chol, \"chol\", train_ds)\n",
    "    thalach_encoded = encode_numerical_feature(thalach, \"thalach\", train_ds)\n",
    "    oldpeak_encoded = encode_numerical_feature(oldpeak, \"oldpeak\", train_ds)\n",
    "    slope_encoded = encode_numerical_feature(slope, \"slope\", train_ds)\n",
    "\n",
    "    all_features = tfk.layers.concatenate(\n",
    "        [\n",
    "            sex_encoded,\n",
    "            cp_encoded,\n",
    "            fbs_encoded,\n",
    "            restecg_encoded,\n",
    "            exang_encoded,\n",
    "            slope_encoded,\n",
    "            ca_encoded,\n",
    "            thal_encoded,\n",
    "            age_encoded,\n",
    "            trestbps_encoded,\n",
    "            chol_encoded,\n",
    "            thalach_encoded,\n",
    "            oldpeak_encoded,\n",
    "        ]\n",
    "    )\n",
    "    x = tfk.layers.Dense(config[\"units\"], activation=config[\"activation\"])(\n",
    "        all_features\n",
    "    )\n",
    "    x = tfk.layers.Dropout(config[\"dropout_rate\"])(x)\n",
    "    output = tfk.layers.Dense(1, activation=\"sigmoid\")(x)\n",
    "    model = tfk.Model(all_inputs, output)\n",
    "\n",
    "    optimizer = tfk.optimizers.Adam(learning_rate=config[\"learning_rate\"])\n",
    "    model.compile(optimizer, \"binary_crossentropy\", metrics=[\"accuracy\"])\n",
    "    \n",
    "    stopper_callback = TFKerasStopperCallback(\n",
    "        job, \n",
    "        monitor=\"val_accuracy\", \n",
    "        mode=\"max\"\n",
    "    )\n",
    "                                              \n",
    "    history = model.fit(\n",
    "        train_ds, \n",
    "        epochs=100, \n",
    "        validation_data=val_ds, \n",
    "        verbose=0,\n",
    "        callbacks=[stopper_callback]\n",
    "    )\n",
    "    \n",
    "    \n",
    "    objective = history.history[\"val_accuracy\"][-1]\n",
    "    metadata = {\n",
    "        \"loss\": history.history[\"loss\"],\n",
    "        \"val_loss\": history.history[\"val_loss\"],\n",
    "        \"accuracy\": history.history[\"accuracy\"],\n",
    "        \"val_accuracy\": history.history[\"val_accuracy\"],\n",
    "    }\n",
    "    metadata = {k:json.dumps(v) for k,v in metadata.items()}\n",
    "    metadata[\"budget\"] = stopper_callback.budget\n",
    "    return {\"objective\": objective, \"metadata\": metadata}"
   ]
  },
  {
   "cell_type": "markdown",
   "id": "ea800ab1",
   "metadata": {
    "id": "ea800ab1"
   },
   "source": [
    "<div class=\"alert alert-info\"> \n",
    "<b>Note</b>  \n",
    "<br>\n",
    "\n",
    "The objective maximized by DeepHyper is the `\"objective\"` value returned by the `run`-function.\n",
    "    \n",
    "</div>\n",
    "\n",
    "In this tutorial it corresponds to the validation accuracy of the last epoch of training which we retrieve in the `History` object returned by the `model.fit(...)` call.\n",
    "    \n",
    "```python\n",
    "...\n",
    "objective = history.history[\"val_accuracy\"][-1]\n",
    "...\n",
    "``` \n",
    "    \n",
    "Using an objective like `max(history.history['val_accuracy'])` can have undesired side effects.\n",
    "\n",
    "For example, it is possible that the training curves will overshoot a local maximum, resulting in a model without the capacity to flexibly adapt to new data in the future."
   ]
  },
  {
   "cell_type": "markdown",
   "id": "3ca589b5",
   "metadata": {
    "id": "3ca589b5"
   },
   "source": [
    "## Define the Hyperparameter optimization problem\n",
    "\n",
    "Hyperparameter ranges are defined using the following syntax:\n",
    "\n",
    "* Discrete integer ranges are generated from a tuple `(lower: int, upper: int)`\n",
    "* Continuous prarameters are generated from a tuple `(lower: float, upper: float)`\n",
    "* Categorical or nonordinal hyperparameter ranges can be given as a list of possible values `[val1, val2, ...]`\n"
   ]
  },
  {
   "cell_type": "code",
   "execution_count": 8,
   "id": "5813bb59",
   "metadata": {
    "ExecuteTime": {
     "end_time": "2021-10-06T14:08:50.985064Z",
     "start_time": "2021-10-06T14:08:49.770713Z"
    },
    "colab": {
     "base_uri": "https://localhost:8080/"
    },
    "id": "5813bb59",
    "outputId": "5c6260b7-2b23-4cda-a0b2-e6db07aa6177",
    "tags": []
   },
   "outputs": [
    {
     "data": {
      "text/plain": [
       "Configuration space object:\n",
       "  Hyperparameters:\n",
       "    activation, Type: Categorical, Choices: {elu, gelu, hard_sigmoid, linear, relu, selu, sigmoid, softplus, softsign, swish, tanh}, Default: relu\n",
       "    batch_size, Type: UniformInteger, Range: [8, 256], Default: 32, on log-scale\n",
       "    dropout_rate, Type: UniformFloat, Range: [0.0, 0.6], Default: 0.5\n",
       "    learning_rate, Type: UniformFloat, Range: [1e-05, 0.01], Default: 0.001, on log-scale\n",
       "    units, Type: UniformInteger, Range: [8, 128], Default: 32"
      ]
     },
     "execution_count": 8,
     "metadata": {},
     "output_type": "execute_result"
    }
   ],
   "source": [
    "from deephyper.hpo import HpProblem\n",
    "\n",
    "\n",
    "# Creation of an hyperparameter problem\n",
    "problem = HpProblem()\n",
    "\n",
    "# Discrete hyperparameter (sampled with uniform prior)\n",
    "problem.add_hyperparameter((8, 128), \"units\", default_value=32)\n",
    "\n",
    "\n",
    "# Categorical hyperparameter (sampled with uniform prior)\n",
    "ACTIVATIONS = [\n",
    "    \"elu\", \"gelu\", \"hard_sigmoid\", \"linear\", \"relu\", \"selu\",\n",
    "    \"sigmoid\", \"softplus\", \"softsign\", \"swish\", \"tanh\",\n",
    "]\n",
    "problem.add_hyperparameter(ACTIVATIONS, \"activation\", default_value=\"relu\")\n",
    "\n",
    "\n",
    "# Real hyperparameter (sampled with uniform prior)\n",
    "problem.add_hyperparameter((0.0, 0.6), \"dropout_rate\", default_value=0.5)\n",
    "\n",
    "\n",
    "# Discrete and Real hyperparameters (sampled with log-uniform)\n",
    "problem.add_hyperparameter((8, 256, \"log-uniform\"), \"batch_size\", default_value=32)\n",
    "problem.add_hyperparameter((1e-5, 1e-2, \"log-uniform\"), \"learning_rate\", default_value=1e-3)\n",
    "\n",
    "problem"
   ]
  },
  {
   "cell_type": "markdown",
   "id": "9f1719e4",
   "metadata": {
    "id": "9f1719e4"
   },
   "source": [
    "## Evaluate a default configuration\n",
    "\n",
    "We evaluate the performance of the default set of hyperparameters provided in the Keras tutorial."
   ]
  },
  {
   "cell_type": "code",
   "execution_count": 11,
   "id": "5ab7ab0c",
   "metadata": {
    "ExecuteTime": {
     "end_time": "2021-10-06T14:08:49.765740Z",
     "start_time": "2021-10-06T14:08:29.330155Z"
    },
    "colab": {
     "base_uri": "https://localhost:8080/"
    },
    "id": "5ab7ab0c",
    "outputId": "52c639e6-33bd-43bb-8aea-6d1ba1036f60",
    "scrolled": true,
    "tags": []
   },
   "outputs": [
    {
     "name": "stdout",
     "output_type": "stream",
     "text": [
      "Accuracy of the default configuration is 0.803 with a budget of 100 epochs.\n"
     ]
    },
    {
     "data": {
      "text/plain": [
       "{'objective': 0.8032786846160889,\n",
       " 'metadata': {'timestamp_start': 1723023300.917484,\n",
       "  'timestamp_end': 1723023304.245575,\n",
       "  'loss': '[0.7362097501754761, 0.6697641015052795, 0.6145583987236023, 0.5789035558700562, 0.5735929012298584, 0.5361037254333496, 0.4895346164703369, 0.5042304396629333, 0.47402769327163696, 0.45491307973861694, 0.43374136090278625, 0.4440498352050781, 0.418672651052475, 0.41186368465423584, 0.3983386158943176, 0.3848767876625061, 0.3917289972305298, 0.3652024269104004, 0.3700634241104126, 0.3620007038116455, 0.3734380900859833, 0.3646697998046875, 0.3320537805557251, 0.3205015957355499, 0.3334946632385254, 0.32958391308784485, 0.35067492723464966, 0.31872624158859253, 0.3393949270248413, 0.3254067003726959, 0.30296456813812256, 0.3285101354122162, 0.3165312707424164, 0.3480093777179718, 0.28826412558555603, 0.2984684109687805, 0.32645756006240845, 0.3101368546485901, 0.3060572147369385, 0.2771577537059784, 0.2963084578514099, 0.3041466474533081, 0.28543922305107117, 0.284707635641098, 0.29369357228279114, 0.30427855253219604, 0.30413109064102173, 0.28044021129608154, 0.2996371388435364, 0.2945030927658081, 0.2586243152618408, 0.2720489799976349, 0.2733951807022095, 0.27955687046051025, 0.28663909435272217, 0.28563570976257324, 0.2620391249656677, 0.273893803358078, 0.28013136982917786, 0.2738078832626343, 0.28335413336753845, 0.2488671988248825, 0.2549560070037842, 0.2619016766548157, 0.27171993255615234, 0.277339369058609, 0.2585403025150299, 0.262858122587204, 0.2722918689250946, 0.24811166524887085, 0.2380988746881485, 0.2643204927444458, 0.24779213964939117, 0.24318984150886536, 0.24097566306591034, 0.24471470713615417, 0.2607857286930084, 0.25141987204551697, 0.2379915565252304, 0.24657601118087769, 0.24196359515190125, 0.24430648982524872, 0.23620066046714783, 0.24656501412391663, 0.2474779188632965, 0.24986279010772705, 0.24011899530887604, 0.23671112954616547, 0.25323915481567383, 0.22767837345600128, 0.23311880230903625, 0.24758678674697876, 0.23852790892124176, 0.24427704513072968, 0.21410810947418213, 0.25107890367507935, 0.19559884071350098, 0.22182036936283112, 0.22601643204689026, 0.23202036321163177]',\n",
       "  'val_loss': '[0.6455295085906982, 0.5991584062576294, 0.560170590877533, 0.5276272296905518, 0.501685380935669, 0.47898057103157043, 0.46042007207870483, 0.4438718557357788, 0.4301428198814392, 0.4183484613895416, 0.4084203839302063, 0.4002216160297394, 0.39436858892440796, 0.38866522908210754, 0.3832781910896301, 0.3796443045139313, 0.3768196403980255, 0.3739292621612549, 0.37232187390327454, 0.3706226050853729, 0.3707502484321594, 0.37057533860206604, 0.36995649337768555, 0.37037622928619385, 0.3708287179470062, 0.3707085847854614, 0.3706310987472534, 0.370749294757843, 0.37180396914482117, 0.3730737268924713, 0.37376078963279724, 0.37336060404777527, 0.3746621310710907, 0.37440037727355957, 0.37493395805358887, 0.3755328059196472, 0.376733660697937, 0.3768853545188904, 0.37783876061439514, 0.37968188524246216, 0.3792923390865326, 0.3799762725830078, 0.38036271929740906, 0.38180387020111084, 0.38214951753616333, 0.382304310798645, 0.38242384791374207, 0.38289088010787964, 0.3832620084285736, 0.38374093174934387, 0.3842427134513855, 0.3847416639328003, 0.3852810561656952, 0.38590407371520996, 0.3859555721282959, 0.38567209243774414, 0.3861357569694519, 0.38716936111450195, 0.38716623187065125, 0.3864898681640625, 0.38615065813064575, 0.38517630100250244, 0.3854430913925171, 0.38631558418273926, 0.3867291808128357, 0.3868677616119385, 0.3865642249584198, 0.38539737462997437, 0.3851871192455292, 0.3854772448539734, 0.3872523009777069, 0.3882652223110199, 0.3889208734035492, 0.39016297459602356, 0.39061862230300903, 0.3910309970378876, 0.3920229375362396, 0.39266231656074524, 0.3928360641002655, 0.3921201825141907, 0.39225485920906067, 0.39190834760665894, 0.3924153447151184, 0.39161399006843567, 0.39155566692352295, 0.3921893239021301, 0.39181259274482727, 0.39078596234321594, 0.3912161886692047, 0.3922167420387268, 0.3925633728504181, 0.39189809560775757, 0.392200767993927, 0.3929519057273865, 0.3941057026386261, 0.3953864872455597, 0.3962548077106476, 0.3974855840206146, 0.39873310923576355, 0.3991393446922302]',\n",
       "  'accuracy': '[0.4958677589893341, 0.5950413346290588, 0.6611570119857788, 0.7066115736961365, 0.7272727489471436, 0.7644628286361694, 0.7933884263038635, 0.7479338645935059, 0.7809917330741882, 0.8016529083251953, 0.78925621509552, 0.7727272510528564, 0.8099173307418823, 0.8181818127632141, 0.7933884263038635, 0.8347107172012329, 0.8223140239715576, 0.8305785059928894, 0.8140496015548706, 0.8264462947845459, 0.8223140239715576, 0.8223140239715576, 0.8636363744735718, 0.85537189245224, 0.8429751992225647, 0.8595041036605835, 0.8595041036605835, 0.8512396812438965, 0.8388429880142212, 0.8677685856819153, 0.8760330677032471, 0.85537189245224, 0.8719007968902588, 0.8305785059928894, 0.8801652789115906, 0.8842975497245789, 0.8636363744735718, 0.85537189245224, 0.8636363744735718, 0.8966942429542542, 0.8925619721412659, 0.8677685856819153, 0.8760330677032471, 0.8595041036605835, 0.8842975497245789, 0.8719007968902588, 0.8636363744735718, 0.8842975497245789, 0.8512396812438965, 0.8801652789115906, 0.8801652789115906, 0.8842975497245789, 0.8925619721412659, 0.8801652789115906, 0.8884297609329224, 0.8842975497245789, 0.9173553586006165, 0.8884297609329224, 0.8884297609329224, 0.8925619721412659, 0.8842975497245789, 0.9049586653709412, 0.8760330677032471, 0.8842975497245789, 0.8719007968902588, 0.8760330677032471, 0.8884297609329224, 0.9008264541625977, 0.8925619721412659, 0.8966942429542542, 0.8801652789115906, 0.8636363744735718, 0.8760330677032471, 0.8925619721412659, 0.8925619721412659, 0.9049586653709412, 0.8925619721412659, 0.8884297609329224, 0.8842975497245789, 0.9049586653709412, 0.9049586653709412, 0.9008264541625977, 0.913223147392273, 0.9008264541625977, 0.9008264541625977, 0.8966942429542542, 0.8925619721412659, 0.913223147392273, 0.8966942429542542, 0.9008264541625977, 0.9049586653709412, 0.8966942429542542, 0.9090909361839294, 0.913223147392273, 0.9090909361839294, 0.8884297609329224, 0.9090909361839294, 0.9090909361839294, 0.9090909361839294, 0.9008264541625977]',\n",
       "  'val_accuracy': '[0.7213114500045776, 0.7213114500045776, 0.7540983557701111, 0.7868852615356445, 0.8032786846160889, 0.8032786846160889, 0.8196721076965332, 0.8032786846160889, 0.7704917788505554, 0.8032786846160889, 0.8032786846160889, 0.8360655903816223, 0.8360655903816223, 0.8360655903816223, 0.8360655903816223, 0.8360655903816223, 0.8360655903816223, 0.8360655903816223, 0.8360655903816223, 0.8360655903816223, 0.8360655903816223, 0.8360655903816223, 0.8360655903816223, 0.8196721076965332, 0.8196721076965332, 0.8196721076965332, 0.8196721076965332, 0.8196721076965332, 0.8196721076965332, 0.8196721076965332, 0.8196721076965332, 0.8196721076965332, 0.8196721076965332, 0.8196721076965332, 0.8196721076965332, 0.8196721076965332, 0.8196721076965332, 0.8196721076965332, 0.8196721076965332, 0.8196721076965332, 0.8196721076965332, 0.8196721076965332, 0.8196721076965332, 0.8196721076965332, 0.8196721076965332, 0.8196721076965332, 0.8196721076965332, 0.8196721076965332, 0.8196721076965332, 0.8196721076965332, 0.8196721076965332, 0.8032786846160889, 0.8032786846160889, 0.8196721076965332, 0.8196721076965332, 0.8196721076965332, 0.8196721076965332, 0.8032786846160889, 0.8032786846160889, 0.8032786846160889, 0.8032786846160889, 0.8032786846160889, 0.8032786846160889, 0.8032786846160889, 0.8032786846160889, 0.8032786846160889, 0.8032786846160889, 0.8032786846160889, 0.8032786846160889, 0.8032786846160889, 0.8032786846160889, 0.8032786846160889, 0.8032786846160889, 0.8032786846160889, 0.8032786846160889, 0.8032786846160889, 0.8032786846160889, 0.8032786846160889, 0.8032786846160889, 0.8032786846160889, 0.8032786846160889, 0.8032786846160889, 0.8032786846160889, 0.8032786846160889, 0.8032786846160889, 0.8032786846160889, 0.8032786846160889, 0.8032786846160889, 0.8032786846160889, 0.8032786846160889, 0.8032786846160889, 0.8032786846160889, 0.8032786846160889, 0.8032786846160889, 0.8032786846160889, 0.8032786846160889, 0.8032786846160889, 0.8032786846160889, 0.8032786846160889, 0.8032786846160889]',\n",
       "  'budget': 100}}"
      ]
     },
     "execution_count": 11,
     "metadata": {},
     "output_type": "execute_result"
    }
   ],
   "source": [
    "out = run(RunningJob(parameters=problem.default_configuration))\n",
    "objective_default = out[\"objective\"]\n",
    "metadata_default = out[\"metadata\"]\n",
    "    \n",
    "print(f\"Accuracy of the default configuration is {objective_default:.3f} with a budget of {metadata_default['budget']} epochs.\")\n",
    "\n",
    "out"
   ]
  },
  {
   "cell_type": "markdown",
   "id": "613067b2",
   "metadata": {
    "id": "613067b2"
   },
   "source": [
    "## Execute Multi-Fidelity Bayesian Optimization\n",
    "\n",
    "We create the CBO using the `problem` and `run`-function defined above. When directly passing the `run`-function to the search it is wrapped inside a [deephyper.evaluator.SerialEvaluator](https://deephyper.readthedocs.io/en/latest/_autosummary/deephyper.evaluator.SerialEvaluator.html). Then, we also import the [deephyper.stopper.SuccessiveHalvingStopper](https://deephyper.readthedocs.io/en/develop/_autosummary/deephyper.stopper.LCModelStopper.html#deephyper.stopper.SuccessiveHalvingStopper)."
   ]
  },
  {
   "cell_type": "code",
   "execution_count": 42,
   "id": "1e00f0f0",
   "metadata": {
    "ExecuteTime": {
     "end_time": "2021-10-06T14:08:58.089438Z",
     "start_time": "2021-10-06T14:08:58.087565Z"
    },
    "id": "1e00f0f0",
    "tags": []
   },
   "outputs": [
    {
     "name": "stderr",
     "output_type": "stream",
     "text": [
      "WARNING:root:Results file already exists, it will be renamed to /Users/romainegele/Documents/Argonne/deephyper-tutorials/tutorials/colab/HPS_basic_classification_with_tabular_with_stopper/results_20240807-120514.csv\n"
     ]
    }
   ],
   "source": [
    "from deephyper.hpo import CBO\n",
    "\n",
    "# Different stoppers can be used\n",
    "# from deephyper.stopper import SuccessiveHalvingStopper\n",
    "# from deephyper.stopper import MedianStopper\n",
    "from deephyper.stopper import LCModelStopper\n",
    "# from deephyper.stopper import ConstantStopper\n",
    "\n",
    "\n",
    "# Instanciate the search with the problem and the evaluator that we created before\n",
    "\n",
    "max_steps = 100\n",
    "# stopper = SuccessiveHalvingStopper(max_steps=100)\n",
    "# stopper = MedianStopper(max_steps=100)\n",
    "stopper = LCModelStopper(max_steps=max_steps, lc_model=\"pow3\")\n",
    "# stopper = ConstantStopper(max_steps=10)\n",
    "\n",
    "search = CBO(\n",
    "    problem,\n",
    "    run,\n",
    "    initial_points=[problem.default_configuration],\n",
    "    stopper=stopper,\n",
    "    acq_optimizer=\"mixedga\",\n",
    "    acq_optimizer_freq=1,\n",
    "    verbose=1,\n",
    ")"
   ]
  },
  {
   "cell_type": "markdown",
   "id": "5fad52a5",
   "metadata": {
    "id": "5fad52a5"
   },
   "source": [
    "<div class=\"alert alert-info\">\n",
    "    \n",
    "<b>Note</b>\n",
    "    \n",
    "All DeepHyper's search algorithm have two stopping criteria:\n",
    "    <ul> \n",
    "        <li> <code>`max_evals (int)`</code>: Defines the maximum number of evaluations that we want to perform. Default to <code>-1</code> for an infinite number.</li>\n",
    "        <li> <code>`timeout (int)`</code>: Defines a time budget (in seconds) before stopping the search. Default to <code>None</code> for an infinite time budget.</li>\n",
    "    </ul>\n",
    "    \n",
    "</div>"
   ]
  },
  {
   "cell_type": "code",
   "execution_count": 43,
   "id": "457546ce",
   "metadata": {
    "ExecuteTime": {
     "end_time": "2021-10-06T14:09:28.174734Z",
     "start_time": "2021-10-06T14:09:00.593517Z"
    },
    "colab": {
     "base_uri": "https://localhost:8080/"
    },
    "id": "457546ce",
    "outputId": "8cf5e4c3-8f17-40e7-ab55-011f30807198",
    "tags": []
   },
   "outputs": [
    {
     "data": {
      "application/vnd.jupyter.widget-view+json": {
       "model_id": "4bd1cd056b39434788ddfb70a8abf0f8",
       "version_major": 2,
       "version_minor": 0
      },
      "text/plain": [
       "  0%|          | 0/100 [00:00<?, ?it/s]"
      ]
     },
     "metadata": {},
     "output_type": "display_data"
    }
   ],
   "source": [
    "results = search.search(max_evals=100)"
   ]
  },
  {
   "cell_type": "markdown",
   "id": "5c54414b",
   "metadata": {
    "id": "5c54414b"
   },
   "source": [
    "The returned `results` is a Pandas Dataframe where columns starting by `\"p:\"` are hyperparameters, columns starting by `\"m:\"` are additional metadata (from the user or from the `Evaluator`) as well as the `objective` value and the `job_id`:\n",
    "\n",
    "* `job_id` is a unique identifier corresponding to the order of creation of tasks.\n",
    "* `objective` is the value returned by the run-function.\n",
    "* `m:timestamp_submit` is the time (in seconds) when the task was created by the evaluator since the creation of the evaluator.\n",
    "* `m:timestamp_gather` is the time (in seconds) when the task was received after finishing by the evaluator since the creation of the evaluator.\n",
    "* `m:timestamp_start` is the time (in seconds) when the task started to run.\n",
    "* `m:timestamp_end` is the time (in seconds) when task finished to run.\n",
    "* `m:budget` is the consumed number of epoch for each evaluation."
   ]
  },
  {
   "cell_type": "code",
   "execution_count": 44,
   "id": "87bc93b8",
   "metadata": {
    "ExecuteTime": {
     "end_time": "2021-10-06T14:14:09.049833Z",
     "start_time": "2021-10-06T14:14:09.038740Z"
    },
    "colab": {
     "base_uri": "https://localhost:8080/",
     "height": 363
    },
    "id": "87bc93b8",
    "outputId": "620cd69a-c6b3-4444-bf0b-86c58dadc58f",
    "tags": []
   },
   "outputs": [
    {
     "data": {
      "text/html": [
       "<div>\n",
       "<style scoped>\n",
       "    .dataframe tbody tr th:only-of-type {\n",
       "        vertical-align: middle;\n",
       "    }\n",
       "\n",
       "    .dataframe tbody tr th {\n",
       "        vertical-align: top;\n",
       "    }\n",
       "\n",
       "    .dataframe thead th {\n",
       "        text-align: right;\n",
       "    }\n",
       "</style>\n",
       "<table border=\"1\" class=\"dataframe\">\n",
       "  <thead>\n",
       "    <tr style=\"text-align: right;\">\n",
       "      <th></th>\n",
       "      <th>p:activation</th>\n",
       "      <th>p:batch_size</th>\n",
       "      <th>p:dropout_rate</th>\n",
       "      <th>p:learning_rate</th>\n",
       "      <th>p:units</th>\n",
       "      <th>objective</th>\n",
       "      <th>job_id</th>\n",
       "      <th>m:timestamp_submit</th>\n",
       "      <th>m:timestamp_start</th>\n",
       "      <th>m:timestamp_end</th>\n",
       "      <th>m:loss</th>\n",
       "      <th>m:val_loss</th>\n",
       "      <th>m:accuracy</th>\n",
       "      <th>m:val_accuracy</th>\n",
       "      <th>m:budget</th>\n",
       "      <th>m:timestamp_gather</th>\n",
       "    </tr>\n",
       "  </thead>\n",
       "  <tbody>\n",
       "    <tr>\n",
       "      <th>0</th>\n",
       "      <td>relu</td>\n",
       "      <td>32</td>\n",
       "      <td>0.500000</td>\n",
       "      <td>0.001000</td>\n",
       "      <td>32</td>\n",
       "      <td>0.803279</td>\n",
       "      <td>0</td>\n",
       "      <td>1.932499</td>\n",
       "      <td>1.723025e+09</td>\n",
       "      <td>1.723025e+09</td>\n",
       "      <td>[0.6870811581611633, 0.6041032671928406, 0.588...</td>\n",
       "      <td>[0.5393993258476257, 0.49195191264152527, 0.45...</td>\n",
       "      <td>[0.5826446413993835, 0.6652892827987671, 0.690...</td>\n",
       "      <td>[0.8196721076965332, 0.8196721076965332, 0.819...</td>\n",
       "      <td>4</td>\n",
       "      <td>4.575039</td>\n",
       "    </tr>\n",
       "    <tr>\n",
       "      <th>1</th>\n",
       "      <td>gelu</td>\n",
       "      <td>115</td>\n",
       "      <td>0.005366</td>\n",
       "      <td>0.000032</td>\n",
       "      <td>36</td>\n",
       "      <td>0.262295</td>\n",
       "      <td>1</td>\n",
       "      <td>4.597510</td>\n",
       "      <td>1.723025e+09</td>\n",
       "      <td>1.723025e+09</td>\n",
       "      <td>[0.7932556867599487, 0.7905817627906799, 0.792...</td>\n",
       "      <td>[0.8366922736167908, 0.835249125957489, 0.8338...</td>\n",
       "      <td>[0.3264462947845459, 0.3264462947845459, 0.330...</td>\n",
       "      <td>[0.26229506731033325, 0.26229506731033325, 0.2...</td>\n",
       "      <td>4</td>\n",
       "      <td>6.996613</td>\n",
       "    </tr>\n",
       "    <tr>\n",
       "      <th>2</th>\n",
       "      <td>linear</td>\n",
       "      <td>69</td>\n",
       "      <td>0.233517</td>\n",
       "      <td>0.000354</td>\n",
       "      <td>96</td>\n",
       "      <td>0.836066</td>\n",
       "      <td>2</td>\n",
       "      <td>7.015395</td>\n",
       "      <td>1.723025e+09</td>\n",
       "      <td>1.723025e+09</td>\n",
       "      <td>[0.7108834981918335, 0.6619299054145813, 0.627...</td>\n",
       "      <td>[0.6106250882148743, 0.5766424536705017, 0.547...</td>\n",
       "      <td>[0.5330578684806824, 0.6363636255264282, 0.652...</td>\n",
       "      <td>[0.6721311211585999, 0.7213114500045776, 0.754...</td>\n",
       "      <td>50</td>\n",
       "      <td>45.511663</td>\n",
       "    </tr>\n",
       "    <tr>\n",
       "      <th>3</th>\n",
       "      <td>tanh</td>\n",
       "      <td>15</td>\n",
       "      <td>0.273941</td>\n",
       "      <td>0.000113</td>\n",
       "      <td>61</td>\n",
       "      <td>0.754098</td>\n",
       "      <td>3</td>\n",
       "      <td>45.530339</td>\n",
       "      <td>1.723025e+09</td>\n",
       "      <td>1.723025e+09</td>\n",
       "      <td>[0.6873517632484436, 0.6642571091651917, 0.620...</td>\n",
       "      <td>[0.6695288419723511, 0.6443946361541748, 0.623...</td>\n",
       "      <td>[0.5785123705863953, 0.6322314143180847, 0.669...</td>\n",
       "      <td>[0.6393442749977112, 0.688524603843689, 0.7049...</td>\n",
       "      <td>5</td>\n",
       "      <td>48.626558</td>\n",
       "    </tr>\n",
       "    <tr>\n",
       "      <th>4</th>\n",
       "      <td>sigmoid</td>\n",
       "      <td>18</td>\n",
       "      <td>0.166749</td>\n",
       "      <td>0.000030</td>\n",
       "      <td>119</td>\n",
       "      <td>0.229508</td>\n",
       "      <td>4</td>\n",
       "      <td>48.645619</td>\n",
       "      <td>1.723025e+09</td>\n",
       "      <td>1.723025e+09</td>\n",
       "      <td>[1.1257368326187134, 1.1016931533813477, 1.078...</td>\n",
       "      <td>[1.1645071506500244, 1.1460453271865845, 1.128...</td>\n",
       "      <td>[0.2851239740848541, 0.2851239740848541, 0.285...</td>\n",
       "      <td>[0.2295081913471222, 0.2295081913471222, 0.229...</td>\n",
       "      <td>4</td>\n",
       "      <td>50.913847</td>\n",
       "    </tr>\n",
       "    <tr>\n",
       "      <th>...</th>\n",
       "      <td>...</td>\n",
       "      <td>...</td>\n",
       "      <td>...</td>\n",
       "      <td>...</td>\n",
       "      <td>...</td>\n",
       "      <td>...</td>\n",
       "      <td>...</td>\n",
       "      <td>...</td>\n",
       "      <td>...</td>\n",
       "      <td>...</td>\n",
       "      <td>...</td>\n",
       "      <td>...</td>\n",
       "      <td>...</td>\n",
       "      <td>...</td>\n",
       "      <td>...</td>\n",
       "      <td>...</td>\n",
       "    </tr>\n",
       "    <tr>\n",
       "      <th>95</th>\n",
       "      <td>tanh</td>\n",
       "      <td>142</td>\n",
       "      <td>0.080719</td>\n",
       "      <td>0.000606</td>\n",
       "      <td>120</td>\n",
       "      <td>0.836066</td>\n",
       "      <td>95</td>\n",
       "      <td>1658.053549</td>\n",
       "      <td>1.723027e+09</td>\n",
       "      <td>1.723027e+09</td>\n",
       "      <td>[0.7016527056694031, 0.6609528660774231, 0.634...</td>\n",
       "      <td>[0.6817922592163086, 0.6379983425140381, 0.599...</td>\n",
       "      <td>[0.5537189841270447, 0.6239669322967529, 0.657...</td>\n",
       "      <td>[0.6229507923126221, 0.6557376980781555, 0.704...</td>\n",
       "      <td>15</td>\n",
       "      <td>1668.963508</td>\n",
       "    </tr>\n",
       "    <tr>\n",
       "      <th>96</th>\n",
       "      <td>swish</td>\n",
       "      <td>111</td>\n",
       "      <td>0.082582</td>\n",
       "      <td>0.000545</td>\n",
       "      <td>120</td>\n",
       "      <td>0.836066</td>\n",
       "      <td>96</td>\n",
       "      <td>1669.753532</td>\n",
       "      <td>1.723027e+09</td>\n",
       "      <td>1.723027e+09</td>\n",
       "      <td>[0.6840658187866211, 0.649455189704895, 0.6178...</td>\n",
       "      <td>[0.6673111915588379, 0.6365963816642761, 0.608...</td>\n",
       "      <td>[0.5165289044380188, 0.6280992031097412, 0.719...</td>\n",
       "      <td>[0.6229507923126221, 0.6721311211585999, 0.737...</td>\n",
       "      <td>43</td>\n",
       "      <td>1702.570466</td>\n",
       "    </tr>\n",
       "    <tr>\n",
       "      <th>97</th>\n",
       "      <td>swish</td>\n",
       "      <td>110</td>\n",
       "      <td>0.153530</td>\n",
       "      <td>0.000800</td>\n",
       "      <td>120</td>\n",
       "      <td>0.836066</td>\n",
       "      <td>97</td>\n",
       "      <td>1703.020329</td>\n",
       "      <td>1.723027e+09</td>\n",
       "      <td>1.723027e+09</td>\n",
       "      <td>[0.6909340023994446, 0.6351671814918518, 0.606...</td>\n",
       "      <td>[0.6330044269561768, 0.5874522924423218, 0.549...</td>\n",
       "      <td>[0.5619834661483765, 0.702479362487793, 0.6983...</td>\n",
       "      <td>[0.688524603843689, 0.7868852615356445, 0.8032...</td>\n",
       "      <td>43</td>\n",
       "      <td>1741.469583</td>\n",
       "    </tr>\n",
       "    <tr>\n",
       "      <th>98</th>\n",
       "      <td>softsign</td>\n",
       "      <td>133</td>\n",
       "      <td>0.083265</td>\n",
       "      <td>0.000591</td>\n",
       "      <td>120</td>\n",
       "      <td>0.852459</td>\n",
       "      <td>98</td>\n",
       "      <td>1742.164090</td>\n",
       "      <td>1.723027e+09</td>\n",
       "      <td>1.723027e+09</td>\n",
       "      <td>[0.7040019631385803, 0.6649524569511414, 0.645...</td>\n",
       "      <td>[0.6937681436538696, 0.6623088121414185, 0.633...</td>\n",
       "      <td>[0.4834710657596588, 0.5826446413993835, 0.628...</td>\n",
       "      <td>[0.5409836173057556, 0.6393442749977112, 0.704...</td>\n",
       "      <td>55</td>\n",
       "      <td>1785.587375</td>\n",
       "    </tr>\n",
       "    <tr>\n",
       "      <th>99</th>\n",
       "      <td>swish</td>\n",
       "      <td>148</td>\n",
       "      <td>0.090244</td>\n",
       "      <td>0.000581</td>\n",
       "      <td>121</td>\n",
       "      <td>0.836066</td>\n",
       "      <td>99</td>\n",
       "      <td>1786.270243</td>\n",
       "      <td>1.723027e+09</td>\n",
       "      <td>1.723027e+09</td>\n",
       "      <td>[0.6210116744041443, 0.6067328453063965, 0.590...</td>\n",
       "      <td>[0.5881870985031128, 0.5682732462882996, 0.549...</td>\n",
       "      <td>[0.7603305578231812, 0.7685950398445129, 0.731...</td>\n",
       "      <td>[0.8360655903816223, 0.8524590134620667, 0.836...</td>\n",
       "      <td>27</td>\n",
       "      <td>1805.693096</td>\n",
       "    </tr>\n",
       "  </tbody>\n",
       "</table>\n",
       "<p>100 rows × 16 columns</p>\n",
       "</div>"
      ],
      "text/plain": [
       "   p:activation  p:batch_size  p:dropout_rate  p:learning_rate  p:units  \\\n",
       "0          relu            32        0.500000         0.001000       32   \n",
       "1          gelu           115        0.005366         0.000032       36   \n",
       "2        linear            69        0.233517         0.000354       96   \n",
       "3          tanh            15        0.273941         0.000113       61   \n",
       "4       sigmoid            18        0.166749         0.000030      119   \n",
       "..          ...           ...             ...              ...      ...   \n",
       "95         tanh           142        0.080719         0.000606      120   \n",
       "96        swish           111        0.082582         0.000545      120   \n",
       "97        swish           110        0.153530         0.000800      120   \n",
       "98     softsign           133        0.083265         0.000591      120   \n",
       "99        swish           148        0.090244         0.000581      121   \n",
       "\n",
       "    objective  job_id  m:timestamp_submit  m:timestamp_start  m:timestamp_end  \\\n",
       "0    0.803279       0            1.932499       1.723025e+09     1.723025e+09   \n",
       "1    0.262295       1            4.597510       1.723025e+09     1.723025e+09   \n",
       "2    0.836066       2            7.015395       1.723025e+09     1.723025e+09   \n",
       "3    0.754098       3           45.530339       1.723025e+09     1.723025e+09   \n",
       "4    0.229508       4           48.645619       1.723025e+09     1.723025e+09   \n",
       "..        ...     ...                 ...                ...              ...   \n",
       "95   0.836066      95         1658.053549       1.723027e+09     1.723027e+09   \n",
       "96   0.836066      96         1669.753532       1.723027e+09     1.723027e+09   \n",
       "97   0.836066      97         1703.020329       1.723027e+09     1.723027e+09   \n",
       "98   0.852459      98         1742.164090       1.723027e+09     1.723027e+09   \n",
       "99   0.836066      99         1786.270243       1.723027e+09     1.723027e+09   \n",
       "\n",
       "                                               m:loss  \\\n",
       "0   [0.6870811581611633, 0.6041032671928406, 0.588...   \n",
       "1   [0.7932556867599487, 0.7905817627906799, 0.792...   \n",
       "2   [0.7108834981918335, 0.6619299054145813, 0.627...   \n",
       "3   [0.6873517632484436, 0.6642571091651917, 0.620...   \n",
       "4   [1.1257368326187134, 1.1016931533813477, 1.078...   \n",
       "..                                                ...   \n",
       "95  [0.7016527056694031, 0.6609528660774231, 0.634...   \n",
       "96  [0.6840658187866211, 0.649455189704895, 0.6178...   \n",
       "97  [0.6909340023994446, 0.6351671814918518, 0.606...   \n",
       "98  [0.7040019631385803, 0.6649524569511414, 0.645...   \n",
       "99  [0.6210116744041443, 0.6067328453063965, 0.590...   \n",
       "\n",
       "                                           m:val_loss  \\\n",
       "0   [0.5393993258476257, 0.49195191264152527, 0.45...   \n",
       "1   [0.8366922736167908, 0.835249125957489, 0.8338...   \n",
       "2   [0.6106250882148743, 0.5766424536705017, 0.547...   \n",
       "3   [0.6695288419723511, 0.6443946361541748, 0.623...   \n",
       "4   [1.1645071506500244, 1.1460453271865845, 1.128...   \n",
       "..                                                ...   \n",
       "95  [0.6817922592163086, 0.6379983425140381, 0.599...   \n",
       "96  [0.6673111915588379, 0.6365963816642761, 0.608...   \n",
       "97  [0.6330044269561768, 0.5874522924423218, 0.549...   \n",
       "98  [0.6937681436538696, 0.6623088121414185, 0.633...   \n",
       "99  [0.5881870985031128, 0.5682732462882996, 0.549...   \n",
       "\n",
       "                                           m:accuracy  \\\n",
       "0   [0.5826446413993835, 0.6652892827987671, 0.690...   \n",
       "1   [0.3264462947845459, 0.3264462947845459, 0.330...   \n",
       "2   [0.5330578684806824, 0.6363636255264282, 0.652...   \n",
       "3   [0.5785123705863953, 0.6322314143180847, 0.669...   \n",
       "4   [0.2851239740848541, 0.2851239740848541, 0.285...   \n",
       "..                                                ...   \n",
       "95  [0.5537189841270447, 0.6239669322967529, 0.657...   \n",
       "96  [0.5165289044380188, 0.6280992031097412, 0.719...   \n",
       "97  [0.5619834661483765, 0.702479362487793, 0.6983...   \n",
       "98  [0.4834710657596588, 0.5826446413993835, 0.628...   \n",
       "99  [0.7603305578231812, 0.7685950398445129, 0.731...   \n",
       "\n",
       "                                       m:val_accuracy  m:budget  \\\n",
       "0   [0.8196721076965332, 0.8196721076965332, 0.819...         4   \n",
       "1   [0.26229506731033325, 0.26229506731033325, 0.2...         4   \n",
       "2   [0.6721311211585999, 0.7213114500045776, 0.754...        50   \n",
       "3   [0.6393442749977112, 0.688524603843689, 0.7049...         5   \n",
       "4   [0.2295081913471222, 0.2295081913471222, 0.229...         4   \n",
       "..                                                ...       ...   \n",
       "95  [0.6229507923126221, 0.6557376980781555, 0.704...        15   \n",
       "96  [0.6229507923126221, 0.6721311211585999, 0.737...        43   \n",
       "97  [0.688524603843689, 0.7868852615356445, 0.8032...        43   \n",
       "98  [0.5409836173057556, 0.6393442749977112, 0.704...        55   \n",
       "99  [0.8360655903816223, 0.8524590134620667, 0.836...        27   \n",
       "\n",
       "    m:timestamp_gather  \n",
       "0             4.575039  \n",
       "1             6.996613  \n",
       "2            45.511663  \n",
       "3            48.626558  \n",
       "4            50.913847  \n",
       "..                 ...  \n",
       "95         1668.963508  \n",
       "96         1702.570466  \n",
       "97         1741.469583  \n",
       "98         1785.587375  \n",
       "99         1805.693096  \n",
       "\n",
       "[100 rows x 16 columns]"
      ]
     },
     "execution_count": 44,
     "metadata": {},
     "output_type": "execute_result"
    }
   ],
   "source": [
    "results"
   ]
  },
  {
   "cell_type": "markdown",
   "id": "53d673da",
   "metadata": {
    "id": "53d673da"
   },
   "source": [
    "Now that the search is over, let us print the best configuration found during this run."
   ]
  },
  {
   "cell_type": "code",
   "execution_count": 45,
   "id": "f906a04f",
   "metadata": {
    "ExecuteTime": {
     "end_time": "2021-10-06T14:14:10.979212Z",
     "start_time": "2021-10-06T14:14:10.975696Z"
    },
    "colab": {
     "base_uri": "https://localhost:8080/"
    },
    "id": "f906a04f",
    "outputId": "164bfe6d-df76-4258-d55d-e7d4125d5890",
    "tags": []
   },
   "outputs": [
    {
     "name": "stdout",
     "output_type": "stream",
     "text": [
      "The default configuration has an accuracy of 0.803. \n",
      "The best configuration found by DeepHyper has an accuracy 0.869, \n",
      "discovered after 334.69 secondes of search.\n",
      "\n"
     ]
    },
    {
     "data": {
      "text/plain": [
       "{'p:activation': 'swish',\n",
       " 'p:batch_size': 77,\n",
       " 'p:dropout_rate': 0.1609926444864691,\n",
       " 'p:learning_rate': 0.0023116936260455,\n",
       " 'p:units': 122,\n",
       " 'objective': 0.868852436542511,\n",
       " 'job_id': 19,\n",
       " 'm:timestamp_submit': 328.612468957901,\n",
       " 'm:timestamp_start': 1723025443.263885,\n",
       " 'm:timestamp_end': 1723025449.34447,\n",
       " 'm:loss': '[0.690102756023407, 0.5534645915031433, 0.475394070148468, 0.42763301730155945, 0.39225339889526367, 0.3725284934043884, 0.3520734906196594, 0.34315618872642517, 0.3243461847305298]',\n",
       " 'm:val_loss': '[0.5625881552696228, 0.46320250630378723, 0.4091970920562744, 0.38046151399612427, 0.364383727312088, 0.3571088910102844, 0.35642480850219727, 0.3613392114639282, 0.37086689472198486]',\n",
       " 'm:accuracy': '[0.5289255976676941, 0.7479338645935059, 0.7561983466148376, 0.7809917330741882, 0.78925621509552, 0.8181818127632141, 0.8388429880142212, 0.8512396812438965, 0.8471074104309082]',\n",
       " 'm:val_accuracy': '[0.8360655903816223, 0.8360655903816223, 0.8196721076965332, 0.7868852615356445, 0.7868852615356445, 0.7868852615356445, 0.7868852615356445, 0.8524590134620667, 0.868852436542511]',\n",
       " 'm:budget': 9,\n",
       " 'm:timestamp_gather': 334.6933629512787}"
      ]
     },
     "execution_count": 45,
     "metadata": {},
     "output_type": "execute_result"
    }
   ],
   "source": [
    "i_max = results.objective.argmax()\n",
    "best_job = results.iloc[i_max].to_dict()\n",
    "\n",
    "\n",
    "print(f\"The default configuration has an accuracy of {objective_default:.3f}. \\n\" \n",
    "      f\"The best configuration found by DeepHyper has an accuracy {results['objective'].iloc[i_max]:.3f}, \\n\" \n",
    "      f\"discovered after {results['m:timestamp_gather'].iloc[i_max]:.2f} secondes of search.\\n\")\n",
    "\n",
    "best_job"
   ]
  },
  {
   "cell_type": "code",
   "execution_count": 46,
   "id": "d2163cf5",
   "metadata": {},
   "outputs": [
    {
     "data": {
      "image/png": "[encoded data removed]",
      "text/plain": [
       "<Figure size 640x480 with 1 Axes>"
      ]
     },
     "metadata": {},
     "output_type": "display_data"
    }
   ],
   "source": [
    "import matplotlib.pyplot as plt\n",
    "import numpy as np\n",
    "\n",
    "plt.figure()\n",
    "plt.plot(json.loads(metadata_default[\"val_accuracy\"]), color=\"skyblue\", label=\"Default (val)\")\n",
    "plt.plot(json.loads(metadata_default[\"accuracy\"]), color=\"skyblue\", linestyle=\"--\", label=\"Default (train)\")\n",
    "plt.plot(json.loads(best_job[\"m:val_accuracy\"]), color=\"coral\", linewidth=2, label=\"Best Job(val)\")\n",
    "plt.plot(json.loads(best_job[\"m:accuracy\"]), color=\"coral\", linestyle=\"--\", linewidth=2, label=\"Best Job (train)\")\n",
    "plt.legend()\n",
    "plt.ylim(0.5, 0.9)\n",
    "plt.grid()\n",
    "plt.show()"
   ]
  },
  {
   "cell_type": "markdown",
   "id": "32ad1f76-5d89-428b-b12d-01ed6125499d",
   "metadata": {},
   "source": [
    "We can observe an improvement of more than 3% in accuracy. We can retrieve the corresponding hyperparameter configuration with the number of epochs used for this evaluation (32)."
   ]
  },
  {
   "cell_type": "code",
   "execution_count": 48,
   "id": "3fce1a96",
   "metadata": {},
   "outputs": [
    {
     "data": {
      "image/png": "[encoded data removed]",
      "text/plain": [
       "<Figure size 1200x200 with 1 Axes>"
      ]
     },
     "metadata": {},
     "output_type": "display_data"
    }
   ],
   "source": [
    "plt.figure(figsize=(12, 2))\n",
    "cumulated_budget = 1\n",
    "for i, job in results.iterrows():\n",
    "    val_accuracy = json.loads(job[\"m:val_accuracy\"])\n",
    "    x = np.arange(len(val_accuracy)) + cumulated_budget\n",
    "    cumulated_budget += len(val_accuracy)\n",
    "    plt.plot(x, val_accuracy, label=f\"Job {i}\")\n",
    "plt.ylabel(\"Validation Accuracy\")\n",
    "plt.xlabel(\"Cumulated Epochs\")\n",
    "plt.ylim(0.75, 0.9)\n",
    "plt.show()"
   ]
  }
 ],
 "metadata": {
  "colab": {
   "name": "tutorial_01.ipynb",
   "provenance": []
  },
  "interpreter": {
   "hash": "9dc039a2a4f4ad8a9dc018393b0776cc00e1bb4d428a37e9ad776085656c6f7f"
  },
  "kernelspec": {
   "display_name": "Python 3 (ipykernel)",
   "language": "python",
   "name": "python3"
  },
  "language_info": {
   "codemirror_mode": {
    "name": "ipython",
    "version": 3
   },
   "file_extension": ".py",
   "mimetype": "text/x-python",
   "name": "python",
   "nbconvert_exporter": "python",
   "pygments_lexer": "ipython3",
   "version": "3.12.4"
  },
  "latex_envs": {
   "LaTeX_envs_menu_present": true,
   "autoclose": false,
   "autocomplete": true,
   "bibliofile": "biblio.bib",
   "cite_by": "apalike",
   "current_citInitial": 1,
   "eqLabelWithNumbers": true,
   "eqNumInitial": 1,
   "hotkeys": {
    "equation": ""
   },
   "labels_anchors": false,
   "latex_user_defs": false,
   "report_style_numbering": false,
   "user_envs_cfg": false
  },
  "nbTranslate": {
   "displayLangs": [
    "*"
   ],
   "hotkey": "alt-t",
   "langInMainMenu": true,
   "sourceLang": "en",
   "targetLang": "fr",
   "useGoogleTranslate": true
  },
  "toc": {
   "base_numbering": 1,
   "nav_menu": {},
   "number_sections": false,
   "sideBar": false,
   "skip_h1_title": true,
   "title_cell": "Table of Contents",
   "title_sidebar": "Contents",
   "toc_cell": true,
   "toc_position": {
    "height": "calc(100% - 180px)",
    "left": "10px",
    "top": "150px",
    "width": "165px"
   },
   "toc_section_display": false,
   "toc_window_display": false
  },
  "varInspector": {
   "cols": {
    "lenName": 16,
    "lenType": 16,
    "lenVar": 40
   },
   "kernels_config": {
    "python": {
     "delete_cmd_postfix": "",
     "delete_cmd_prefix": "del ",
     "library": "var_list.py",
     "varRefreshCmd": "print(var_dic_list())"
    },
    "r": {
     "delete_cmd_postfix": ") ",
     "delete_cmd_prefix": "rm(",
     "library": "var_list.r",
     "varRefreshCmd": "cat(var_dic_list()) "
    }
   },
   "types_to_exclude": [
    "module",
    "function",
    "builtin_function_or_method",
    "instance",
    "_Feature"
   ],
   "window_display": false
  }
 },
 "nbformat": 4,
 "nbformat_minor": 5
}
