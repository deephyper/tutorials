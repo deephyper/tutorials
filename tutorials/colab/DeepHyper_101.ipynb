{
 "cells": [
  {
   "cell_type": "markdown",
   "metadata": {
    "id": "r_L60vrWwF6K"
   },
   "source": [
    "# DeepHyper 101\n",
    "\n",
    "[![Open In Colab](https://colab.research.google.com/assets/colab-badge.svg)](https://colab.research.google.com/github/deephyper/tutorials/blob/main/tutorials/colab/DeepHyper_101.ipynb)\n",
    "\n",
    "\n",
    "In this tutorial, we present the basics of DeepHyper.\n",
    "\n",
    "Let us start with installing DeepHyper!"
   ]
  },
  {
   "cell_type": "code",
   "execution_count": 1,
   "metadata": {
    "ExecuteTime": {
     "end_time": "2022-07-10T15:26:52.469250Z",
     "start_time": "2022-07-10T15:26:52.459870Z"
    },
    "id": "hfYqrnVrt2dL"
   },
   "outputs": [],
   "source": [
    "try:\n",
    "    import deephyper\n",
    "    print(deephyper.__version__)\n",
    "except (ImportError, ModuleNotFoundError):\n",
    "    !pip install deephyper"
   ]
  },
  {
   "cell_type": "markdown",
   "metadata": {
    "id": "7_q9aldNxBYi"
   },
   "source": [
    "## Optimization Problem\n",
    "\n",
    "In the definition of our optimization problem we have two components:\n",
    "\n",
    "1. black-box function that we want to optimize\n",
    "2. the search space of input variables\n",
    "\n",
    "### Black-Box Function\n",
    "\n",
    "DeepHyper is developed to optimize black-box functions. Here, we define the function $f(x) = - x ^ 2$ that we want to maximise (the maximum being $f(x=0) = 0$ on $I_x = [-10;10]$). The black-box function `f` takes as input a `config` dictionary from which we retrieve the variables of interest."
   ]
  },
  {
   "cell_type": "code",
   "execution_count": 1,
   "metadata": {
    "ExecuteTime": {
     "end_time": "2022-07-10T15:26:56.469044Z",
     "start_time": "2022-07-10T15:26:56.465982Z"
    },
    "id": "h69qB3oPt-8Q"
   },
   "outputs": [],
   "source": [
    "def f(config):\n",
    "    return - config[\"x\"]**2"
   ]
  },
  {
   "cell_type": "markdown",
   "metadata": {
    "id": "TojZXhQbyfUM"
   },
   "source": [
    "### Search Space of Input Variables\n",
    "\n",
    "In this example, we have only one variable $x$ for the black-box functin $f$. We empirically decide to optimize this variable $x$ on the interval $I_x = [-10;10]$. To do so we use the `HpProblem` from DeepHyper and add a **real** hyperparameter by using a `tuple` of two `floats`."
   ]
  },
  {
   "cell_type": "code",
   "execution_count": 2,
   "metadata": {
    "ExecuteTime": {
     "end_time": "2022-07-10T15:27:03.052006Z",
     "start_time": "2022-07-10T15:27:01.834518Z"
    },
    "colab": {
     "base_uri": "https://localhost:8080/"
    },
    "id": "l7G5OOT2uND5",
    "outputId": "c1b85bcc-b971-4175-86e0-80610a2fdc26"
   },
   "outputs": [
    {
     "data": {
      "text/plain": [
       "x, Type: UniformFloat, Range: [-10.0, 10.0], Default: 0.0"
      ]
     },
     "execution_count": 2,
     "metadata": {},
     "output_type": "execute_result"
    },
    {
     "data": {
      "text/plain": [
       "Configuration space object:\n",
       "  Hyperparameters:\n",
       "    x, Type: UniformFloat, Range: [-10.0, 10.0], Default: 0.0"
      ]
     },
     "execution_count": 2,
     "metadata": {},
     "output_type": "execute_result"
    }
   ],
   "source": [
    "from deephyper.problem import HpProblem\n",
    "\n",
    "problem = HpProblem()\n",
    "\n",
    "# define the variable you want to optimize\n",
    "problem.add_hyperparameter((-10.0, 10.0), \"x\")\n",
    "\n",
    "problem"
   ]
  },
  {
   "cell_type": "markdown",
   "metadata": {
    "id": "XSFOmHpMz3EW"
   },
   "source": [
    "## Evaluator Interface\n",
    "\n",
    "DeepHyper uses an API called `Evaluator` to distribute the computation of black-box functions and adapt to different backends (e.g., threads, processes, MPI, Ray). An `Evaluator` object wraps the black-box function `f` that we want to optimize. Then a `method` parameter is used to select the backend and `method_kwargs` defines some available options of this backend. \n",
    "\n",
    "<div class=\"alert alert-info\">\n",
    "    \n",
    "<b>Tip</b>\n",
    "    \n",
    "\n",
    "The `method=\"thread\"` provides parallel computation only if the black-box is releasing the global interpretor lock (GIL). Therefore, if you want parallelism in Jupyter notebooks you should use the Ray evaluator (`method=\"ray\"`) after installing Ray with `pip install ray`.\n",
    "</div>\n",
    "\n",
    "It is possible to define callbacks to extend the behaviour of `Evaluator` each time a function-evaluation is launched or completed. In this example we use the `TqdmCallback` to follow the completed evaluations and the evolution of the objective with a progress-bar."
   ]
  },
  {
   "cell_type": "code",
   "execution_count": 4,
   "metadata": {
    "ExecuteTime": {
     "end_time": "2022-07-10T15:27:58.321267Z",
     "start_time": "2022-07-10T15:27:57.794712Z"
    },
    "colab": {
     "base_uri": "https://localhost:8080/"
    },
    "id": "VRXubHiXuQOY",
    "outputId": "ca5fc1a4-aa21-4220-b0a9-934c9e06961b"
   },
   "outputs": [
    {
     "name": "stdout",
     "output_type": "stream",
     "text": [
      "Evaluator has 4 available workers\n"
     ]
    }
   ],
   "source": [
    "from deephyper.evaluator import Evaluator\n",
    "from deephyper.evaluator.callback import TqdmCallback\n",
    "\n",
    "\n",
    "# define the evaluator to distribute the computation\n",
    "evaluator = Evaluator.create(\n",
    "    f,\n",
    "    method=\"thread\",\n",
    "    method_kwargs={\n",
    "        \"num_workers\": 4,\n",
    "        \"callbacks\": [TqdmCallback()]\n",
    "    },\n",
    ")\n",
    "\n",
    "print(f\"Evaluator has {evaluator.num_workers} available worker{'' if evaluator.num_workers == 1 else 's'}\")"
   ]
  },
  {
   "cell_type": "markdown",
   "metadata": {
    "id": "7mxkmjXX1yWU"
   },
   "source": [
    "## Search Algorithm\n",
    "\n",
    "The next step is to define the search algorithm that we want to use. Here, we choose `CBO` (Centralized Bayesian Optimization) which is a sampling based Bayesian optimization strategy. This algorithm has the advantage of being asynchronous thanks to a constant liar strategy which is crutial to keep a good utilization of the resources when the number of available workers increases."
   ]
  },
  {
   "cell_type": "code",
   "execution_count": 5,
   "metadata": {
    "ExecuteTime": {
     "end_time": "2022-07-10T15:28:00.229252Z",
     "start_time": "2022-07-10T15:28:00.220438Z"
    },
    "id": "C2T_35WTuQZ9"
   },
   "outputs": [],
   "source": [
    "from deephyper.search.hps import CBO\n",
    "\n",
    "# define your search\n",
    "search = CBO(problem, evaluator)"
   ]
  },
  {
   "cell_type": "markdown",
   "metadata": {
    "id": "RYCy0p4A2lOo"
   },
   "source": [
    "Then, we can execute the search for a given number of iterations by using the `search.search(max_evals=...)`. It is also possible to use the `timeout` parameter if one needs a specific time budget (e.g., restricted computational time in machine learning competitions, allocation time in HPC)."
   ]
  },
  {
   "cell_type": "code",
   "execution_count": 6,
   "metadata": {
    "ExecuteTime": {
     "end_time": "2022-07-10T15:28:30.549376Z",
     "start_time": "2022-07-10T15:28:04.164846Z"
    },
    "colab": {
     "base_uri": "https://localhost:8080/"
    },
    "id": "x07fSC0zuepm",
    "outputId": "4ba089ca-6f70-4841-ee20-d7c047898ea2"
   },
   "outputs": [
    {
     "data": {
      "application/vnd.jupyter.widget-view+json": {
       "model_id": "fb0380204ea3400682876a5be5551c53",
       "version_major": 2,
       "version_minor": 0
      },
      "text/plain": [
       "  0%|          | 0/100 [00:00<?, ?it/s]"
      ]
     },
     "metadata": {},
     "output_type": "display_data"
    }
   ],
   "source": [
    "results = search.search(max_evals=100)"
   ]
  },
  {
   "cell_type": "markdown",
   "metadata": {
    "id": "P9A0fGwd37sm"
   },
   "source": [
    "Finally, let us visualize the results. The `search(...)` returns a DataFrame also saved locally under `results.csv` (in case of crash we don't want to lose the possibly expensive evaluations already performed). \n",
    "\n",
    "The DataFrame contains as columns:\n",
    "1. the optimized hyperparameters: such as `x` in our case.\n",
    "2. the `id` of each evaluated function (increased incrementally following the order of created evaluations).\n",
    "3. the `objective` **maximised** which directly match the results of the $f$-function in our example.\n",
    "4. the time of termination of each task `elapsed_sec` (in secondes, since the creation of the `Evaluator`) and the `duration` (in secondes)."
   ]
  },
  {
   "cell_type": "code",
   "execution_count": 7,
   "metadata": {
    "ExecuteTime": {
     "end_time": "2022-07-10T15:28:34.531343Z",
     "start_time": "2022-07-10T15:28:34.518321Z"
    },
    "colab": {
     "base_uri": "https://localhost:8080/",
     "height": 422
    },
    "id": "KhYxth9PvA0N",
    "outputId": "3c153e97-2b52-427e-bbf3-cd378edfd160"
   },
   "outputs": [
    {
     "data": {
      "text/html": [
       "<div>\n",
       "<style scoped>\n",
       "    .dataframe tbody tr th:only-of-type {\n",
       "        vertical-align: middle;\n",
       "    }\n",
       "\n",
       "    .dataframe tbody tr th {\n",
       "        vertical-align: top;\n",
       "    }\n",
       "\n",
       "    .dataframe thead th {\n",
       "        text-align: right;\n",
       "    }\n",
       "</style>\n",
       "<table border=\"1\" class=\"dataframe\">\n",
       "  <thead>\n",
       "    <tr style=\"text-align: right;\">\n",
       "      <th></th>\n",
       "      <th>x</th>\n",
       "      <th>job_id</th>\n",
       "      <th>objective</th>\n",
       "      <th>timestamp_submit</th>\n",
       "      <th>timestamp_gather</th>\n",
       "    </tr>\n",
       "  </thead>\n",
       "  <tbody>\n",
       "    <tr>\n",
       "      <th>0</th>\n",
       "      <td>-3.840969</td>\n",
       "      <td>2</td>\n",
       "      <td>-14.753045</td>\n",
       "      <td>5.861319</td>\n",
       "      <td>5.862471</td>\n",
       "    </tr>\n",
       "    <tr>\n",
       "      <th>1</th>\n",
       "      <td>6.186070</td>\n",
       "      <td>1</td>\n",
       "      <td>-38.267465</td>\n",
       "      <td>5.861287</td>\n",
       "      <td>5.895072</td>\n",
       "    </tr>\n",
       "    <tr>\n",
       "      <th>2</th>\n",
       "      <td>-6.119273</td>\n",
       "      <td>4</td>\n",
       "      <td>-37.445500</td>\n",
       "      <td>5.861358</td>\n",
       "      <td>5.895983</td>\n",
       "    </tr>\n",
       "    <tr>\n",
       "      <th>3</th>\n",
       "      <td>9.067119</td>\n",
       "      <td>3</td>\n",
       "      <td>-82.212652</td>\n",
       "      <td>5.861339</td>\n",
       "      <td>5.896845</td>\n",
       "    </tr>\n",
       "    <tr>\n",
       "      <th>4</th>\n",
       "      <td>1.897364</td>\n",
       "      <td>5</td>\n",
       "      <td>-3.599988</td>\n",
       "      <td>6.027563</td>\n",
       "      <td>6.030034</td>\n",
       "    </tr>\n",
       "    <tr>\n",
       "      <th>...</th>\n",
       "      <td>...</td>\n",
       "      <td>...</td>\n",
       "      <td>...</td>\n",
       "      <td>...</td>\n",
       "      <td>...</td>\n",
       "    </tr>\n",
       "    <tr>\n",
       "      <th>95</th>\n",
       "      <td>-0.118959</td>\n",
       "      <td>93</td>\n",
       "      <td>-0.014151</td>\n",
       "      <td>30.993646</td>\n",
       "      <td>30.996757</td>\n",
       "    </tr>\n",
       "    <tr>\n",
       "      <th>96</th>\n",
       "      <td>0.527272</td>\n",
       "      <td>100</td>\n",
       "      <td>-0.278015</td>\n",
       "      <td>32.219131</td>\n",
       "      <td>32.219645</td>\n",
       "    </tr>\n",
       "    <tr>\n",
       "      <th>97</th>\n",
       "      <td>0.011828</td>\n",
       "      <td>98</td>\n",
       "      <td>-0.000140</td>\n",
       "      <td>32.219110</td>\n",
       "      <td>32.220713</td>\n",
       "    </tr>\n",
       "    <tr>\n",
       "      <th>98</th>\n",
       "      <td>0.011981</td>\n",
       "      <td>97</td>\n",
       "      <td>-0.000144</td>\n",
       "      <td>32.219094</td>\n",
       "      <td>32.221567</td>\n",
       "    </tr>\n",
       "    <tr>\n",
       "      <th>99</th>\n",
       "      <td>0.528142</td>\n",
       "      <td>99</td>\n",
       "      <td>-0.278934</td>\n",
       "      <td>32.219121</td>\n",
       "      <td>32.222280</td>\n",
       "    </tr>\n",
       "  </tbody>\n",
       "</table>\n",
       "<p>100 rows × 5 columns</p>\n",
       "</div>"
      ],
      "text/plain": [
       "           x  job_id  objective  timestamp_submit  timestamp_gather\n",
       "0  -3.840969       2 -14.753045          5.861319          5.862471\n",
       "1   6.186070       1 -38.267465          5.861287          5.895072\n",
       "2  -6.119273       4 -37.445500          5.861358          5.895983\n",
       "3   9.067119       3 -82.212652          5.861339          5.896845\n",
       "4   1.897364       5  -3.599988          6.027563          6.030034\n",
       "..       ...     ...        ...               ...               ...\n",
       "95 -0.118959      93  -0.014151         30.993646         30.996757\n",
       "96  0.527272     100  -0.278015         32.219131         32.219645\n",
       "97  0.011828      98  -0.000140         32.219110         32.220713\n",
       "98  0.011981      97  -0.000144         32.219094         32.221567\n",
       "99  0.528142      99  -0.278934         32.219121         32.222280\n",
       "\n",
       "[100 rows x 5 columns]"
      ]
     },
     "execution_count": 7,
     "metadata": {},
     "output_type": "execute_result"
    }
   ],
   "source": [
    "results"
   ]
  },
  {
   "cell_type": "markdown",
   "metadata": {
    "id": "cu9hhC4J6nBx"
   },
   "source": [
    "We can also plot the evolution of the objective to verify that we converge correctly toward $0$."
   ]
  },
  {
   "cell_type": "code",
   "execution_count": 9,
   "metadata": {
    "ExecuteTime": {
     "end_time": "2022-07-10T15:28:56.870935Z",
     "start_time": "2022-07-10T15:28:56.724991Z"
    },
    "colab": {
     "base_uri": "https://localhost:8080/",
     "height": 279
    },
    "id": "q_ZA3J-F3_yn",
    "outputId": "a7da5707-83e5-4df5-dcdf-7833a4a40ba8"
   },
   "outputs": [
    {
     "data": {
      "image/png": "[encoded data removed]",
      "text/plain": [
       "<Figure size 432x288 with 1 Axes>"
      ]
     },
     "metadata": {
      "image/png": {
       "height": 261,
       "width": 392
      },
      "needs_background": "light"
     },
     "output_type": "display_data"
    }
   ],
   "source": [
    "import matplotlib.pyplot as plt\n",
    "\n",
    "_ = plt.plot(results.objective);\n",
    "\n",
    "_ = plt.xlabel(\"Iterations\");\n",
    "_ = plt.ylabel(\"$y = f(x)$\");\n",
    "plt.show()"
   ]
  },
  {
   "cell_type": "code",
   "execution_count": null,
   "metadata": {},
   "outputs": [],
   "source": []
  }
 ],
 "metadata": {
  "colab": {
   "name": "DeepHyper-101.ipynb",
   "provenance": []
  },
  "interpreter": {
   "hash": "8f7aa5824e6ca9d379f74664a810268ab519ecb598367c3fa859d49ffea41aaf"
  },
  "kernelspec": {
   "display_name": "Python (deephyper)",
   "language": "python",
   "name": "deephyper"
  },
  "language_info": {
   "codemirror_mode": {
    "name": "ipython",
    "version": 3
   },
   "file_extension": ".py",
   "mimetype": "text/x-python",
   "name": "python",
   "nbconvert_exporter": "python",
   "pygments_lexer": "ipython3",
   "version": "3.8.13"
  },
  "nbTranslate": {
   "displayLangs": [
    "*"
   ],
   "hotkey": "alt-t",
   "langInMainMenu": true,
   "sourceLang": "en",
   "targetLang": "fr",
   "useGoogleTranslate": true
  },
  "toc": {
   "base_numbering": 1,
   "nav_menu": {},
   "number_sections": true,
   "sideBar": true,
   "skip_h1_title": false,
   "title_cell": "Table of Contents",
   "title_sidebar": "Contents",
   "toc_cell": false,
   "toc_position": {},
   "toc_section_display": true,
   "toc_window_display": false
  },
  "varInspector": {
   "cols": {
    "lenName": 16,
    "lenType": 16,
    "lenVar": 40
   },
   "kernels_config": {
    "python": {
     "delete_cmd_postfix": "",
     "delete_cmd_prefix": "del ",
     "library": "var_list.py",
     "varRefreshCmd": "print(var_dic_list())"
    },
    "r": {
     "delete_cmd_postfix": ") ",
     "delete_cmd_prefix": "rm(",
     "library": "var_list.r",
     "varRefreshCmd": "cat(var_dic_list()) "
    }
   },
   "types_to_exclude": [
    "module",
    "function",
    "builtin_function_or_method",
    "instance",
    "_Feature"
   ],
   "window_display": false
  }
 },
 "nbformat": 4,
 "nbformat_minor": 1
}
