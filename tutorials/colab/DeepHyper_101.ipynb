{
 "cells": [
  {
   "cell_type": "markdown",
   "metadata": {
    "id": "r_L60vrWwF6K"
   },
   "source": [
    "# DeepHyper 101\n",
    "\n",
    "[![Open In Colab](https://colab.research.google.com/assets/colab-badge.svg)](https://colab.research.google.com/github/deephyper/tutorials/blob/main/tutorials/colab/DeepHyper_101.ipynb)\n",
    "\n",
    "\n",
    "In this tutorial, we present the basics of DeepHyper.\n",
    "\n",
    "Let us start with installing DeepHyper!"
   ]
  },
  {
   "cell_type": "code",
   "execution_count": 1,
   "metadata": {
    "ExecuteTime": {
     "end_time": "2022-07-11T11:42:10.901147Z",
     "start_time": "2022-07-11T11:42:10.890369Z"
    },
    "id": "hfYqrnVrt2dL"
   },
   "outputs": [
    {
     "name": "stdout",
     "output_type": "stream",
     "text": [
      "0.6.0\n"
     ]
    }
   ],
   "source": [
    "try:\n",
    "    import deephyper\n",
    "    print(deephyper.__version__)\n",
    "except (ImportError, ModuleNotFoundError):\n",
    "    !pip install deephyper"
   ]
  },
  {
   "cell_type": "markdown",
   "metadata": {
    "id": "7_q9aldNxBYi"
   },
   "source": [
    "## Optimization Problem\n",
    "\n",
    "In the definition of our optimization problem we have two components:\n",
    "\n",
    "1. black-box function that we want to optimize\n",
    "2. the search space of input variables\n",
    "\n",
    "### Black-Box Function\n",
    "\n",
    "DeepHyper is developed to optimize black-box functions. Here, we define the function $f(x) = - x ^ 2$ that we want to maximise (the maximum being $f(x=0) = 0$ on $I_x = [-10;10]$). The black-box function `f` takes as input a `config` dictionary from which we retrieve the variables of interest."
   ]
  },
  {
   "cell_type": "code",
   "execution_count": 2,
   "metadata": {
    "ExecuteTime": {
     "end_time": "2022-07-11T11:42:13.421095Z",
     "start_time": "2022-07-11T11:42:13.418591Z"
    },
    "id": "h69qB3oPt-8Q"
   },
   "outputs": [],
   "source": [
    "def f(job):\n",
    "    return -job.parameters[\"x\"] ** 2"
   ]
  },
  {
   "cell_type": "markdown",
   "metadata": {
    "id": "TojZXhQbyfUM"
   },
   "source": [
    "### Search Space of Input Variables\n",
    "\n",
    "In this example, we have only one variable $x$ for the black-box functin $f$. We empirically decide to optimize this variable $x$ on the interval $I_x = [-10;10]$. To do so we use the `HpProblem` from DeepHyper and add a **real** hyperparameter by using a `tuple` of two `floats`."
   ]
  },
  {
   "cell_type": "code",
   "execution_count": 3,
   "metadata": {
    "ExecuteTime": {
     "end_time": "2022-07-11T11:42:20.128039Z",
     "start_time": "2022-07-11T11:42:14.566251Z"
    },
    "colab": {
     "base_uri": "https://localhost:8080/"
    },
    "id": "l7G5OOT2uND5",
    "outputId": "c1b85bcc-b971-4175-86e0-80610a2fdc26"
   },
   "outputs": [
    {
     "data": {
      "text/plain": [
       "Configuration space object:\n",
       "  Hyperparameters:\n",
       "    x, Type: UniformFloat, Range: [-10.0, 10.0], Default: 0.0"
      ]
     },
     "execution_count": 3,
     "metadata": {},
     "output_type": "execute_result"
    }
   ],
   "source": [
    "from deephyper.problem import HpProblem\n",
    "\n",
    "\n",
    "problem = HpProblem()\n",
    "\n",
    "# Define the variable you want to optimize\n",
    "problem.add_hyperparameter((-10.0, 10.0), \"x\")\n",
    "\n",
    "problem"
   ]
  },
  {
   "cell_type": "markdown",
   "metadata": {
    "id": "XSFOmHpMz3EW"
   },
   "source": [
    "## Evaluator Interface\n",
    "\n",
    "DeepHyper uses an API called `Evaluator` to distribute the computation of black-box functions and adapt to different backends (e.g., threads, processes, MPI, Ray). An `Evaluator` object wraps the black-box function `f` that we want to optimize. Then a `method` parameter is used to select the backend and `method_kwargs` defines some available options of this backend. \n",
    "\n",
    "<div class=\"alert alert-info\">\n",
    "    \n",
    "<b>Tip</b>\n",
    "    \n",
    "\n",
    "The `method=\"thread\"` provides parallel computation only if the black-box is releasing the global interpretor lock (GIL). Therefore, if you want parallelism in Jupyter notebooks you should use the Ray evaluator (`method=\"ray\"`) after installing Ray with `pip install ray`.\n",
    "</div>\n",
    "\n",
    "It is possible to define callbacks to extend the behaviour of `Evaluator` each time a function-evaluation is launched or completed. In this example we use the `TqdmCallback` to follow the completed evaluations and the evolution of the objective with a progress-bar."
   ]
  },
  {
   "cell_type": "code",
   "execution_count": 4,
   "metadata": {
    "ExecuteTime": {
     "end_time": "2022-07-11T11:44:23.372128Z",
     "start_time": "2022-07-11T11:44:22.867588Z"
    },
    "colab": {
     "base_uri": "https://localhost:8080/"
    },
    "id": "VRXubHiXuQOY",
    "outputId": "ca5fc1a4-aa21-4220-b0a9-934c9e06961b"
   },
   "outputs": [
    {
     "name": "stdout",
     "output_type": "stream",
     "text": [
      "Evaluator has 4 available workers\n"
     ]
    },
    {
     "name": "stderr",
     "output_type": "stream",
     "text": [
      "/Users/romainegele/Documents/Argonne/deephyper/deephyper/evaluator/_evaluator.py:127: UserWarning: Applying nest-asyncio patch for IPython Shell!\n",
      "  warnings.warn(\n"
     ]
    }
   ],
   "source": [
    "from deephyper.evaluator import Evaluator\n",
    "from deephyper.evaluator.callback import TqdmCallback\n",
    "\n",
    "\n",
    "# define the evaluator to distribute the computation\n",
    "evaluator = Evaluator.create(\n",
    "    f,\n",
    "    method=\"thread\",\n",
    "    method_kwargs={\n",
    "        \"num_workers\": 4,\n",
    "        \"callbacks\": [TqdmCallback()]\n",
    "    },\n",
    ")\n",
    "\n",
    "print(f\"Evaluator has {evaluator.num_workers} available worker{'' if evaluator.num_workers == 1 else 's'}\")"
   ]
  },
  {
   "cell_type": "markdown",
   "metadata": {
    "id": "7mxkmjXX1yWU"
   },
   "source": [
    "## Search Algorithm\n",
    "\n",
    "The next step is to define the search algorithm that we want to use. Here, we choose `CBO` (Centralized Bayesian Optimization) which is a sampling based Bayesian optimization strategy. This algorithm has the advantage of being asynchronous thanks to a constant liar strategy which is crutial to keep a good utilization of the resources when the number of available workers increases."
   ]
  },
  {
   "cell_type": "code",
   "execution_count": 5,
   "metadata": {
    "ExecuteTime": {
     "end_time": "2022-07-11T11:44:24.428944Z",
     "start_time": "2022-07-11T11:44:24.418358Z"
    },
    "id": "C2T_35WTuQZ9"
   },
   "outputs": [],
   "source": [
    "from deephyper.search.hps import CBO\n",
    "\n",
    "# define your search\n",
    "search = CBO(\n",
    "    problem,\n",
    "    evaluator,\n",
    "    acq_func=\"UCB\",  # Acquisition function to Upper Confidence Bound\n",
    "    multi_point_strategy=\"qUCB\",  # Fast Multi-point strategy with q-Upper Confidence Bound\n",
    "    n_jobs=2,  # Number of threads to fit surrogate models in parallel\n",
    ")"
   ]
  },
  {
   "cell_type": "markdown",
   "metadata": {
    "id": "RYCy0p4A2lOo"
   },
   "source": [
    "Then, we can execute the search for a given number of iterations by using the `search.search(max_evals=...)`. It is also possible to use the `timeout` parameter if one needs a specific time budget (e.g., restricted computational time in machine learning competitions, allocation time in HPC)."
   ]
  },
  {
   "cell_type": "code",
   "execution_count": 6,
   "metadata": {
    "ExecuteTime": {
     "end_time": "2022-07-11T11:53:24.384226Z",
     "start_time": "2022-07-11T11:52:53.963288Z"
    },
    "colab": {
     "base_uri": "https://localhost:8080/"
    },
    "id": "x07fSC0zuepm",
    "outputId": "4ba089ca-6f70-4841-ee20-d7c047898ea2"
   },
   "outputs": [
    {
     "data": {
      "application/vnd.jupyter.widget-view+json": {
       "model_id": "8f16b9abac254502b8c019c4807c8f1e",
       "version_major": 2,
       "version_minor": 0
      },
      "text/plain": [
       "  0%|          | 0/100 [00:00<?, ?it/s]"
      ]
     },
     "metadata": {},
     "output_type": "display_data"
    }
   ],
   "source": [
    "results = search.search(max_evals=100)"
   ]
  },
  {
   "cell_type": "markdown",
   "metadata": {
    "id": "P9A0fGwd37sm"
   },
   "source": [
    "Finally, let us visualize the results. The `search(...)` returns a DataFrame also saved locally under `results.csv` (in case of crash we don't want to lose the possibly expensive evaluations already performed). \n",
    "\n",
    "The DataFrame contains as columns:\n",
    "1. the optimized hyperparameters: such as `x` in our case.\n",
    "2. the `id` of each evaluated function (increased incrementally following the order of created evaluations).\n",
    "3. the `objective` maximised which directly match the results of the $f$-function in our example.\n",
    "4. the `objective` **maximised** which directly match the results of the $f$-function in our example.\n",
    "5. the time of creation/collection of each task timestamp_submit and timestamp_gather respectively (in secondes, since the creation of the Evaluator)."
   ]
  },
  {
   "cell_type": "code",
   "execution_count": 7,
   "metadata": {
    "ExecuteTime": {
     "end_time": "2022-07-11T11:54:33.454755Z",
     "start_time": "2022-07-11T11:54:33.443309Z"
    },
    "colab": {
     "base_uri": "https://localhost:8080/",
     "height": 422
    },
    "id": "KhYxth9PvA0N",
    "outputId": "3c153e97-2b52-427e-bbf3-cd378edfd160"
   },
   "outputs": [
    {
     "data": {
      "text/html": [
       "<div>\n",
       "<style scoped>\n",
       "    .dataframe tbody tr th:only-of-type {\n",
       "        vertical-align: middle;\n",
       "    }\n",
       "\n",
       "    .dataframe tbody tr th {\n",
       "        vertical-align: top;\n",
       "    }\n",
       "\n",
       "    .dataframe thead th {\n",
       "        text-align: right;\n",
       "    }\n",
       "</style>\n",
       "<table border=\"1\" class=\"dataframe\">\n",
       "  <thead>\n",
       "    <tr style=\"text-align: right;\">\n",
       "      <th></th>\n",
       "      <th>p:x</th>\n",
       "      <th>objective</th>\n",
       "      <th>job_id</th>\n",
       "      <th>m:timestamp_submit</th>\n",
       "      <th>m:timestamp_gather</th>\n",
       "    </tr>\n",
       "  </thead>\n",
       "  <tbody>\n",
       "    <tr>\n",
       "      <th>0</th>\n",
       "      <td>3.241574</td>\n",
       "      <td>-1.050780e+01</td>\n",
       "      <td>3</td>\n",
       "      <td>0.088059</td>\n",
       "      <td>0.088764</td>\n",
       "    </tr>\n",
       "    <tr>\n",
       "      <th>1</th>\n",
       "      <td>3.401464</td>\n",
       "      <td>-1.156996e+01</td>\n",
       "      <td>2</td>\n",
       "      <td>0.088030</td>\n",
       "      <td>0.094780</td>\n",
       "    </tr>\n",
       "    <tr>\n",
       "      <th>2</th>\n",
       "      <td>9.761872</td>\n",
       "      <td>-9.529415e+01</td>\n",
       "      <td>0</td>\n",
       "      <td>0.087993</td>\n",
       "      <td>0.094980</td>\n",
       "    </tr>\n",
       "    <tr>\n",
       "      <th>3</th>\n",
       "      <td>-2.094117</td>\n",
       "      <td>-4.385325e+00</td>\n",
       "      <td>1</td>\n",
       "      <td>0.088019</td>\n",
       "      <td>0.095260</td>\n",
       "    </tr>\n",
       "    <tr>\n",
       "      <th>4</th>\n",
       "      <td>4.381632</td>\n",
       "      <td>-1.919870e+01</td>\n",
       "      <td>7</td>\n",
       "      <td>0.114489</td>\n",
       "      <td>0.115110</td>\n",
       "    </tr>\n",
       "    <tr>\n",
       "      <th>...</th>\n",
       "      <td>...</td>\n",
       "      <td>...</td>\n",
       "      <td>...</td>\n",
       "      <td>...</td>\n",
       "      <td>...</td>\n",
       "    </tr>\n",
       "    <tr>\n",
       "      <th>95</th>\n",
       "      <td>-0.004540</td>\n",
       "      <td>-2.060865e-05</td>\n",
       "      <td>95</td>\n",
       "      <td>3.757070</td>\n",
       "      <td>3.758207</td>\n",
       "    </tr>\n",
       "    <tr>\n",
       "      <th>96</th>\n",
       "      <td>-0.000577</td>\n",
       "      <td>-3.328177e-07</td>\n",
       "      <td>97</td>\n",
       "      <td>3.979956</td>\n",
       "      <td>3.980287</td>\n",
       "    </tr>\n",
       "    <tr>\n",
       "      <th>97</th>\n",
       "      <td>-0.003078</td>\n",
       "      <td>-9.475395e-06</td>\n",
       "      <td>96</td>\n",
       "      <td>3.979945</td>\n",
       "      <td>3.980701</td>\n",
       "    </tr>\n",
       "    <tr>\n",
       "      <th>98</th>\n",
       "      <td>-0.000577</td>\n",
       "      <td>-3.328177e-07</td>\n",
       "      <td>99</td>\n",
       "      <td>3.979969</td>\n",
       "      <td>3.980882</td>\n",
       "    </tr>\n",
       "    <tr>\n",
       "      <th>99</th>\n",
       "      <td>-0.000577</td>\n",
       "      <td>-3.328177e-07</td>\n",
       "      <td>98</td>\n",
       "      <td>3.979963</td>\n",
       "      <td>3.981050</td>\n",
       "    </tr>\n",
       "  </tbody>\n",
       "</table>\n",
       "<p>100 rows × 5 columns</p>\n",
       "</div>"
      ],
      "text/plain": [
       "         p:x     objective  job_id  m:timestamp_submit  m:timestamp_gather\n",
       "0   3.241574 -1.050780e+01       3            0.088059            0.088764\n",
       "1   3.401464 -1.156996e+01       2            0.088030            0.094780\n",
       "2   9.761872 -9.529415e+01       0            0.087993            0.094980\n",
       "3  -2.094117 -4.385325e+00       1            0.088019            0.095260\n",
       "4   4.381632 -1.919870e+01       7            0.114489            0.115110\n",
       "..       ...           ...     ...                 ...                 ...\n",
       "95 -0.004540 -2.060865e-05      95            3.757070            3.758207\n",
       "96 -0.000577 -3.328177e-07      97            3.979956            3.980287\n",
       "97 -0.003078 -9.475395e-06      96            3.979945            3.980701\n",
       "98 -0.000577 -3.328177e-07      99            3.979969            3.980882\n",
       "99 -0.000577 -3.328177e-07      98            3.979963            3.981050\n",
       "\n",
       "[100 rows x 5 columns]"
      ]
     },
     "execution_count": 7,
     "metadata": {},
     "output_type": "execute_result"
    }
   ],
   "source": [
    "results"
   ]
  },
  {
   "cell_type": "markdown",
   "metadata": {
    "id": "cu9hhC4J6nBx"
   },
   "source": [
    "We can also plot the evolution of the objective to verify that we converge correctly toward $0$."
   ]
  },
  {
   "cell_type": "code",
   "execution_count": 8,
   "metadata": {
    "ExecuteTime": {
     "end_time": "2022-07-11T11:57:48.781063Z",
     "start_time": "2022-07-11T11:57:48.095685Z"
    },
    "colab": {
     "base_uri": "https://localhost:8080/",
     "height": 279
    },
    "id": "q_ZA3J-F3_yn",
    "outputId": "a7da5707-83e5-4df5-dcdf-7833a4a40ba8"
   },
   "outputs": [
    {
     "data": {
      "image/png": "[encoded data removed]",
      "text/plain": [
       "<Figure size 640x480 with 1 Axes>"
      ]
     },
     "metadata": {},
     "output_type": "display_data"
    }
   ],
   "source": [
    "from deephyper.analysis.hpo import plot_search_trajectory_single_objective_hpo\n",
    "\n",
    "\n",
    "fig, ax = plot_search_trajectory_single_objective_hpo(results)"
   ]
  },
  {
   "cell_type": "code",
   "execution_count": null,
   "metadata": {},
   "outputs": [],
   "source": []
  }
 ],
 "metadata": {
  "colab": {
   "name": "DeepHyper-101.ipynb",
   "provenance": []
  },
  "kernelspec": {
   "display_name": "Python 3 (ipykernel)",
   "language": "python",
   "name": "python3"
  },
  "language_info": {
   "codemirror_mode": {
    "name": "ipython",
    "version": 3
   },
   "file_extension": ".py",
   "mimetype": "text/x-python",
   "name": "python",
   "nbconvert_exporter": "python",
   "pygments_lexer": "ipython3",
   "version": "3.10.9"
  },
  "nbTranslate": {
   "displayLangs": [
    "*"
   ],
   "hotkey": "alt-t",
   "langInMainMenu": true,
   "sourceLang": "en",
   "targetLang": "fr",
   "useGoogleTranslate": true
  },
  "toc": {
   "base_numbering": 1,
   "nav_menu": {},
   "number_sections": true,
   "sideBar": true,
   "skip_h1_title": false,
   "title_cell": "Table of Contents",
   "title_sidebar": "Contents",
   "toc_cell": false,
   "toc_position": {},
   "toc_section_display": true,
   "toc_window_display": false
  },
  "varInspector": {
   "cols": {
    "lenName": 16,
    "lenType": 16,
    "lenVar": 40
   },
   "kernels_config": {
    "python": {
     "delete_cmd_postfix": "",
     "delete_cmd_prefix": "del ",
     "library": "var_list.py",
     "varRefreshCmd": "print(var_dic_list())"
    },
    "r": {
     "delete_cmd_postfix": ") ",
     "delete_cmd_prefix": "rm(",
     "library": "var_list.r",
     "varRefreshCmd": "cat(var_dic_list()) "
    }
   },
   "types_to_exclude": [
    "module",
    "function",
    "builtin_function_or_method",
    "instance",
    "_Feature"
   ],
   "window_display": false
  },
  "vscode": {
   "interpreter": {
    "hash": "8f7aa5824e6ca9d379f74664a810268ab519ecb598367c3fa859d49ffea41aaf"
   }
  }
 },
 "nbformat": 4,
 "nbformat_minor": 4
}
