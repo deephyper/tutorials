{
 "cells": [
  {
   "cell_type": "markdown",
   "id": "84b29a6a",
   "metadata": {
    "id": "84b29a6a"
   },
   "source": [
    "# Automated Machine Learning with Scikit-Learn\n",
    "\n",
    "[![Open In Colab](https://colab.research.google.com/assets/colab-badge.svg)](https://colab.research.google.com/github/deephyper/tutorials/blob/main/tutorials/colab/AutoML_with_Sklearn.ipynb)\n",
    "\n",
    "In this tutorial, we will show how to automatically search among different machine learning algorithms from [Scikit-Learn](https://scikit-learn.org/stable/). Automated machine learning only requires the user to link the data with a predifined problem and run function that we provide.\n",
    "\n",
    "Let us start by installing DeepHyper."
   ]
  },
  {
   "cell_type": "code",
   "execution_count": 1,
   "id": "f10ffe4b",
   "metadata": {
    "colab": {
     "base_uri": "https://localhost:8080/"
    },
    "collapsed": true,
    "id": "f10ffe4b",
    "jupyter": {
     "outputs_hidden": true
    },
    "outputId": "af4e4692-7ca9-4782-8da5-aa0cbf6f3fbb",
    "tags": []
   },
   "outputs": [
    {
     "name": "stdout",
     "output_type": "stream",
     "text": [
      "Requirement already satisfied: deephyper in /usr/local/lib/python3.7/dist-packages (0.3.3)\n",
      "Requirement already satisfied: networkx in /usr/local/lib/python3.7/dist-packages (from deephyper) (2.6.3)\n",
      "Requirement already satisfied: tensorflow>=2.0.0 in /usr/local/lib/python3.7/dist-packages (from deephyper) (2.7.0)\n",
      "Requirement already satisfied: tqdm in /usr/local/lib/python3.7/dist-packages (from deephyper) (4.62.3)\n",
      "Requirement already satisfied: statsmodels in /usr/local/lib/python3.7/dist-packages (from deephyper) (0.10.2)\n",
      "Requirement already satisfied: scikit-learn>=0.23.1 in /usr/local/lib/python3.7/dist-packages (from deephyper) (1.0.1)\n",
      "Requirement already satisfied: pydot in /usr/local/lib/python3.7/dist-packages (from deephyper) (1.3.0)\n",
      "Requirement already satisfied: pandas>=0.24.2 in /usr/local/lib/python3.7/dist-packages (from deephyper) (1.1.5)\n",
      "Requirement already satisfied: tensorflow-probability in /usr/local/lib/python3.7/dist-packages (from deephyper) (0.14.1)\n",
      "Requirement already satisfied: ray[default]>=1.3.0 in /usr/local/lib/python3.7/dist-packages (from deephyper) (1.8.0)\n",
      "Requirement already satisfied: xgboost in /usr/local/lib/python3.7/dist-packages (from deephyper) (0.90)\n",
      "Requirement already satisfied: matplotlib>=3.0.3 in /usr/local/lib/python3.7/dist-packages (from deephyper) (3.2.2)\n",
      "Requirement already satisfied: numpy in /usr/local/lib/python3.7/dist-packages (from deephyper) (1.19.5)\n",
      "Requirement already satisfied: Jinja2 in /usr/local/lib/python3.7/dist-packages (from deephyper) (2.11.3)\n",
      "Requirement already satisfied: typeguard in /usr/local/lib/python3.7/dist-packages (from deephyper) (2.7.1)\n",
      "Requirement already satisfied: dh-scikit-optimize==0.9.4 in /usr/local/lib/python3.7/dist-packages (from deephyper) (0.9.4)\n",
      "Requirement already satisfied: joblib>=0.10.3 in /usr/local/lib/python3.7/dist-packages (from deephyper) (1.1.0)\n",
      "Requirement already satisfied: openml==0.10.2 in /usr/local/lib/python3.7/dist-packages (from deephyper) (0.10.2)\n",
      "Requirement already satisfied: ConfigSpace>=0.4.18 in /usr/local/lib/python3.7/dist-packages (from deephyper) (0.4.20)\n",
      "Requirement already satisfied: pyaml>=16.9 in /usr/local/lib/python3.7/dist-packages (from dh-scikit-optimize==0.9.4->deephyper) (21.10.1)\n",
      "Requirement already satisfied: scipy>=0.19.1 in /usr/local/lib/python3.7/dist-packages (from dh-scikit-optimize==0.9.4->deephyper) (1.4.1)\n",
      "Requirement already satisfied: liac-arff>=2.4.0 in /usr/local/lib/python3.7/dist-packages (from openml==0.10.2->deephyper) (2.5.0)\n",
      "Requirement already satisfied: xmltodict in /usr/local/lib/python3.7/dist-packages (from openml==0.10.2->deephyper) (0.12.0)\n",
      "Requirement already satisfied: requests in /usr/local/lib/python3.7/dist-packages (from openml==0.10.2->deephyper) (2.23.0)\n",
      "Requirement already satisfied: python-dateutil in /usr/local/lib/python3.7/dist-packages (from openml==0.10.2->deephyper) (2.8.2)\n",
      "Requirement already satisfied: pyparsing in /usr/local/lib/python3.7/dist-packages (from ConfigSpace>=0.4.18->deephyper) (2.4.7)\n",
      "Requirement already satisfied: cython in /usr/local/lib/python3.7/dist-packages (from ConfigSpace>=0.4.18->deephyper) (0.29.24)\n",
      "Requirement already satisfied: kiwisolver>=1.0.1 in /usr/local/lib/python3.7/dist-packages (from matplotlib>=3.0.3->deephyper) (1.3.2)\n",
      "Requirement already satisfied: cycler>=0.10 in /usr/local/lib/python3.7/dist-packages (from matplotlib>=3.0.3->deephyper) (0.11.0)\n",
      "Requirement already satisfied: pytz>=2017.2 in /usr/local/lib/python3.7/dist-packages (from pandas>=0.24.2->deephyper) (2018.9)\n",
      "Requirement already satisfied: PyYAML in /usr/local/lib/python3.7/dist-packages (from pyaml>=16.9->dh-scikit-optimize==0.9.4->deephyper) (3.13)\n",
      "Requirement already satisfied: six>=1.5 in /usr/local/lib/python3.7/dist-packages (from python-dateutil->openml==0.10.2->deephyper) (1.15.0)\n",
      "Requirement already satisfied: grpcio>=1.28.1 in /usr/local/lib/python3.7/dist-packages (from ray[default]>=1.3.0->deephyper) (1.41.1)\n",
      "Requirement already satisfied: click>=7.0 in /usr/local/lib/python3.7/dist-packages (from ray[default]>=1.3.0->deephyper) (7.1.2)\n",
      "Requirement already satisfied: protobuf>=3.15.3 in /usr/local/lib/python3.7/dist-packages (from ray[default]>=1.3.0->deephyper) (3.17.3)\n",
      "Requirement already satisfied: redis>=3.5.0 in /usr/local/lib/python3.7/dist-packages (from ray[default]>=1.3.0->deephyper) (4.0.1)\n",
      "Requirement already satisfied: filelock in /usr/local/lib/python3.7/dist-packages (from ray[default]>=1.3.0->deephyper) (3.3.2)\n",
      "Requirement already satisfied: msgpack<2.0.0,>=1.0.0 in /usr/local/lib/python3.7/dist-packages (from ray[default]>=1.3.0->deephyper) (1.0.2)\n",
      "Requirement already satisfied: jsonschema in /usr/local/lib/python3.7/dist-packages (from ray[default]>=1.3.0->deephyper) (2.6.0)\n",
      "Requirement already satisfied: attrs in /usr/local/lib/python3.7/dist-packages (from ray[default]>=1.3.0->deephyper) (21.2.0)\n",
      "Requirement already satisfied: colorful in /usr/local/lib/python3.7/dist-packages (from ray[default]>=1.3.0->deephyper) (0.5.4)\n",
      "Requirement already satisfied: prometheus-client>=0.7.1 in /usr/local/lib/python3.7/dist-packages (from ray[default]>=1.3.0->deephyper) (0.12.0)\n",
      "Requirement already satisfied: aiohttp>=3.7 in /usr/local/lib/python3.7/dist-packages (from ray[default]>=1.3.0->deephyper) (3.8.1)\n",
      "Requirement already satisfied: aioredis<2 in /usr/local/lib/python3.7/dist-packages (from ray[default]>=1.3.0->deephyper) (1.3.1)\n",
      "Requirement already satisfied: aiohttp-cors in /usr/local/lib/python3.7/dist-packages (from ray[default]>=1.3.0->deephyper) (0.7.0)\n",
      "Requirement already satisfied: gpustat>=1.0.0b1 in /usr/local/lib/python3.7/dist-packages (from ray[default]>=1.3.0->deephyper) (1.0.0b1)\n",
      "Requirement already satisfied: py-spy>=0.2.0 in /usr/local/lib/python3.7/dist-packages (from ray[default]>=1.3.0->deephyper) (0.3.11)\n",
      "Requirement already satisfied: opencensus in /usr/local/lib/python3.7/dist-packages (from ray[default]>=1.3.0->deephyper) (0.8.0)\n",
      "Requirement already satisfied: aiosignal>=1.1.2 in /usr/local/lib/python3.7/dist-packages (from aiohttp>=3.7->ray[default]>=1.3.0->deephyper) (1.2.0)\n",
      "Requirement already satisfied: yarl<2.0,>=1.0 in /usr/local/lib/python3.7/dist-packages (from aiohttp>=3.7->ray[default]>=1.3.0->deephyper) (1.7.2)\n",
      "Requirement already satisfied: typing-extensions>=3.7.4 in /usr/local/lib/python3.7/dist-packages (from aiohttp>=3.7->ray[default]>=1.3.0->deephyper) (3.10.0.2)\n",
      "Requirement already satisfied: async-timeout<5.0,>=4.0.0a3 in /usr/local/lib/python3.7/dist-packages (from aiohttp>=3.7->ray[default]>=1.3.0->deephyper) (4.0.1)\n",
      "Requirement already satisfied: charset-normalizer<3.0,>=2.0 in /usr/local/lib/python3.7/dist-packages (from aiohttp>=3.7->ray[default]>=1.3.0->deephyper) (2.0.7)\n",
      "Requirement already satisfied: asynctest==0.13.0 in /usr/local/lib/python3.7/dist-packages (from aiohttp>=3.7->ray[default]>=1.3.0->deephyper) (0.13.0)\n",
      "Requirement already satisfied: frozenlist>=1.1.1 in /usr/local/lib/python3.7/dist-packages (from aiohttp>=3.7->ray[default]>=1.3.0->deephyper) (1.2.0)\n",
      "Requirement already satisfied: multidict<7.0,>=4.5 in /usr/local/lib/python3.7/dist-packages (from aiohttp>=3.7->ray[default]>=1.3.0->deephyper) (5.2.0)\n",
      "Requirement already satisfied: hiredis in /usr/local/lib/python3.7/dist-packages (from aioredis<2->ray[default]>=1.3.0->deephyper) (2.0.0)\n",
      "Requirement already satisfied: blessed>=1.17.1 in /usr/local/lib/python3.7/dist-packages (from gpustat>=1.0.0b1->ray[default]>=1.3.0->deephyper) (1.19.0)\n",
      "Requirement already satisfied: nvidia-ml-py3>=7.352.0 in /usr/local/lib/python3.7/dist-packages (from gpustat>=1.0.0b1->ray[default]>=1.3.0->deephyper) (7.352.0)\n",
      "Requirement already satisfied: psutil in /usr/local/lib/python3.7/dist-packages (from gpustat>=1.0.0b1->ray[default]>=1.3.0->deephyper) (5.4.8)\n",
      "Requirement already satisfied: wcwidth>=0.1.4 in /usr/local/lib/python3.7/dist-packages (from blessed>=1.17.1->gpustat>=1.0.0b1->ray[default]>=1.3.0->deephyper) (0.2.5)\n",
      "Requirement already satisfied: deprecated in /usr/local/lib/python3.7/dist-packages (from redis>=3.5.0->ray[default]>=1.3.0->deephyper) (1.2.13)\n",
      "Requirement already satisfied: threadpoolctl>=2.0.0 in /usr/local/lib/python3.7/dist-packages (from scikit-learn>=0.23.1->deephyper) (3.0.0)\n",
      "Requirement already satisfied: flatbuffers<3.0,>=1.12 in /usr/local/lib/python3.7/dist-packages (from tensorflow>=2.0.0->deephyper) (2.0)\n",
      "Requirement already satisfied: keras<2.8,>=2.7.0rc0 in /usr/local/lib/python3.7/dist-packages (from tensorflow>=2.0.0->deephyper) (2.7.0)\n",
      "Requirement already satisfied: wheel<1.0,>=0.32.0 in /usr/local/lib/python3.7/dist-packages (from tensorflow>=2.0.0->deephyper) (0.37.0)\n",
      "Requirement already satisfied: libclang>=9.0.1 in /usr/local/lib/python3.7/dist-packages (from tensorflow>=2.0.0->deephyper) (12.0.0)\n",
      "Requirement already satisfied: h5py>=2.9.0 in /usr/local/lib/python3.7/dist-packages (from tensorflow>=2.0.0->deephyper) (3.1.0)\n",
      "Requirement already satisfied: opt-einsum>=2.3.2 in /usr/local/lib/python3.7/dist-packages (from tensorflow>=2.0.0->deephyper) (3.3.0)\n",
      "Requirement already satisfied: keras-preprocessing>=1.1.1 in /usr/local/lib/python3.7/dist-packages (from tensorflow>=2.0.0->deephyper) (1.1.2)\n",
      "Requirement already satisfied: tensorflow-estimator<2.8,~=2.7.0rc0 in /usr/local/lib/python3.7/dist-packages (from tensorflow>=2.0.0->deephyper) (2.7.0)\n",
      "Requirement already satisfied: tensorflow-io-gcs-filesystem>=0.21.0 in /usr/local/lib/python3.7/dist-packages (from tensorflow>=2.0.0->deephyper) (0.22.0)\n",
      "Requirement already satisfied: google-pasta>=0.1.1 in /usr/local/lib/python3.7/dist-packages (from tensorflow>=2.0.0->deephyper) (0.2.0)\n",
      "Requirement already satisfied: astunparse>=1.6.0 in /usr/local/lib/python3.7/dist-packages (from tensorflow>=2.0.0->deephyper) (1.6.3)\n",
      "Requirement already satisfied: termcolor>=1.1.0 in /usr/local/lib/python3.7/dist-packages (from tensorflow>=2.0.0->deephyper) (1.1.0)\n",
      "Requirement already satisfied: tensorboard~=2.6 in /usr/local/lib/python3.7/dist-packages (from tensorflow>=2.0.0->deephyper) (2.7.0)\n",
      "Requirement already satisfied: wrapt>=1.11.0 in /usr/local/lib/python3.7/dist-packages (from tensorflow>=2.0.0->deephyper) (1.13.3)\n",
      "Requirement already satisfied: absl-py>=0.4.0 in /usr/local/lib/python3.7/dist-packages (from tensorflow>=2.0.0->deephyper) (0.12.0)\n",
      "Requirement already satisfied: gast<0.5.0,>=0.2.1 in /usr/local/lib/python3.7/dist-packages (from tensorflow>=2.0.0->deephyper) (0.4.0)\n",
      "Requirement already satisfied: cached-property in /usr/local/lib/python3.7/dist-packages (from h5py>=2.9.0->tensorflow>=2.0.0->deephyper) (1.5.2)\n",
      "Requirement already satisfied: markdown>=2.6.8 in /usr/local/lib/python3.7/dist-packages (from tensorboard~=2.6->tensorflow>=2.0.0->deephyper) (3.3.4)\n",
      "Requirement already satisfied: tensorboard-data-server<0.7.0,>=0.6.0 in /usr/local/lib/python3.7/dist-packages (from tensorboard~=2.6->tensorflow>=2.0.0->deephyper) (0.6.1)\n",
      "Requirement already satisfied: tensorboard-plugin-wit>=1.6.0 in /usr/local/lib/python3.7/dist-packages (from tensorboard~=2.6->tensorflow>=2.0.0->deephyper) (1.8.0)\n",
      "Requirement already satisfied: werkzeug>=0.11.15 in /usr/local/lib/python3.7/dist-packages (from tensorboard~=2.6->tensorflow>=2.0.0->deephyper) (1.0.1)\n",
      "Requirement already satisfied: setuptools>=41.0.0 in /usr/local/lib/python3.7/dist-packages (from tensorboard~=2.6->tensorflow>=2.0.0->deephyper) (57.4.0)\n",
      "Requirement already satisfied: google-auth<3,>=1.6.3 in /usr/local/lib/python3.7/dist-packages (from tensorboard~=2.6->tensorflow>=2.0.0->deephyper) (1.35.0)\n",
      "Requirement already satisfied: google-auth-oauthlib<0.5,>=0.4.1 in /usr/local/lib/python3.7/dist-packages (from tensorboard~=2.6->tensorflow>=2.0.0->deephyper) (0.4.6)\n",
      "Requirement already satisfied: rsa<5,>=3.1.4 in /usr/local/lib/python3.7/dist-packages (from google-auth<3,>=1.6.3->tensorboard~=2.6->tensorflow>=2.0.0->deephyper) (4.7.2)\n",
      "Requirement already satisfied: pyasn1-modules>=0.2.1 in /usr/local/lib/python3.7/dist-packages (from google-auth<3,>=1.6.3->tensorboard~=2.6->tensorflow>=2.0.0->deephyper) (0.2.8)\n",
      "Requirement already satisfied: cachetools<5.0,>=2.0.0 in /usr/local/lib/python3.7/dist-packages (from google-auth<3,>=1.6.3->tensorboard~=2.6->tensorflow>=2.0.0->deephyper) (4.2.4)\n",
      "Requirement already satisfied: requests-oauthlib>=0.7.0 in /usr/local/lib/python3.7/dist-packages (from google-auth-oauthlib<0.5,>=0.4.1->tensorboard~=2.6->tensorflow>=2.0.0->deephyper) (1.3.0)\n",
      "Requirement already satisfied: importlib-metadata in /usr/local/lib/python3.7/dist-packages (from markdown>=2.6.8->tensorboard~=2.6->tensorflow>=2.0.0->deephyper) (4.8.2)\n",
      "Requirement already satisfied: pyasn1<0.5.0,>=0.4.6 in /usr/local/lib/python3.7/dist-packages (from pyasn1-modules>=0.2.1->google-auth<3,>=1.6.3->tensorboard~=2.6->tensorflow>=2.0.0->deephyper) (0.4.8)\n",
      "Requirement already satisfied: chardet<4,>=3.0.2 in /usr/local/lib/python3.7/dist-packages (from requests->openml==0.10.2->deephyper) (3.0.4)\n",
      "Requirement already satisfied: idna<3,>=2.5 in /usr/local/lib/python3.7/dist-packages (from requests->openml==0.10.2->deephyper) (2.10)\n",
      "Requirement already satisfied: urllib3!=1.25.0,!=1.25.1,<1.26,>=1.21.1 in /usr/local/lib/python3.7/dist-packages (from requests->openml==0.10.2->deephyper) (1.24.3)\n",
      "Requirement already satisfied: certifi>=2017.4.17 in /usr/local/lib/python3.7/dist-packages (from requests->openml==0.10.2->deephyper) (2021.10.8)\n",
      "Requirement already satisfied: oauthlib>=3.0.0 in /usr/local/lib/python3.7/dist-packages (from requests-oauthlib>=0.7.0->google-auth-oauthlib<0.5,>=0.4.1->tensorboard~=2.6->tensorflow>=2.0.0->deephyper) (3.1.1)\n",
      "Requirement already satisfied: zipp>=0.5 in /usr/local/lib/python3.7/dist-packages (from importlib-metadata->markdown>=2.6.8->tensorboard~=2.6->tensorflow>=2.0.0->deephyper) (3.6.0)\n",
      "Requirement already satisfied: MarkupSafe>=0.23 in /usr/local/lib/python3.7/dist-packages (from Jinja2->deephyper) (2.0.1)\n",
      "Requirement already satisfied: opencensus-context==0.1.2 in /usr/local/lib/python3.7/dist-packages (from opencensus->ray[default]>=1.3.0->deephyper) (0.1.2)\n",
      "Requirement already satisfied: google-api-core<3.0.0,>=1.0.0 in /usr/local/lib/python3.7/dist-packages (from opencensus->ray[default]>=1.3.0->deephyper) (1.26.3)\n",
      "Requirement already satisfied: googleapis-common-protos<2.0dev,>=1.6.0 in /usr/local/lib/python3.7/dist-packages (from google-api-core<3.0.0,>=1.0.0->opencensus->ray[default]>=1.3.0->deephyper) (1.53.0)\n",
      "Requirement already satisfied: packaging>=14.3 in /usr/local/lib/python3.7/dist-packages (from google-api-core<3.0.0,>=1.0.0->opencensus->ray[default]>=1.3.0->deephyper) (21.2)\n",
      "Requirement already satisfied: patsy>=0.4.0 in /usr/local/lib/python3.7/dist-packages (from statsmodels->deephyper) (0.5.2)\n",
      "Requirement already satisfied: cloudpickle>=1.3 in /usr/local/lib/python3.7/dist-packages (from tensorflow-probability->deephyper) (1.3.0)\n",
      "Requirement already satisfied: dm-tree in /usr/local/lib/python3.7/dist-packages (from tensorflow-probability->deephyper) (0.1.6)\n",
      "Requirement already satisfied: decorator in /usr/local/lib/python3.7/dist-packages (from tensorflow-probability->deephyper) (4.4.2)\n"
     ]
    }
   ],
   "source": [
    "!pip install deephyper[\"popt\"]\n",
    "!pip install ray"
   ]
  },
  {
   "cell_type": "markdown",
   "id": "57b226bd",
   "metadata": {
    "id": "57b226bd"
   },
   "source": [
    "## Classification\n",
    "\n",
    "On this part of the tutorial we focus on the classification case.\n",
    "\n",
    "Create `run` function to train and evaluate the model corresponding to the configuration generated by the search. This function has to return a scalar value (typically, validation accuracy), which will be maximized by the search algorithm. In the case of *automated machine learning* we use the `run` function provided at `deephyper.sklearn.classifier.run_autosklearn1` and wrap it with our data such as:"
   ]
  },
  {
   "cell_type": "code",
   "execution_count": 1,
   "id": "a47214b3",
   "metadata": {
    "id": "a47214b3"
   },
   "outputs": [
    {
     "name": "stderr",
     "output_type": "stream",
     "text": [
      "/Users/romainegele/miniforge3/envs/dh-arm/lib/python3.9/site-packages/xgboost/compat.py:31: FutureWarning: pandas.Int64Index is deprecated and will be removed from pandas in a future version. Use pandas.Index with the appropriate dtype instead.\n",
      "  from pandas import MultiIndex, Int64Index\n"
     ]
    }
   ],
   "source": [
    "from deephyper.sklearn.classifier import run_autosklearn1\n",
    "\n",
    "\n",
    "def load_data():\n",
    "    from sklearn.datasets import load_breast_cancer\n",
    "\n",
    "    X, y = load_breast_cancer(return_X_y=True)\n",
    "\n",
    "    return X, y\n",
    "\n",
    "\n",
    "def run(config):\n",
    "    return run_autosklearn1(config, load_data)"
   ]
  },
  {
   "cell_type": "markdown",
   "id": "4b325396",
   "metadata": {
    "id": "4b325396"
   },
   "source": [
    "We are ready to go! But, let us look at the problem provided by DeepHyper in `deephyper.sklearn.classifier.problem_autosklearn1` to understand better what is happening under the hood."
   ]
  },
  {
   "cell_type": "code",
   "execution_count": 2,
   "id": "00027653",
   "metadata": {
    "colab": {
     "base_uri": "https://localhost:8080/"
    },
    "id": "00027653",
    "outputId": "4203ef0e-2ae0-4047-e74d-8cc593a498fc"
   },
   "outputs": [
    {
     "data": {
      "text/plain": [
       "Configuration space object:\n",
       "  Hyperparameters:\n",
       "    C, Type: UniformFloat, Range: [1e-05, 10.0], Default: 0.01, on log-scale\n",
       "    alpha, Type: UniformFloat, Range: [1e-05, 10.0], Default: 0.01, on log-scale\n",
       "    classifier, Type: Categorical, Choices: {RandomForest, Logistic, AdaBoost, KNeighbors, MLP, SVC, XGBoost}, Default: RandomForest\n",
       "    gamma, Type: UniformFloat, Range: [1e-05, 10.0], Default: 0.01, on log-scale\n",
       "    kernel, Type: Categorical, Choices: {linear, poly, rbf, sigmoid}, Default: linear\n",
       "    max_depth, Type: UniformInteger, Range: [2, 100], Default: 14, on log-scale\n",
       "    n_estimators, Type: UniformInteger, Range: [1, 2000], Default: 45, on log-scale\n",
       "    n_neighbors, Type: UniformInteger, Range: [1, 100], Default: 50\n",
       "  Conditions:\n",
       "    (C | classifier == 'Logistic' || C | classifier == 'SVC')\n",
       "    (gamma | kernel == 'rbf' || gamma | kernel == 'poly' || gamma | kernel == 'sigmoid')\n",
       "    (n_estimators | classifier == 'RandomForest' || n_estimators | classifier == 'AdaBoost')\n",
       "    alpha | classifier == 'MLP'\n",
       "    kernel | classifier == 'SVC'\n",
       "    max_depth | classifier == 'RandomForest'\n",
       "    n_neighbors | classifier == 'KNeighbors'"
      ]
     },
     "execution_count": 2,
     "metadata": {},
     "output_type": "execute_result"
    }
   ],
   "source": [
    "from deephyper.sklearn.classifier import problem_autosklearn1\n",
    "\n",
    "problem_autosklearn1"
   ]
  },
  {
   "cell_type": "markdown",
   "id": "b452fe5b",
   "metadata": {
    "id": "b452fe5b"
   },
   "source": [
    "Create an `Evaluator` object using the `ray` backend to distribute the evaluation of the run-function defined previously."
   ]
  },
  {
   "cell_type": "code",
   "execution_count": 3,
   "id": "197f723d",
   "metadata": {
    "colab": {
     "base_uri": "https://localhost:8080/"
    },
    "id": "197f723d",
    "outputId": "88fe87ba-5ef2-4d21-eb4f-33b4f6016d50"
   },
   "outputs": [
    {
     "name": "stderr",
     "output_type": "stream",
     "text": [
      "/Users/romainegele/Documents/Argonne/deephyper/deephyper/evaluator/_evaluator.py:126: UserWarning: Applying nest-asyncio patch for IPython Shell!\n",
      "  warnings.warn(\n",
      "2023-01-30 16:04:06,151\tINFO worker.py:1518 -- Started a local Ray instance.\n"
     ]
    },
    {
     "name": "stdout",
     "output_type": "stream",
     "text": [
      "Number of workers:  1\n"
     ]
    }
   ],
   "source": [
    "from deephyper.evaluator import Evaluator\n",
    "from deephyper.evaluator.callback import TqdmCallback\n",
    "\n",
    "evaluator = Evaluator.create(run, \n",
    "                 method=\"ray\", \n",
    "                 method_kwargs={\n",
    "                     \"address\": None, \n",
    "                     \"num_cpus\": 1,\n",
    "                     \"num_cpus_per_task\": 1,\n",
    "                     \"callbacks\": [TqdmCallback()]\n",
    "                 })\n",
    "\n",
    "print(\"Number of workers: \", evaluator.num_workers)"
   ]
  },
  {
   "cell_type": "markdown",
   "id": "1b6cd751",
   "metadata": {
    "id": "1b6cd751"
   },
   "source": [
    "Finally, you can define a Bayesian optimization search called `CBO` (for Centralized Bayesian Optimization) and link to it the defined `problem_autosklearn1` and `evaluator`."
   ]
  },
  {
   "cell_type": "code",
   "execution_count": 4,
   "id": "b2e09062",
   "metadata": {
    "id": "b2e09062"
   },
   "outputs": [],
   "source": [
    "from deephyper.search.hps import CBO\n",
    "\n",
    "search = CBO(problem_autosklearn1, evaluator, log_dir=\"exp-automl-2\")"
   ]
  },
  {
   "cell_type": "code",
   "execution_count": 5,
   "id": "0892e8a0",
   "metadata": {
    "colab": {
     "base_uri": "https://localhost:8080/"
    },
    "id": "0892e8a0",
    "outputId": "f736ee3a-2c06-447f-91ff-cf548ec92f48"
   },
   "outputs": [
    {
     "name": "stderr",
     "output_type": "stream",
     "text": [
      "\u001b[2m\u001b[36m(pid=35708)\u001b[0m /Users/romainegele/miniforge3/envs/dh-arm/lib/python3.9/site-packages/xgboost/compat.py:31: FutureWarning: pandas.Int64Index is deprecated and will be removed from pandas in a future version. Use pandas.Index with the appropriate dtype instead.\n",
      "\u001b[2m\u001b[36m(pid=35708)\u001b[0m   from pandas import MultiIndex, Int64Index\n"
     ]
    },
    {
     "data": {
      "application/json": {
       "ascii": false,
       "bar_format": null,
       "colour": null,
       "elapsed": 0.004587888717651367,
       "initial": 0,
       "n": 0,
       "ncols": null,
       "nrows": 63,
       "postfix": null,
       "prefix": "",
       "rate": null,
       "total": 100,
       "unit": "it",
       "unit_divisor": 1000,
       "unit_scale": false
      },
      "application/vnd.jupyter.widget-view+json": {
       "model_id": "4a14a39983b54c86b7e914364f506c89",
       "version_major": 2,
       "version_minor": 0
      },
      "text/plain": [
       "  0%|          | 0/100 [00:00<?, ?it/s]"
      ]
     },
     "metadata": {},
     "output_type": "display_data"
    },
    {
     "name": "stderr",
     "output_type": "stream",
     "text": [
      "\u001b[2m\u001b[36m(run pid=35708)\u001b[0m /Users/romainegele/miniforge3/envs/dh-arm/lib/python3.9/site-packages/sklearn/neighbors/_classification.py:228: FutureWarning: Unlike other reduction functions (e.g. `skew`, `kurtosis`), the default behavior of `mode` typically preserves the axis it acts along. In SciPy 1.11.0, this behavior will change: the default value of `keepdims` will become False, the `axis` over which the statistic is taken will be eliminated, and the value None will no longer be accepted. Set `keepdims` to True or False to avoid this warning.\n",
      "\u001b[2m\u001b[36m(run pid=35708)\u001b[0m   mode, _ = stats.mode(_y[neigh_ind, k], axis=1)\n"
     ]
    }
   ],
   "source": [
    "results = search.search(100)"
   ]
  },
  {
   "cell_type": "markdown",
   "id": "c02b4096",
   "metadata": {
    "id": "c02b4096"
   },
   "source": [
    "Once the search is over, a file named `results.csv` is saved in the current directory. The same dataframe is returned by the `search.search(...)` call. It contains the hyperparameters configurations evaluated during the search and their corresponding `objective` value (i.e, validation accuracy), `timestamp_submit` the time when the evaluator submitted the configuration to be evaluated and `timestamp_gather` the time when the evaluator received the configuration once evaluated (both are relative times with respect to the creation of the `Evaluator` instance)."
   ]
  },
  {
   "cell_type": "code",
   "execution_count": 6,
   "id": "15e7aed4",
   "metadata": {
    "colab": {
     "base_uri": "https://localhost:8080/",
     "height": 359
    },
    "id": "15e7aed4",
    "outputId": "e4c1ceb7-af44-41d4-f83a-244ddc8c201e",
    "scrolled": true,
    "tags": []
   },
   "outputs": [
    {
     "data": {
      "text/html": [
       "<div>\n",
       "<style scoped>\n",
       "    .dataframe tbody tr th:only-of-type {\n",
       "        vertical-align: middle;\n",
       "    }\n",
       "\n",
       "    .dataframe tbody tr th {\n",
       "        vertical-align: top;\n",
       "    }\n",
       "\n",
       "    .dataframe thead th {\n",
       "        text-align: right;\n",
       "    }\n",
       "</style>\n",
       "<table border=\"1\" class=\"dataframe\">\n",
       "  <thead>\n",
       "    <tr style=\"text-align: right;\">\n",
       "      <th></th>\n",
       "      <th>p:classifier</th>\n",
       "      <th>p:C</th>\n",
       "      <th>p:alpha</th>\n",
       "      <th>p:kernel</th>\n",
       "      <th>p:max_depth</th>\n",
       "      <th>p:n_estimators</th>\n",
       "      <th>p:n_neighbors</th>\n",
       "      <th>p:gamma</th>\n",
       "      <th>objective</th>\n",
       "      <th>job_id</th>\n",
       "      <th>m:timestamp_submit</th>\n",
       "      <th>m:timestamp_gather</th>\n",
       "    </tr>\n",
       "  </thead>\n",
       "  <tbody>\n",
       "    <tr>\n",
       "      <th>0</th>\n",
       "      <td>Logistic</td>\n",
       "      <td>0.000986</td>\n",
       "      <td>NaN</td>\n",
       "      <td>NaN</td>\n",
       "      <td>NaN</td>\n",
       "      <td>NaN</td>\n",
       "      <td>NaN</td>\n",
       "      <td>NaN</td>\n",
       "      <td>0.893617</td>\n",
       "      <td>0</td>\n",
       "      <td>1.847845</td>\n",
       "      <td>4.197699</td>\n",
       "    </tr>\n",
       "    <tr>\n",
       "      <th>1</th>\n",
       "      <td>KNeighbors</td>\n",
       "      <td>NaN</td>\n",
       "      <td>NaN</td>\n",
       "      <td>NaN</td>\n",
       "      <td>NaN</td>\n",
       "      <td>NaN</td>\n",
       "      <td>41.0</td>\n",
       "      <td>NaN</td>\n",
       "      <td>0.946809</td>\n",
       "      <td>1</td>\n",
       "      <td>4.348262</td>\n",
       "      <td>4.359891</td>\n",
       "    </tr>\n",
       "    <tr>\n",
       "      <th>2</th>\n",
       "      <td>RandomForest</td>\n",
       "      <td>NaN</td>\n",
       "      <td>NaN</td>\n",
       "      <td>NaN</td>\n",
       "      <td>48.0</td>\n",
       "      <td>51.0</td>\n",
       "      <td>NaN</td>\n",
       "      <td>NaN</td>\n",
       "      <td>0.957447</td>\n",
       "      <td>2</td>\n",
       "      <td>4.588290</td>\n",
       "      <td>4.632172</td>\n",
       "    </tr>\n",
       "    <tr>\n",
       "      <th>3</th>\n",
       "      <td>Logistic</td>\n",
       "      <td>0.000341</td>\n",
       "      <td>NaN</td>\n",
       "      <td>NaN</td>\n",
       "      <td>NaN</td>\n",
       "      <td>NaN</td>\n",
       "      <td>NaN</td>\n",
       "      <td>NaN</td>\n",
       "      <td>0.819149</td>\n",
       "      <td>3</td>\n",
       "      <td>4.764461</td>\n",
       "      <td>4.772226</td>\n",
       "    </tr>\n",
       "    <tr>\n",
       "      <th>4</th>\n",
       "      <td>SVC</td>\n",
       "      <td>0.000063</td>\n",
       "      <td>NaN</td>\n",
       "      <td>linear</td>\n",
       "      <td>NaN</td>\n",
       "      <td>NaN</td>\n",
       "      <td>NaN</td>\n",
       "      <td>NaN</td>\n",
       "      <td>0.643617</td>\n",
       "      <td>4</td>\n",
       "      <td>4.907278</td>\n",
       "      <td>4.917221</td>\n",
       "    </tr>\n",
       "    <tr>\n",
       "      <th>...</th>\n",
       "      <td>...</td>\n",
       "      <td>...</td>\n",
       "      <td>...</td>\n",
       "      <td>...</td>\n",
       "      <td>...</td>\n",
       "      <td>...</td>\n",
       "      <td>...</td>\n",
       "      <td>...</td>\n",
       "      <td>...</td>\n",
       "      <td>...</td>\n",
       "      <td>...</td>\n",
       "      <td>...</td>\n",
       "    </tr>\n",
       "    <tr>\n",
       "      <th>95</th>\n",
       "      <td>MLP</td>\n",
       "      <td>NaN</td>\n",
       "      <td>1.782067</td>\n",
       "      <td>NaN</td>\n",
       "      <td>NaN</td>\n",
       "      <td>NaN</td>\n",
       "      <td>NaN</td>\n",
       "      <td>NaN</td>\n",
       "      <td>0.989362</td>\n",
       "      <td>95</td>\n",
       "      <td>37.920646</td>\n",
       "      <td>38.037480</td>\n",
       "    </tr>\n",
       "    <tr>\n",
       "      <th>96</th>\n",
       "      <td>MLP</td>\n",
       "      <td>NaN</td>\n",
       "      <td>1.742599</td>\n",
       "      <td>NaN</td>\n",
       "      <td>NaN</td>\n",
       "      <td>NaN</td>\n",
       "      <td>NaN</td>\n",
       "      <td>NaN</td>\n",
       "      <td>0.989362</td>\n",
       "      <td>96</td>\n",
       "      <td>38.265214</td>\n",
       "      <td>38.381637</td>\n",
       "    </tr>\n",
       "    <tr>\n",
       "      <th>97</th>\n",
       "      <td>MLP</td>\n",
       "      <td>NaN</td>\n",
       "      <td>1.769931</td>\n",
       "      <td>NaN</td>\n",
       "      <td>NaN</td>\n",
       "      <td>NaN</td>\n",
       "      <td>NaN</td>\n",
       "      <td>NaN</td>\n",
       "      <td>0.989362</td>\n",
       "      <td>97</td>\n",
       "      <td>38.609994</td>\n",
       "      <td>38.726015</td>\n",
       "    </tr>\n",
       "    <tr>\n",
       "      <th>98</th>\n",
       "      <td>MLP</td>\n",
       "      <td>NaN</td>\n",
       "      <td>2.019310</td>\n",
       "      <td>NaN</td>\n",
       "      <td>NaN</td>\n",
       "      <td>NaN</td>\n",
       "      <td>NaN</td>\n",
       "      <td>NaN</td>\n",
       "      <td>0.989362</td>\n",
       "      <td>98</td>\n",
       "      <td>39.031003</td>\n",
       "      <td>39.148036</td>\n",
       "    </tr>\n",
       "    <tr>\n",
       "      <th>99</th>\n",
       "      <td>MLP</td>\n",
       "      <td>NaN</td>\n",
       "      <td>1.862691</td>\n",
       "      <td>NaN</td>\n",
       "      <td>NaN</td>\n",
       "      <td>NaN</td>\n",
       "      <td>NaN</td>\n",
       "      <td>NaN</td>\n",
       "      <td>0.989362</td>\n",
       "      <td>99</td>\n",
       "      <td>39.378585</td>\n",
       "      <td>39.494249</td>\n",
       "    </tr>\n",
       "  </tbody>\n",
       "</table>\n",
       "<p>100 rows × 12 columns</p>\n",
       "</div>"
      ],
      "text/plain": [
       "    p:classifier       p:C   p:alpha p:kernel  p:max_depth  p:n_estimators  \\\n",
       "0       Logistic  0.000986       NaN      NaN          NaN             NaN   \n",
       "1     KNeighbors       NaN       NaN      NaN          NaN             NaN   \n",
       "2   RandomForest       NaN       NaN      NaN         48.0            51.0   \n",
       "3       Logistic  0.000341       NaN      NaN          NaN             NaN   \n",
       "4            SVC  0.000063       NaN   linear          NaN             NaN   \n",
       "..           ...       ...       ...      ...          ...             ...   \n",
       "95           MLP       NaN  1.782067      NaN          NaN             NaN   \n",
       "96           MLP       NaN  1.742599      NaN          NaN             NaN   \n",
       "97           MLP       NaN  1.769931      NaN          NaN             NaN   \n",
       "98           MLP       NaN  2.019310      NaN          NaN             NaN   \n",
       "99           MLP       NaN  1.862691      NaN          NaN             NaN   \n",
       "\n",
       "    p:n_neighbors  p:gamma  objective  job_id  m:timestamp_submit  \\\n",
       "0             NaN      NaN   0.893617       0            1.847845   \n",
       "1            41.0      NaN   0.946809       1            4.348262   \n",
       "2             NaN      NaN   0.957447       2            4.588290   \n",
       "3             NaN      NaN   0.819149       3            4.764461   \n",
       "4             NaN      NaN   0.643617       4            4.907278   \n",
       "..            ...      ...        ...     ...                 ...   \n",
       "95            NaN      NaN   0.989362      95           37.920646   \n",
       "96            NaN      NaN   0.989362      96           38.265214   \n",
       "97            NaN      NaN   0.989362      97           38.609994   \n",
       "98            NaN      NaN   0.989362      98           39.031003   \n",
       "99            NaN      NaN   0.989362      99           39.378585   \n",
       "\n",
       "    m:timestamp_gather  \n",
       "0             4.197699  \n",
       "1             4.359891  \n",
       "2             4.632172  \n",
       "3             4.772226  \n",
       "4             4.917221  \n",
       "..                 ...  \n",
       "95           38.037480  \n",
       "96           38.381637  \n",
       "97           38.726015  \n",
       "98           39.148036  \n",
       "99           39.494249  \n",
       "\n",
       "[100 rows x 12 columns]"
      ]
     },
     "execution_count": 6,
     "metadata": {},
     "output_type": "execute_result"
    }
   ],
   "source": [
    "results"
   ]
  },
  {
   "cell_type": "markdown",
   "id": "c6d51e46",
   "metadata": {
    "id": "c6d51e46"
   },
   "source": [
    "Now that we have the full list of results we can display the top-3."
   ]
  },
  {
   "cell_type": "code",
   "execution_count": 7,
   "id": "d7da7c6b",
   "metadata": {
    "colab": {
     "base_uri": "https://localhost:8080/"
    },
    "id": "d7da7c6b",
    "outputId": "db4402e7-cd45-445e-ec99-6312711fb5ba"
   },
   "outputs": [
    {
     "data": {
      "text/html": [
       "<div>\n",
       "<style scoped>\n",
       "    .dataframe tbody tr th:only-of-type {\n",
       "        vertical-align: middle;\n",
       "    }\n",
       "\n",
       "    .dataframe tbody tr th {\n",
       "        vertical-align: top;\n",
       "    }\n",
       "\n",
       "    .dataframe thead th {\n",
       "        text-align: right;\n",
       "    }\n",
       "</style>\n",
       "<table border=\"1\" class=\"dataframe\">\n",
       "  <thead>\n",
       "    <tr style=\"text-align: right;\">\n",
       "      <th></th>\n",
       "      <th>p:classifier</th>\n",
       "      <th>p:C</th>\n",
       "      <th>p:alpha</th>\n",
       "      <th>p:kernel</th>\n",
       "      <th>p:max_depth</th>\n",
       "      <th>p:n_estimators</th>\n",
       "      <th>p:n_neighbors</th>\n",
       "      <th>p:gamma</th>\n",
       "      <th>objective</th>\n",
       "      <th>job_id</th>\n",
       "      <th>m:timestamp_submit</th>\n",
       "      <th>m:timestamp_gather</th>\n",
       "    </tr>\n",
       "  </thead>\n",
       "  <tbody>\n",
       "    <tr>\n",
       "      <th>10</th>\n",
       "      <td>MLP</td>\n",
       "      <td>NaN</td>\n",
       "      <td>3.685755</td>\n",
       "      <td>NaN</td>\n",
       "      <td>NaN</td>\n",
       "      <td>NaN</td>\n",
       "      <td>NaN</td>\n",
       "      <td>NaN</td>\n",
       "      <td>0.989362</td>\n",
       "      <td>10</td>\n",
       "      <td>6.240106</td>\n",
       "      <td>6.363712</td>\n",
       "    </tr>\n",
       "    <tr>\n",
       "      <th>12</th>\n",
       "      <td>MLP</td>\n",
       "      <td>NaN</td>\n",
       "      <td>3.717318</td>\n",
       "      <td>NaN</td>\n",
       "      <td>NaN</td>\n",
       "      <td>NaN</td>\n",
       "      <td>NaN</td>\n",
       "      <td>NaN</td>\n",
       "      <td>0.989362</td>\n",
       "      <td>12</td>\n",
       "      <td>7.013312</td>\n",
       "      <td>7.129871</td>\n",
       "    </tr>\n",
       "    <tr>\n",
       "      <th>13</th>\n",
       "      <td>MLP</td>\n",
       "      <td>NaN</td>\n",
       "      <td>2.902145</td>\n",
       "      <td>NaN</td>\n",
       "      <td>NaN</td>\n",
       "      <td>NaN</td>\n",
       "      <td>NaN</td>\n",
       "      <td>NaN</td>\n",
       "      <td>0.989362</td>\n",
       "      <td>13</td>\n",
       "      <td>7.361486</td>\n",
       "      <td>7.477184</td>\n",
       "    </tr>\n",
       "  </tbody>\n",
       "</table>\n",
       "</div>"
      ],
      "text/plain": [
       "   p:classifier  p:C   p:alpha p:kernel  p:max_depth  p:n_estimators  \\\n",
       "10          MLP  NaN  3.685755      NaN          NaN             NaN   \n",
       "12          MLP  NaN  3.717318      NaN          NaN             NaN   \n",
       "13          MLP  NaN  2.902145      NaN          NaN             NaN   \n",
       "\n",
       "    p:n_neighbors  p:gamma  objective  job_id  m:timestamp_submit  \\\n",
       "10            NaN      NaN   0.989362      10            6.240106   \n",
       "12            NaN      NaN   0.989362      12            7.013312   \n",
       "13            NaN      NaN   0.989362      13            7.361486   \n",
       "\n",
       "    m:timestamp_gather  \n",
       "10            6.363712  \n",
       "12            7.129871  \n",
       "13            7.477184  "
      ]
     },
     "execution_count": 7,
     "metadata": {},
     "output_type": "execute_result"
    }
   ],
   "source": [
    "results.nlargest(n=3, columns=\"objective\")"
   ]
  },
  {
   "cell_type": "markdown",
   "id": "958d70ab",
   "metadata": {
    "id": "958d70ab"
   },
   "source": [
    "## Regression\n",
    "\n",
    "On this part of the tutorial we focus on the regression case.\n",
    "\n",
    "Create `run` function to train and evaluate the model corresponding to the configuration generated by the search. This function has to return a scalar value (typically, validation $R^2$), which will be maximized by the search algorithm. In the case of *automated machine learning* we use the `run`-function provided at `deephyper.sklearn.regressor.run_autosklearn1` and wrap it with our data such as:"
   ]
  },
  {
   "cell_type": "code",
   "execution_count": 8,
   "id": "96e17111",
   "metadata": {
    "id": "96e17111"
   },
   "outputs": [],
   "source": [
    "from deephyper.sklearn.regressor import run_autosklearn1\n",
    "\n",
    "\n",
    "def load_data():\n",
    "    from sklearn.datasets import fetch_california_housing\n",
    "\n",
    "    X, y = fetch_california_housing(return_X_y=True)\n",
    "    return X, y\n",
    "\n",
    "\n",
    "def run(config):\n",
    "    return run_autosklearn1(config, load_data)"
   ]
  },
  {
   "cell_type": "markdown",
   "id": "8e608783",
   "metadata": {
    "id": "8e608783"
   },
   "source": [
    "We are ready to go! But, let us look at the problem provided by DeepHyper to understand better what is happening under the hood. "
   ]
  },
  {
   "cell_type": "code",
   "execution_count": 9,
   "id": "c4f149a1",
   "metadata": {
    "colab": {
     "base_uri": "https://localhost:8080/"
    },
    "id": "c4f149a1",
    "outputId": "a1d25c3e-a7fa-4f64-d625-655d9fc1d841"
   },
   "outputs": [
    {
     "data": {
      "text/plain": [
       "Configuration space object:\n",
       "  Hyperparameters:\n",
       "    C, Type: UniformFloat, Range: [1e-05, 10.0], Default: 0.01, on log-scale\n",
       "    alpha, Type: UniformFloat, Range: [1e-05, 10.0], Default: 0.01, on log-scale\n",
       "    gamma, Type: UniformFloat, Range: [1e-05, 10.0], Default: 0.01, on log-scale\n",
       "    kernel, Type: Categorical, Choices: {linear, poly, rbf, sigmoid}, Default: linear\n",
       "    max_depth, Type: UniformInteger, Range: [2, 100], Default: 14, on log-scale\n",
       "    n_estimators, Type: UniformInteger, Range: [1, 2000], Default: 45, on log-scale\n",
       "    n_neighbors, Type: UniformInteger, Range: [1, 100], Default: 50\n",
       "    regressor, Type: Categorical, Choices: {RandomForest, Linear, AdaBoost, KNeighbors, MLP, SVR, XGBoost}, Default: RandomForest\n",
       "  Conditions:\n",
       "    (gamma | kernel == 'rbf' || gamma | kernel == 'poly' || gamma | kernel == 'sigmoid')\n",
       "    (n_estimators | regressor == 'RandomForest' || n_estimators | regressor == 'AdaBoost')\n",
       "    C | regressor == 'SVR'\n",
       "    alpha | regressor == 'MLP'\n",
       "    kernel | regressor == 'SVR'\n",
       "    max_depth | regressor == 'RandomForest'\n",
       "    n_neighbors | regressor == 'KNeighbors'"
      ]
     },
     "execution_count": 9,
     "metadata": {},
     "output_type": "execute_result"
    }
   ],
   "source": [
    "from deephyper.sklearn.regressor import problem_autosklearn1\n",
    "\n",
    "problem_autosklearn1"
   ]
  },
  {
   "cell_type": "markdown",
   "id": "65efded9",
   "metadata": {
    "id": "65efded9"
   },
   "source": [
    "Create an `Evaluator` object using the `ray` backend to distribute the evaluation of the run-function defined previously."
   ]
  },
  {
   "cell_type": "code",
   "execution_count": 10,
   "id": "6dfb2657",
   "metadata": {
    "colab": {
     "base_uri": "https://localhost:8080/"
    },
    "id": "6dfb2657",
    "outputId": "c9041c9c-78ab-43ca-98ea-f7cee67022ce"
   },
   "outputs": [
    {
     "name": "stdout",
     "output_type": "stream",
     "text": [
      "Number of workers:  1\n"
     ]
    }
   ],
   "source": [
    "from deephyper.evaluator import Evaluator\n",
    "from deephyper.evaluator.callback import TqdmCallback\n",
    "\n",
    "evaluator = Evaluator.create(run, \n",
    "                 method=\"ray\", \n",
    "                 method_kwargs={\n",
    "                     \"address\": None, \n",
    "                     \"num_cpus\": 1,\n",
    "                     \"num_cpus_per_task\": 1,\n",
    "                     \"callbacks\": [TqdmCallback()]\n",
    "                 })\n",
    "\n",
    "print(\"Number of workers: \", evaluator.num_workers)"
   ]
  },
  {
   "cell_type": "markdown",
   "id": "1c183316",
   "metadata": {
    "id": "1c183316"
   },
   "source": [
    "Finally, you can define a Bayesian optimization search called `CBO` (for Centralized Bayesian Optimization) and link to it the defined `Problem` and `evaluator`."
   ]
  },
  {
   "cell_type": "code",
   "execution_count": 11,
   "id": "29536e8a",
   "metadata": {
    "id": "29536e8a"
   },
   "outputs": [],
   "source": [
    "from deephyper.search.hps import CBO\n",
    "\n",
    "search = CBO(problem_autosklearn1, evaluator)"
   ]
  },
  {
   "cell_type": "code",
   "execution_count": 12,
   "id": "5186587f",
   "metadata": {
    "colab": {
     "base_uri": "https://localhost:8080/"
    },
    "id": "5186587f",
    "outputId": "73e015e9-a0fc-414f-b67e-17c9aa430edf"
   },
   "outputs": [
    {
     "data": {
      "application/json": {
       "ascii": false,
       "bar_format": null,
       "colour": null,
       "elapsed": 0.002698183059692383,
       "initial": 0,
       "n": 0,
       "ncols": null,
       "nrows": 63,
       "postfix": null,
       "prefix": "",
       "rate": null,
       "total": 10,
       "unit": "it",
       "unit_divisor": 1000,
       "unit_scale": false
      },
      "application/vnd.jupyter.widget-view+json": {
       "model_id": "7fa63fe18aa742ffbf0d90cc2a3bfd7e",
       "version_major": 2,
       "version_minor": 0
      },
      "text/plain": [
       "  0%|          | 0/10 [00:00<?, ?it/s]"
      ]
     },
     "metadata": {},
     "output_type": "display_data"
    }
   ],
   "source": [
    "results = search.search(10)"
   ]
  },
  {
   "cell_type": "markdown",
   "id": "6ad5e4ce",
   "metadata": {
    "id": "6ad5e4ce"
   },
   "source": [
    "Once the search is over, a file named `results.csv` is saved in the current directory. The same dataframe is returned by the `search.search(...)` call. It contains the hyperparameters configurations evaluated during the search and their corresponding `objective` value (i.e, validation $R^2$), `timestamp_submit` the time when the evaluator submitted the configuration to be evaluated and `timestamp_gather` the time when the evaluator received the configuration once evaluated (both are relative times with respect to the creation of the `Evaluator` instance)."
   ]
  },
  {
   "cell_type": "code",
   "execution_count": 13,
   "id": "d63fafaa",
   "metadata": {
    "colab": {
     "base_uri": "https://localhost:8080/",
     "height": 359
    },
    "id": "d63fafaa",
    "outputId": "af444ad2-f167-4b97-cbd5-d8cd947d4ac8"
   },
   "outputs": [
    {
     "data": {
      "text/html": [
       "<div>\n",
       "<style scoped>\n",
       "    .dataframe tbody tr th:only-of-type {\n",
       "        vertical-align: middle;\n",
       "    }\n",
       "\n",
       "    .dataframe tbody tr th {\n",
       "        vertical-align: top;\n",
       "    }\n",
       "\n",
       "    .dataframe thead th {\n",
       "        text-align: right;\n",
       "    }\n",
       "</style>\n",
       "<table border=\"1\" class=\"dataframe\">\n",
       "  <thead>\n",
       "    <tr style=\"text-align: right;\">\n",
       "      <th></th>\n",
       "      <th>p:regressor</th>\n",
       "      <th>p:C</th>\n",
       "      <th>p:alpha</th>\n",
       "      <th>p:kernel</th>\n",
       "      <th>p:max_depth</th>\n",
       "      <th>p:n_estimators</th>\n",
       "      <th>p:n_neighbors</th>\n",
       "      <th>p:gamma</th>\n",
       "      <th>objective</th>\n",
       "      <th>job_id</th>\n",
       "      <th>m:timestamp_submit</th>\n",
       "      <th>m:timestamp_gather</th>\n",
       "    </tr>\n",
       "  </thead>\n",
       "  <tbody>\n",
       "    <tr>\n",
       "      <th>0</th>\n",
       "      <td>Linear</td>\n",
       "      <td>NaN</td>\n",
       "      <td>NaN</td>\n",
       "      <td>NaN</td>\n",
       "      <td>NaN</td>\n",
       "      <td>NaN</td>\n",
       "      <td>NaN</td>\n",
       "      <td>NaN</td>\n",
       "      <td>0.597049</td>\n",
       "      <td>0</td>\n",
       "      <td>0.135866</td>\n",
       "      <td>0.154057</td>\n",
       "    </tr>\n",
       "    <tr>\n",
       "      <th>1</th>\n",
       "      <td>KNeighbors</td>\n",
       "      <td>NaN</td>\n",
       "      <td>NaN</td>\n",
       "      <td>NaN</td>\n",
       "      <td>NaN</td>\n",
       "      <td>NaN</td>\n",
       "      <td>41.0</td>\n",
       "      <td>NaN</td>\n",
       "      <td>0.666496</td>\n",
       "      <td>1</td>\n",
       "      <td>0.363004</td>\n",
       "      <td>0.664028</td>\n",
       "    </tr>\n",
       "    <tr>\n",
       "      <th>2</th>\n",
       "      <td>RandomForest</td>\n",
       "      <td>NaN</td>\n",
       "      <td>NaN</td>\n",
       "      <td>NaN</td>\n",
       "      <td>48.0</td>\n",
       "      <td>51.0</td>\n",
       "      <td>NaN</td>\n",
       "      <td>NaN</td>\n",
       "      <td>0.802510</td>\n",
       "      <td>2</td>\n",
       "      <td>0.788540</td>\n",
       "      <td>3.497786</td>\n",
       "    </tr>\n",
       "    <tr>\n",
       "      <th>3</th>\n",
       "      <td>RandomForest</td>\n",
       "      <td>NaN</td>\n",
       "      <td>NaN</td>\n",
       "      <td>NaN</td>\n",
       "      <td>7.0</td>\n",
       "      <td>245.0</td>\n",
       "      <td>NaN</td>\n",
       "      <td>NaN</td>\n",
       "      <td>0.719056</td>\n",
       "      <td>3</td>\n",
       "      <td>3.625416</td>\n",
       "      <td>10.249726</td>\n",
       "    </tr>\n",
       "    <tr>\n",
       "      <th>4</th>\n",
       "      <td>SVR</td>\n",
       "      <td>0.000063</td>\n",
       "      <td>NaN</td>\n",
       "      <td>linear</td>\n",
       "      <td>NaN</td>\n",
       "      <td>NaN</td>\n",
       "      <td>NaN</td>\n",
       "      <td>NaN</td>\n",
       "      <td>0.322115</td>\n",
       "      <td>4</td>\n",
       "      <td>10.450442</td>\n",
       "      <td>13.565911</td>\n",
       "    </tr>\n",
       "    <tr>\n",
       "      <th>5</th>\n",
       "      <td>SVR</td>\n",
       "      <td>0.000016</td>\n",
       "      <td>NaN</td>\n",
       "      <td>sigmoid</td>\n",
       "      <td>NaN</td>\n",
       "      <td>NaN</td>\n",
       "      <td>NaN</td>\n",
       "      <td>0.004180</td>\n",
       "      <td>-0.059354</td>\n",
       "      <td>5</td>\n",
       "      <td>13.690964</td>\n",
       "      <td>17.727409</td>\n",
       "    </tr>\n",
       "    <tr>\n",
       "      <th>6</th>\n",
       "      <td>SVR</td>\n",
       "      <td>0.422234</td>\n",
       "      <td>NaN</td>\n",
       "      <td>sigmoid</td>\n",
       "      <td>NaN</td>\n",
       "      <td>NaN</td>\n",
       "      <td>NaN</td>\n",
       "      <td>2.779419</td>\n",
       "      <td>-321050.500503</td>\n",
       "      <td>6</td>\n",
       "      <td>17.852672</td>\n",
       "      <td>24.922506</td>\n",
       "    </tr>\n",
       "    <tr>\n",
       "      <th>7</th>\n",
       "      <td>RandomForest</td>\n",
       "      <td>NaN</td>\n",
       "      <td>NaN</td>\n",
       "      <td>NaN</td>\n",
       "      <td>91.0</td>\n",
       "      <td>15.0</td>\n",
       "      <td>NaN</td>\n",
       "      <td>NaN</td>\n",
       "      <td>0.796552</td>\n",
       "      <td>7</td>\n",
       "      <td>25.120666</td>\n",
       "      <td>25.918885</td>\n",
       "    </tr>\n",
       "    <tr>\n",
       "      <th>8</th>\n",
       "      <td>MLP</td>\n",
       "      <td>NaN</td>\n",
       "      <td>1.350762</td>\n",
       "      <td>NaN</td>\n",
       "      <td>NaN</td>\n",
       "      <td>NaN</td>\n",
       "      <td>NaN</td>\n",
       "      <td>NaN</td>\n",
       "      <td>0.708333</td>\n",
       "      <td>8</td>\n",
       "      <td>26.042982</td>\n",
       "      <td>28.260683</td>\n",
       "    </tr>\n",
       "    <tr>\n",
       "      <th>9</th>\n",
       "      <td>MLP</td>\n",
       "      <td>NaN</td>\n",
       "      <td>0.033863</td>\n",
       "      <td>NaN</td>\n",
       "      <td>NaN</td>\n",
       "      <td>NaN</td>\n",
       "      <td>NaN</td>\n",
       "      <td>NaN</td>\n",
       "      <td>0.771833</td>\n",
       "      <td>9</td>\n",
       "      <td>28.383097</td>\n",
       "      <td>31.670986</td>\n",
       "    </tr>\n",
       "  </tbody>\n",
       "</table>\n",
       "</div>"
      ],
      "text/plain": [
       "    p:regressor       p:C   p:alpha p:kernel  p:max_depth  p:n_estimators  \\\n",
       "0        Linear       NaN       NaN      NaN          NaN             NaN   \n",
       "1    KNeighbors       NaN       NaN      NaN          NaN             NaN   \n",
       "2  RandomForest       NaN       NaN      NaN         48.0            51.0   \n",
       "3  RandomForest       NaN       NaN      NaN          7.0           245.0   \n",
       "4           SVR  0.000063       NaN   linear          NaN             NaN   \n",
       "5           SVR  0.000016       NaN  sigmoid          NaN             NaN   \n",
       "6           SVR  0.422234       NaN  sigmoid          NaN             NaN   \n",
       "7  RandomForest       NaN       NaN      NaN         91.0            15.0   \n",
       "8           MLP       NaN  1.350762      NaN          NaN             NaN   \n",
       "9           MLP       NaN  0.033863      NaN          NaN             NaN   \n",
       "\n",
       "   p:n_neighbors   p:gamma      objective  job_id  m:timestamp_submit  \\\n",
       "0            NaN       NaN       0.597049       0            0.135866   \n",
       "1           41.0       NaN       0.666496       1            0.363004   \n",
       "2            NaN       NaN       0.802510       2            0.788540   \n",
       "3            NaN       NaN       0.719056       3            3.625416   \n",
       "4            NaN       NaN       0.322115       4           10.450442   \n",
       "5            NaN  0.004180      -0.059354       5           13.690964   \n",
       "6            NaN  2.779419 -321050.500503       6           17.852672   \n",
       "7            NaN       NaN       0.796552       7           25.120666   \n",
       "8            NaN       NaN       0.708333       8           26.042982   \n",
       "9            NaN       NaN       0.771833       9           28.383097   \n",
       "\n",
       "   m:timestamp_gather  \n",
       "0            0.154057  \n",
       "1            0.664028  \n",
       "2            3.497786  \n",
       "3           10.249726  \n",
       "4           13.565911  \n",
       "5           17.727409  \n",
       "6           24.922506  \n",
       "7           25.918885  \n",
       "8           28.260683  \n",
       "9           31.670986  "
      ]
     },
     "execution_count": 13,
     "metadata": {},
     "output_type": "execute_result"
    }
   ],
   "source": [
    "results"
   ]
  },
  {
   "cell_type": "markdown",
   "id": "1ed9141f",
   "metadata": {
    "id": "1ed9141f"
   },
   "source": [
    "Now that we have the full list of results we can display the top-3."
   ]
  },
  {
   "cell_type": "code",
   "execution_count": 14,
   "id": "0754dde8",
   "metadata": {
    "colab": {
     "base_uri": "https://localhost:8080/"
    },
    "id": "0754dde8",
    "outputId": "8e2e576d-6082-45f2-b67e-7234dde266d7"
   },
   "outputs": [
    {
     "data": {
      "text/html": [
       "<div>\n",
       "<style scoped>\n",
       "    .dataframe tbody tr th:only-of-type {\n",
       "        vertical-align: middle;\n",
       "    }\n",
       "\n",
       "    .dataframe tbody tr th {\n",
       "        vertical-align: top;\n",
       "    }\n",
       "\n",
       "    .dataframe thead th {\n",
       "        text-align: right;\n",
       "    }\n",
       "</style>\n",
       "<table border=\"1\" class=\"dataframe\">\n",
       "  <thead>\n",
       "    <tr style=\"text-align: right;\">\n",
       "      <th></th>\n",
       "      <th>p:regressor</th>\n",
       "      <th>p:C</th>\n",
       "      <th>p:alpha</th>\n",
       "      <th>p:kernel</th>\n",
       "      <th>p:max_depth</th>\n",
       "      <th>p:n_estimators</th>\n",
       "      <th>p:n_neighbors</th>\n",
       "      <th>p:gamma</th>\n",
       "      <th>objective</th>\n",
       "      <th>job_id</th>\n",
       "      <th>m:timestamp_submit</th>\n",
       "      <th>m:timestamp_gather</th>\n",
       "    </tr>\n",
       "  </thead>\n",
       "  <tbody>\n",
       "    <tr>\n",
       "      <th>2</th>\n",
       "      <td>RandomForest</td>\n",
       "      <td>NaN</td>\n",
       "      <td>NaN</td>\n",
       "      <td>NaN</td>\n",
       "      <td>48.0</td>\n",
       "      <td>51.0</td>\n",
       "      <td>NaN</td>\n",
       "      <td>NaN</td>\n",
       "      <td>0.802510</td>\n",
       "      <td>2</td>\n",
       "      <td>0.788540</td>\n",
       "      <td>3.497786</td>\n",
       "    </tr>\n",
       "    <tr>\n",
       "      <th>7</th>\n",
       "      <td>RandomForest</td>\n",
       "      <td>NaN</td>\n",
       "      <td>NaN</td>\n",
       "      <td>NaN</td>\n",
       "      <td>91.0</td>\n",
       "      <td>15.0</td>\n",
       "      <td>NaN</td>\n",
       "      <td>NaN</td>\n",
       "      <td>0.796552</td>\n",
       "      <td>7</td>\n",
       "      <td>25.120666</td>\n",
       "      <td>25.918885</td>\n",
       "    </tr>\n",
       "    <tr>\n",
       "      <th>9</th>\n",
       "      <td>MLP</td>\n",
       "      <td>NaN</td>\n",
       "      <td>0.033863</td>\n",
       "      <td>NaN</td>\n",
       "      <td>NaN</td>\n",
       "      <td>NaN</td>\n",
       "      <td>NaN</td>\n",
       "      <td>NaN</td>\n",
       "      <td>0.771833</td>\n",
       "      <td>9</td>\n",
       "      <td>28.383097</td>\n",
       "      <td>31.670986</td>\n",
       "    </tr>\n",
       "  </tbody>\n",
       "</table>\n",
       "</div>"
      ],
      "text/plain": [
       "    p:regressor  p:C   p:alpha p:kernel  p:max_depth  p:n_estimators  \\\n",
       "2  RandomForest  NaN       NaN      NaN         48.0            51.0   \n",
       "7  RandomForest  NaN       NaN      NaN         91.0            15.0   \n",
       "9           MLP  NaN  0.033863      NaN          NaN             NaN   \n",
       "\n",
       "   p:n_neighbors  p:gamma  objective  job_id  m:timestamp_submit  \\\n",
       "2            NaN      NaN   0.802510       2            0.788540   \n",
       "7            NaN      NaN   0.796552       7           25.120666   \n",
       "9            NaN      NaN   0.771833       9           28.383097   \n",
       "\n",
       "   m:timestamp_gather  \n",
       "2            3.497786  \n",
       "7           25.918885  \n",
       "9           31.670986  "
      ]
     },
     "execution_count": 14,
     "metadata": {},
     "output_type": "execute_result"
    }
   ],
   "source": [
    "results.nlargest(n=3, columns=\"objective\")"
   ]
  }
 ],
 "metadata": {
  "colab": {
   "name": "AutoML_with_Sklearn.ipynb",
   "provenance": []
  },
  "interpreter": {
   "hash": "9dc039a2a4f4ad8a9dc018393b0776cc00e1bb4d428a37e9ad776085656c6f7f"
  },
  "kernelspec": {
   "display_name": "Python 3 (ipykernel)",
   "language": "python",
   "name": "python3"
  },
  "language_info": {
   "codemirror_mode": {
    "name": "ipython",
    "version": 3
   },
   "file_extension": ".py",
   "mimetype": "text/x-python",
   "name": "python",
   "nbconvert_exporter": "python",
   "pygments_lexer": "ipython3",
   "version": "3.9.13"
  }
 },
 "nbformat": 4,
 "nbformat_minor": 5
}
