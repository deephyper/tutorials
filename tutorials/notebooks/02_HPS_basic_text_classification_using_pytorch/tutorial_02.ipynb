{
  "cells": [
    {
      "cell_type": "markdown",
      "metadata": {},
      "source": [
        "# Hyperparameter search for text classification (Pytorch)\n",
        "\n",
        "In this tutorial we present how to use hyperparameter optimization on a text classification analysis example from the Pytorch documentation.\n",
        "\n",
        "**Reference**:\n",
        " This tutorial is based on materials from the Pytorch Documentation: [Text classification with the torchtext library](https://pytorch.org/tutorials/beginner/text_sentiment_ngrams_tutorial.html)\n",
        "    \n",
        "<div class=\"alert alert-warning\">\n",
        "\n",
        "<b>Warning</b>\n",
        "    \n",
        "By design asyncio does not allow nested event loops. Jupyter is using Tornado which already starts an event loop. Therefore the following patch is required to run this tutorial.\n",
        "    \n",
        "</div>"
      ]
    },
    {
      "cell_type": "code",
      "execution_count": 1,
      "metadata": {},
      "outputs": [
        {
          "name": "stdout",
          "output_type": "stream",
          "text": [
            "Requirement already satisfied: nest_asyncio in /home/joceran/miniconda3/envs/deephyper/lib/python3.8/site-packages (1.5.1)\n"
          ]
        }
      ],
      "source": [
        "!pip install nest_asyncio\n",
        "\n",
        "import nest_asyncio\n",
        "nest_asyncio.apply()"
      ]
    },
    {
      "cell_type": "markdown",
      "metadata": {},
      "source": [
        "## Imports"
      ]
    },
    {
      "cell_type": "code",
      "execution_count": 2,
      "metadata": {},
      "outputs": [],
      "source": [
        "import ray\n",
        "import json\n",
        "import pandas as pd\n",
        "from functools import partial\n",
        "\n",
        "import torch\n",
        "\n",
        "from torchtext.data.utils import get_tokenizer\n",
        "from torchtext.data.functional import to_map_style_dataset\n",
        "from torchtext.vocab import build_vocab_from_iterator\n",
        "\n",
        "from torch.utils.data import DataLoader\n",
        "from torch.utils.data.dataset import random_split\n",
        "\n",
        "from torch import nn"
      ]
    },
    {
      "cell_type": "markdown",
      "metadata": {},
      "source": [
        "<div class=\"alert alert-info\">\n",
        "    \n",
        "<b>Note</b>\n",
        "    \n",
        "The following can be used to detect if <b>CUDA</b> devices are available on the current host. Therefore, this notebook will automatically adapt the parallel execution based on the ressources available locally. However, it will not be the case if many compute nodes are requested.\n",
        "    \n",
        "</div>"
      ]
    },
    {
      "cell_type": "code",
      "execution_count": 3,
      "metadata": {},
      "outputs": [],
      "source": [
        "is_gpu_available = torch.cuda.is_available()\n",
        "n_gpus = torch.cuda.device_count()"
      ]
    },
    {
      "cell_type": "markdown",
      "metadata": {},
      "source": [
        "## The dataset\n",
        "\n",
        "The torchtext library provides a few raw dataset iterators, which yield the raw text strings. For example, the `AG_NEWS` dataset iterators yield the raw data as a tuple of label and text. It has four labels (1 : World 2 : Sports 3 : Business 4 : Sci/Tec).\n",
        "\n",
        "<div class=\"alert alert-info\">"
      ]
    },
    {
      "cell_type": "code",
      "execution_count": 4,
      "metadata": {
        "collapsed": false
      },
      "outputs": [],
      "source": [
        "from torchtext.datasets import AG_NEWS\n",
        "\n",
        "def load_data(train_ratio):\n",
        "    train_iter, test_iter = AG_NEWS()\n",
        "    train_dataset = to_map_style_dataset(train_iter)\n",
        "    test_dataset = to_map_style_dataset(test_iter)\n",
        "    num_train = int(len(train_dataset) * train_ratio)\n",
        "    split_train, split_valid = \\\n",
        "        random_split(train_dataset, [num_train, len(train_dataset) - num_train])\n",
        "\n",
        "    return split_train, split_valid, test_dataset"
      ]
    },
    {
      "cell_type": "markdown",
      "metadata": {},
      "source": [
        "## Preprocessing pipelines and Batch generation\n",
        "\n",
        "Here is an example for typical NLP data processing with tokenizer and vocabulary. The first step is to build a vocabulary with the raw training dataset. Here we use built in\n",
        "factory function `build_vocab_from_iterator` which accepts iterator that yield list or iterator of tokens. Users can also pass any special symbols to be added to the\n",
        "vocabulary.\n",
        "\n",
        "The vocabulary block converts a list of tokens into integers.\n",
        "\n",
        "```\n",
        "vocab(['here', 'is', 'an', 'example'])\n",
        ">>> [475, 21, 30, 5286]\n",
        "```\n",
        "\n",
        "The text pipeline converts a text string into a list of integers based on the lookup table defined in the vocabulary. The label pipeline converts the label into integers. For example,\n",
        "\n",
        "```\n",
        "text_pipeline('here is the an example')\n",
        ">>> [475, 21, 2, 30, 5286]\n",
        "label_pipeline('10')\n",
        ">>> 9\n",
        "```"
      ]
    },
    {
      "cell_type": "code",
      "execution_count": 5,
      "metadata": {
        "collapsed": false
      },
      "outputs": [],
      "source": [
        "train_iter = AG_NEWS(split='train')\n",
        "num_class = 4\n",
        "\n",
        "tokenizer = get_tokenizer('basic_english')\n",
        "\n",
        "def yield_tokens(data_iter):\n",
        "    for _, text in data_iter:\n",
        "        yield tokenizer(text)\n",
        "\n",
        "vocab = build_vocab_from_iterator(yield_tokens(train_iter), specials=[\"<unk>\"])\n",
        "vocab.set_default_index(vocab[\"<unk>\"])\n",
        "vocab_size = len(vocab)\n",
        "\n",
        "text_pipeline = lambda x: vocab(tokenizer(x))\n",
        "label_pipeline = lambda x: int(x) - 1\n",
        "\n",
        "\n",
        "def collate_batch(batch, device):\n",
        "    label_list, text_list, offsets = [], [], [0]\n",
        "    for (_label, _text) in batch:\n",
        "        label_list.append(label_pipeline(_label))\n",
        "        processed_text = torch.tensor(text_pipeline(_text), dtype=torch.int64)\n",
        "        text_list.append(processed_text)\n",
        "        offsets.append(processed_text.size(0))\n",
        "    label_list = torch.tensor(label_list, dtype=torch.int64)\n",
        "    offsets = torch.tensor(offsets[:-1]).cumsum(dim=0)\n",
        "    text_list = torch.cat(text_list)\n",
        "    return label_list.to(device), text_list.to(device), offsets.to(device)"
      ]
    },
    {
      "cell_type": "markdown",
      "metadata": {},
      "source": [
        "<div class=\"alert alert-info\"> \n",
        "<b>Note</b>  \n",
        "<br>\n",
        "\n",
        "The `collate_fn` function works on a batch of samples generated from `DataLoader`. The input to `collate_fn` is a batch of data with the batch size in `DataLoader`, and `collate_fn` processes them according to the data processing pipelines declared previously.\n",
        "    \n",
        "</div>\n"
      ]
    },
    {
      "cell_type": "markdown",
      "metadata": {},
      "source": [
        "## Define the model\n",
        "\n",
        "The model is composed of the [nn.EmbeddingBag](https://pytorch.org/docs/stable/nn.html?highlight=embeddingbag#torch.nn.EmbeddingBag) layer plus a linear layer for the classification purpose."
      ]
    },
    {
      "cell_type": "code",
      "execution_count": 6,
      "metadata": {
        "collapsed": false
      },
      "outputs": [],
      "source": [
        "class TextClassificationModel(nn.Module):\n",
        "\n",
        "    def __init__(self, vocab_size, embed_dim, num_class):\n",
        "        super(TextClassificationModel, self).__init__()\n",
        "        self.embedding = nn.EmbeddingBag(vocab_size, embed_dim, sparse=True)\n",
        "        self.fc = nn.Linear(embed_dim, num_class)\n",
        "        self.init_weights()\n",
        "\n",
        "    def init_weights(self):\n",
        "        initrange = 0.5\n",
        "        self.embedding.weight.data.uniform_(-initrange, initrange)\n",
        "        self.fc.weight.data.uniform_(-initrange, initrange)\n",
        "        self.fc.bias.data.zero_()\n",
        "\n",
        "    def forward(self, text, offsets):\n",
        "        embedded = self.embedding(text, offsets)\n",
        "        return self.fc(embedded)"
      ]
    },
    {
      "cell_type": "markdown",
      "metadata": {},
      "source": [
        "Define functions to train the model and evaluate results.\n",
        "---------------------------------------------------------\n",
        "\n",
        "\n"
      ]
    },
    {
      "cell_type": "code",
      "execution_count": 7,
      "metadata": {
        "collapsed": false
      },
      "outputs": [],
      "source": [
        "def train(model, criterion, optimizer, dataloader):\n",
        "    model.train()\n",
        "\n",
        "    for _, (label, text, offsets) in enumerate(dataloader):\n",
        "        optimizer.zero_grad()\n",
        "        predicted_label = model(text, offsets)\n",
        "        loss = criterion(predicted_label, label)\n",
        "        loss.backward()\n",
        "        torch.nn.utils.clip_grad_norm_(model.parameters(), 0.1)\n",
        "        optimizer.step()\n",
        "\n",
        "def evaluate(model, dataloader):\n",
        "    model.eval()\n",
        "    total_acc, total_count = 0, 0\n",
        "\n",
        "    with torch.no_grad():\n",
        "        for _, (label, text, offsets) in enumerate(dataloader):\n",
        "            predicted_label = model(text, offsets)\n",
        "            total_acc += (predicted_label.argmax(1) == label).sum().item()\n",
        "            total_count += label.size(0)\n",
        "    return total_acc/total_count"
      ]
    },
    {
      "cell_type": "markdown",
      "metadata": {},
      "source": [
        "## Define the run-function\n",
        "\n",
        "The run-function defines how the objective that we want to maximize is computed. It takes a `config` dictionary as input and often returns a scalar value that we want to maximize. The `config` contains a sample value of hyperparameters that we want to tune. In this example we will search for:\n",
        "\n",
        "* `num_epochs` (default value: `10`)\n",
        "* `batch_size` (default value: `64`)\n",
        "* `learning_rate` (default value: `5`)\n",
        "\n",
        "A hyperparameter value can be acessed easily in the dictionary through the corresponding key, for example `config[\"units\"]`."
      ]
    },
    {
      "cell_type": "code",
      "execution_count": 8,
      "metadata": {
        "collapsed": false
      },
      "outputs": [],
      "source": [
        "def get_run(train_ratio=0.95):\n",
        "  def run(config: dict):\n",
        "    device = torch.device(\"cuda\" if torch.cuda.is_available() else \"cpu\")\n",
        "\n",
        "    embed_dim = 64\n",
        "    \n",
        "    collate_fn = partial(collate_batch, device=device)\n",
        "    split_train, split_valid, _ = load_data(train_ratio)\n",
        "    train_dataloader = DataLoader(split_train, batch_size=int(config[\"batch_size\"]),\n",
        "                                shuffle=True, collate_fn=collate_fn)\n",
        "    valid_dataloader = DataLoader(split_valid, batch_size=int(config[\"batch_size\"]),\n",
        "                                shuffle=True, collate_fn=collate_fn)\n",
        "\n",
        "    model = TextClassificationModel(vocab_size, int(embed_dim), num_class).to(device)\n",
        "      \n",
        "    criterion = torch.nn.CrossEntropyLoss()\n",
        "    optimizer = torch.optim.SGD(model.parameters(), lr=config[\"learning_rate\"])\n",
        "\n",
        "    for _ in range(1, int(config[\"num_epochs\"]) + 1):\n",
        "        train(model, criterion, optimizer, train_dataloader)\n",
        "    \n",
        "    accu_test = evaluate(model, valid_dataloader)\n",
        "    return accu_test\n",
        "  return run"
      ]
    },
    {
      "cell_type": "markdown",
      "metadata": {},
      "source": [
        "We create two versions of `run`, one quicker to evaluate for the seacrh, with a small training dataset, and another one, for performance evaluation, which uses a normal training/validation ratio."
      ]
    },
    {
      "cell_type": "code",
      "execution_count": 9,
      "metadata": {},
      "outputs": [],
      "source": [
        "quick_run = get_run(train_ratio=0.3)\n",
        "perf_run = get_run(train_ratio=0.95)"
      ]
    },
    {
      "cell_type": "markdown",
      "metadata": {},
      "source": [
        "<div class=\"alert alert-info\"> \n",
        "<b>Note</b>  \n",
        "<br>\n",
        "\n",
        "The objective maximised by DeepHyper is the scalar value returned by the `run`-function.\n",
        "    \n",
        "</div>\n",
        "\n",
        "In this tutorial it corresponds to the validation accuracy of the model after training."
      ]
    },
    {
      "cell_type": "markdown",
      "metadata": {},
      "source": [
        "## Evaluate a default configuration\n",
        "\n",
        "We evaluate the performance of the default set of hyperparameters provided in the Pytorch tutorial."
      ]
    },
    {
      "cell_type": "code",
      "execution_count": 10,
      "metadata": {},
      "outputs": [
        {
          "name": "stderr",
          "output_type": "stream",
          "text": [
            "2021-10-20 18:10:07,961\tINFO services.py:1245 -- View the Ray dashboard at \u001b[1m\u001b[32mhttp://127.0.0.1:8265\u001b[39m\u001b[22m\n"
          ]
        },
        {
          "name": "stdout",
          "output_type": "stream",
          "text": [
            "Accuracy Default Configuration:  0.906\n"
          ]
        }
      ],
      "source": [
        "# We define a dictionnary for the default values\n",
        "default_config = {\n",
        "    \"num_epochs\": 10,\n",
        "    \"batch_size\": 64,\n",
        "    \"learning_rate\": 5,\n",
        "}\n",
        "\n",
        "# We launch the Ray run-time and execute the `run` function\n",
        "# with the default configuration\n",
        "\n",
        "if is_gpu_available:\n",
        "    if not(ray.is_initialized()):\n",
        "        ray.init(num_cpus=n_gpus, num_gpus=n_gpus, log_to_driver=False)\n",
        "    \n",
        "    run_default = ray.remote(num_cpus=1, num_gpus=1)(perf_run)\n",
        "    objective_default = ray.get(run_default.remote(default_config))\n",
        "else:\n",
        "    if not(ray.is_initialized()):\n",
        "        ray.init(num_cpus=1, log_to_driver=False)\n",
        "    run_default = perf_run\n",
        "    objective_default = run_default(default_config)\n",
        "\n",
        "print(f\"Accuracy Default Configuration:  {objective_default:.3f}\")"
      ]
    },
    {
      "cell_type": "markdown",
      "metadata": {},
      "source": [
        "## Define the Hyperparameter optimization problem\n",
        "\n",
        "Hyperparameter ranges are defined using the following syntax:\n",
        "\n",
        "* Discrete integer ranges are generated from a tuple `(lower: int, upper: int)`\n",
        "* Continuous prarameters are generated from a tuple `(lower: float, upper: float)`\n",
        "* Categorical or nonordinal hyperparameter ranges can be given as a list of possible values `[val1, val2, ...]`\n",
        "\n",
        "We provide the default configuration of hyperparameters as a starting point of the problem."
      ]
    },
    {
      "cell_type": "code",
      "execution_count": 11,
      "metadata": {},
      "outputs": [
        {
          "name": "stderr",
          "output_type": "stream",
          "text": [
            "2021-10-20 18:12:29.671853: W tensorflow/stream_executor/platform/default/dso_loader.cc:64] Could not load dynamic library 'libcudart.so.11.0'; dlerror: libcudart.so.11.0: cannot open shared object file: No such file or directory\n",
            "2021-10-20 18:12:29.671904: I tensorflow/stream_executor/cuda/cudart_stub.cc:29] Ignore above cudart dlerror if you do not have a GPU set up on your machine.\n"
          ]
        },
        {
          "data": {
            "text/plain": [
              "Configuration space object:\n",
              "  Hyperparameters:\n",
              "    batch_size, Type: UniformInteger, Range: [8, 256], Default: 45, on log-scale\n",
              "    learning_rate, Type: UniformFloat, Range: [0.5, 5.0], Default: 1.5811388301, on log-scale\n",
              "    num_epochs, Type: UniformInteger, Range: [5, 20], Default: 12\n",
              "\n",
              "\n",
              "  Starting Point:\n",
              "{0: {'batch_size': 64, 'learning_rate': 5, 'num_epochs': 10}}"
            ]
          },
          "execution_count": 11,
          "metadata": {},
          "output_type": "execute_result"
        }
      ],
      "source": [
        "from deephyper.problem import HpProblem\n",
        "\n",
        "problem = HpProblem()\n",
        "# Discrete hyperparameter (sampled with uniform prior)\n",
        "problem.add_hyperparameter((5, 20), \"num_epochs\")\n",
        "# Discrete and Real hyperparameters (sampled with log-uniform)\n",
        "problem.add_hyperparameter((8, 256, \"log-uniform\"), \"batch_size\")\n",
        "problem.add_hyperparameter((0.5, 5, \"log-uniform\"), \"learning_rate\")\n",
        "\n",
        "# Add a starting point to try first\n",
        "problem.add_starting_point(**default_config)\n",
        "problem"
      ]
    },
    {
      "cell_type": "markdown",
      "metadata": {},
      "source": [
        "## Define the evaluator object\n",
        "\n",
        "The `Evaluator` object allows to change the parallelization backend used by DeepHyper.  \n",
        "It is a standalone object which schedules the execution of remote tasks. All evaluators needs a `run_function` to be instantiated.  \n",
        "Then a keyword `method` defines the backend (e.g., `\"ray\"`) and the `method_kwargs` corresponds to keyword arguments of this chosen `method`.\n",
        "\n",
        "```python\n",
        "evaluator = Evaluator.create(run_function, method, method_kwargs)\n",
        "```\n",
        "\n",
        "Once created the `evaluator.num_workers` gives access to the number of available parallel workers.\n",
        "\n",
        "Finally, to submit and collect tasks to the evaluator one just needs to use the following interface:\n",
        "\n",
        "```python\n",
        "configs = [...]\n",
        "evaluator.submit(configs)\n",
        "...\n",
        "tasks_done = evaluator.get(\"BATCH\", size=1) # For asynchronous\n",
        "tasks_done = evaluator.get(\"ALL\") # For batch synchronous\n",
        "```\n",
        "\n",
        "<div class=\"alert alert-warning\">\n",
        "\n",
        "<b>Warning</b>\n",
        "\n",
        "Each `Evaluator` saves its own state, therefore it is crucial to create a new evaluator when launching a fresh search.\n",
        "    \n",
        "</div>\n"
      ]
    },
    {
      "cell_type": "code",
      "execution_count": 12,
      "metadata": {},
      "outputs": [
        {
          "name": "stdout",
          "output_type": "stream",
          "text": [
            "Created new evaluator with 1 worker and config: {'num_cpus': 1, 'num_cpus_per_task': 1, 'callbacks': [<deephyper.evaluator.callback.LoggerCallback object at 0x7fdc677efaf0>]}\n"
          ]
        }
      ],
      "source": [
        "from deephyper.evaluator import Evaluator\n",
        "from deephyper.evaluator.callback import LoggerCallback\n",
        "\n",
        "def get_evaluator(run_function):\n",
        "    # Default arguments for Ray: 1 worker and 1 worker per evaluation\n",
        "    method_kwargs = {\n",
        "        \"num_cpus\": 1, \n",
        "        \"num_cpus_per_task\": 1,\n",
        "        \"callbacks\": [LoggerCallback()]\n",
        "    }\n",
        "\n",
        "    # If GPU devices are detected then it will create 'n_gpus' workers\n",
        "    # and use 1 worker for each evaluation\n",
        "    if is_gpu_available:\n",
        "        method_kwargs[\"num_cpus\"] = n_gpus\n",
        "        method_kwargs[\"num_gpus\"] = n_gpus\n",
        "        method_kwargs[\"num_cpus_per_task\"] = 1\n",
        "        method_kwargs[\"num_gpus_per_task\"] = 1\n",
        "\n",
        "    evaluator = Evaluator.create(\n",
        "        run_function, \n",
        "        method=\"ray\", \n",
        "        method_kwargs=method_kwargs\n",
        "    )\n",
        "    print(f\"Created new evaluator with {evaluator.num_workers} worker{'s' if evaluator.num_workers > 1 else ''} and config: {method_kwargs}\", )\n",
        "    \n",
        "    return evaluator\n",
        "\n",
        "evaluator_1 = get_evaluator(quick_run)"
      ]
    },
    {
      "cell_type": "markdown",
      "metadata": {},
      "source": [
        "## Define and run the asynchronous model-based search (AMBS)\n",
        "\n",
        "We create the AMBS using the `problem` and `evaluator` defined above."
      ]
    },
    {
      "cell_type": "code",
      "execution_count": 13,
      "metadata": {},
      "outputs": [],
      "source": [
        "from deephyper.search.hps import AMBS\n",
        "# Uncomment the following line to show the arguments of AMBS.\n",
        "# AMBS?"
      ]
    },
    {
      "cell_type": "code",
      "execution_count": 14,
      "metadata": {},
      "outputs": [],
      "source": [
        "# Instanciate the search with the problem and a specific evaluator\n",
        "search = AMBS(problem, evaluator_1)"
      ]
    },
    {
      "cell_type": "markdown",
      "metadata": {},
      "source": [
        "<div class=\"alert alert-info\">\n",
        "    \n",
        "<b>Note</b>\n",
        "    \n",
        "All DeepHyper's search algorithm have two stopping criteria:\n",
        "    <ul> \n",
        "        <li> <code>`max_evals (int)`</code>: Defines the maximum number of evaluations that we want to perform. Default to <code>-1</code> for an infinite number.</li>\n",
        "        <li> <code>`timeout (int)`</code>: Defines a time budget (in seconds) before stopping the search. Default to <code>None</code> for an infinite time budget.</li>\n",
        "    </ul>\n",
        "    \n",
        "</div>"
      ]
    },
    {
      "cell_type": "code",
      "execution_count": 15,
      "metadata": {},
      "outputs": [
        {
          "name": "stdout",
          "output_type": "stream",
          "text": [
            "[00001] -- best objective: 0.88673 -- received objective: 0.88673\n",
            "[00002] -- best objective: 0.88673 -- received objective: 0.88354\n",
            "[00003] -- best objective: 0.88796 -- received objective: 0.88796\n",
            "[00004] -- best objective: 0.89012 -- received objective: 0.89012\n",
            "[00005] -- best objective: 0.89294 -- received objective: 0.89294\n",
            "[00006] -- best objective: 0.89294 -- received objective: 0.88995\n",
            "[00007] -- best objective: 0.89693 -- received objective: 0.89693\n",
            "[00008] -- best objective: 0.89693 -- received objective: 0.89171\n",
            "[00009] -- best objective: 0.89693 -- received objective: 0.89379\n",
            "[00010] -- best objective: 0.89693 -- received objective: 0.88664\n"
          ]
        }
      ],
      "source": [
        "results = search.search(max_evals=10)"
      ]
    },
    {
      "cell_type": "markdown",
      "metadata": {},
      "source": [
        "<div class=\"alert alert-warning\">\n",
        "\n",
        "<b>Warning</b>\n",
        "    \n",
        "The `search` call does not output any information about the current status of the search. However, a `results.csv` file is created in the local directly and can be visualized to see finished tasks.\n",
        "    \n",
        "</div>\n",
        "\n",
        "The returned `results` is a Pandas Dataframe where columns are hyperparameters and information stored by the evaluator:\n",
        "\n",
        "* `id` is a unique identifier corresponding to the order of creation of tasks\n",
        "* `objective` is the value returned by the run-function\n",
        "* `elapsed_sec` is the time (in seconds) when the task completed since the creation of the evaluator.\n",
        "* `duration` is the duration (in seconds) of the task to be computed."
      ]
    },
    {
      "cell_type": "code",
      "execution_count": 16,
      "metadata": {},
      "outputs": [
        {
          "data": {
            "text/html": [
              "<div>\n",
              "<style scoped>\n",
              "    .dataframe tbody tr th:only-of-type {\n",
              "        vertical-align: middle;\n",
              "    }\n",
              "\n",
              "    .dataframe tbody tr th {\n",
              "        vertical-align: top;\n",
              "    }\n",
              "\n",
              "    .dataframe thead th {\n",
              "        text-align: right;\n",
              "    }\n",
              "</style>\n",
              "<table border=\"1\" class=\"dataframe\">\n",
              "  <thead>\n",
              "    <tr style=\"text-align: right;\">\n",
              "      <th></th>\n",
              "      <th>batch_size</th>\n",
              "      <th>learning_rate</th>\n",
              "      <th>num_epochs</th>\n",
              "      <th>id</th>\n",
              "      <th>objective</th>\n",
              "      <th>elapsed_sec</th>\n",
              "      <th>duration</th>\n",
              "    </tr>\n",
              "  </thead>\n",
              "  <tbody>\n",
              "    <tr>\n",
              "      <th>0</th>\n",
              "      <td>64</td>\n",
              "      <td>5.000000</td>\n",
              "      <td>10</td>\n",
              "      <td>1</td>\n",
              "      <td>0.886726</td>\n",
              "      <td>57.968063</td>\n",
              "      <td>57.503992</td>\n",
              "    </tr>\n",
              "    <tr>\n",
              "      <th>1</th>\n",
              "      <td>70</td>\n",
              "      <td>3.307178</td>\n",
              "      <td>6</td>\n",
              "      <td>2</td>\n",
              "      <td>0.883536</td>\n",
              "      <td>93.855454</td>\n",
              "      <td>35.702444</td>\n",
              "    </tr>\n",
              "    <tr>\n",
              "      <th>2</th>\n",
              "      <td>102</td>\n",
              "      <td>4.980502</td>\n",
              "      <td>6</td>\n",
              "      <td>3</td>\n",
              "      <td>0.887964</td>\n",
              "      <td>128.688401</td>\n",
              "      <td>34.650392</td>\n",
              "    </tr>\n",
              "    <tr>\n",
              "      <th>3</th>\n",
              "      <td>157</td>\n",
              "      <td>4.174305</td>\n",
              "      <td>8</td>\n",
              "      <td>4</td>\n",
              "      <td>0.890119</td>\n",
              "      <td>170.045705</td>\n",
              "      <td>41.182382</td>\n",
              "    </tr>\n",
              "    <tr>\n",
              "      <th>4</th>\n",
              "      <td>16</td>\n",
              "      <td>3.834167</td>\n",
              "      <td>8</td>\n",
              "      <td>5</td>\n",
              "      <td>0.892940</td>\n",
              "      <td>236.750850</td>\n",
              "      <td>66.523159</td>\n",
              "    </tr>\n",
              "    <tr>\n",
              "      <th>5</th>\n",
              "      <td>26</td>\n",
              "      <td>3.565162</td>\n",
              "      <td>15</td>\n",
              "      <td>6</td>\n",
              "      <td>0.889952</td>\n",
              "      <td>334.821765</td>\n",
              "      <td>97.850210</td>\n",
              "    </tr>\n",
              "    <tr>\n",
              "      <th>6</th>\n",
              "      <td>14</td>\n",
              "      <td>0.762862</td>\n",
              "      <td>17</td>\n",
              "      <td>7</td>\n",
              "      <td>0.896929</td>\n",
              "      <td>473.556122</td>\n",
              "      <td>138.550948</td>\n",
              "    </tr>\n",
              "    <tr>\n",
              "      <th>7</th>\n",
              "      <td>42</td>\n",
              "      <td>1.415844</td>\n",
              "      <td>19</td>\n",
              "      <td>8</td>\n",
              "      <td>0.891714</td>\n",
              "      <td>579.014818</td>\n",
              "      <td>105.281558</td>\n",
              "    </tr>\n",
              "    <tr>\n",
              "      <th>8</th>\n",
              "      <td>12</td>\n",
              "      <td>0.640161</td>\n",
              "      <td>16</td>\n",
              "      <td>9</td>\n",
              "      <td>0.893786</td>\n",
              "      <td>720.144839</td>\n",
              "      <td>140.955280</td>\n",
              "    </tr>\n",
              "    <tr>\n",
              "      <th>9</th>\n",
              "      <td>13</td>\n",
              "      <td>0.939023</td>\n",
              "      <td>7</td>\n",
              "      <td>10</td>\n",
              "      <td>0.886643</td>\n",
              "      <td>784.013679</td>\n",
              "      <td>63.674891</td>\n",
              "    </tr>\n",
              "  </tbody>\n",
              "</table>\n",
              "</div>"
            ],
            "text/plain": [
              "   batch_size  learning_rate  num_epochs  id  objective  elapsed_sec  \\\n",
              "0          64       5.000000          10   1   0.886726    57.968063   \n",
              "1          70       3.307178           6   2   0.883536    93.855454   \n",
              "2         102       4.980502           6   3   0.887964   128.688401   \n",
              "3         157       4.174305           8   4   0.890119   170.045705   \n",
              "4          16       3.834167           8   5   0.892940   236.750850   \n",
              "5          26       3.565162          15   6   0.889952   334.821765   \n",
              "6          14       0.762862          17   7   0.896929   473.556122   \n",
              "7          42       1.415844          19   8   0.891714   579.014818   \n",
              "8          12       0.640161          16   9   0.893786   720.144839   \n",
              "9          13       0.939023           7  10   0.886643   784.013679   \n",
              "\n",
              "     duration  \n",
              "0   57.503992  \n",
              "1   35.702444  \n",
              "2   34.650392  \n",
              "3   41.182382  \n",
              "4   66.523159  \n",
              "5   97.850210  \n",
              "6  138.550948  \n",
              "7  105.281558  \n",
              "8  140.955280  \n",
              "9   63.674891  "
            ]
          },
          "execution_count": 16,
          "metadata": {},
          "output_type": "execute_result"
        }
      ],
      "source": [
        "results"
      ]
    },
    {
      "cell_type": "markdown",
      "metadata": {},
      "source": [
        "## Evaluate the best configuration\n",
        "\n",
        "Now that the search is over, let us print the best configuration found during this run and evaluate it on the full training dataset."
      ]
    },
    {
      "cell_type": "code",
      "execution_count": 17,
      "metadata": {},
      "outputs": [
        {
          "name": "stdout",
          "output_type": "stream",
          "text": [
            "The default configuration has an accuracy of 0.906. \n",
            "The best configuration found by DeepHyper has an accuracy 0.897, \n",
            "trained in 138.55 secondes and \n",
            "finished after 473.56 secondes of search.\n",
            "\n",
            "{\n",
            "    \"batch_size\": 14.0,\n",
            "    \"learning_rate\": 0.7628621249544358,\n",
            "    \"num_epochs\": 17.0,\n",
            "    \"id\": 7.0\n",
            "}\n"
          ]
        }
      ],
      "source": [
        "i_max = results.objective.argmax()\n",
        "best_config = results.iloc[i_max][:-3].to_dict()\n",
        "\n",
        "print(f\"The default configuration has an accuracy of {objective_default:.3f}. \\n\" \n",
        "      f\"The best configuration found by DeepHyper has an accuracy {results['objective'].iloc[i_max]:.3f}, \\n\" \n",
        "      f\"trained in {results['duration'].iloc[i_max]:.2f} secondes and \\n\"\n",
        "      f\"finished after {results['elapsed_sec'].iloc[i_max]:.2f} secondes of search.\\n\")\n",
        "\n",
        "print(json.dumps(best_config, indent=4))"
      ]
    },
    {
      "cell_type": "code",
      "execution_count": 18,
      "metadata": {},
      "outputs": [
        {
          "name": "stdout",
          "output_type": "stream",
          "text": [
            "Accuracy Best Configuration:  0.913\n"
          ]
        }
      ],
      "source": [
        "objective_best = perf_run(best_config)\n",
        "print(f\"Accuracy Best Configuration:  {objective_best:.3f}\")"
      ]
    }
  ],
  "metadata": {
    "interpreter": {
      "hash": "c33774984308773a164e9991715538701a09ddea2391d4c1ef9b39eda340d87d"
    },
    "kernelspec": {
      "display_name": "Python 3.8.11 64-bit ('deephyper': conda)",
      "name": "python3"
    },
    "language_info": {
      "codemirror_mode": {
        "name": "ipython",
        "version": 3
      },
      "file_extension": ".py",
      "mimetype": "text/x-python",
      "name": "python",
      "nbconvert_exporter": "python",
      "pygments_lexer": "ipython3",
      "version": "3.8.11"
    }
  },
  "nbformat": 4,
  "nbformat_minor": 0
}
