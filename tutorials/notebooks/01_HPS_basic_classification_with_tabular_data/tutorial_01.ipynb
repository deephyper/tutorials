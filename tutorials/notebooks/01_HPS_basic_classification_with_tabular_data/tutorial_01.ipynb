{
 "cells": [
  {
   "cell_type": "markdown",
   "id": "f7ef2e27",
   "metadata": {},
   "source": [
    "# Hyperparameter search for classification with Tabular data (Keras)\n",
    "\n",
    "In this tutorial we present how to use hyperparameter optimization on a basic example from the Keras documentation.\n",
    "\n",
    "**Reference**:\n",
    " This tutorial is based on materials from the Keras Documentation: [Structured data classification from scratch](https://keras.io/examples/structured_data/structured_data_classification_from_scratch/)\n",
    "    \n",
    "<div class=\"alert alert-warning\">\n",
    "\n",
    "<b>Warning</b>\n",
    "    \n",
    "By design asyncio does not allow nested event loops. Jupyter is using Tornado which already starts an event loop. Therefore the following patch is required to run this tutorial.\n",
    "    \n",
    "This tutorial should be run with `tensorflow>=2.6`.\n",
    "    \n",
    "</div>"
   ]
  },
  {
   "cell_type": "code",
   "execution_count": 1,
   "id": "bb4474f0",
   "metadata": {
    "ExecuteTime": {
     "end_time": "2021-10-06T14:08:02.665854Z",
     "start_time": "2021-10-06T14:08:00.845511Z"
    },
    "execution": {
     "iopub.execute_input": "2021-10-05T13:19:48.990662Z",
     "iopub.status.busy": "2021-10-05T13:19:48.990282Z",
     "iopub.status.idle": "2021-10-05T13:19:51.780827Z",
     "shell.execute_reply": "2021-10-05T13:19:51.780182Z",
     "shell.execute_reply.started": "2021-10-05T13:19:48.990582Z"
    }
   },
   "outputs": [
    {
     "name": "stdout",
     "output_type": "stream",
     "text": [
      "Requirement already satisfied: nest_asyncio in /home/joceran/miniconda3/envs/deephyper/lib/python3.8/site-packages (1.5.1)\n"
     ]
    }
   ],
   "source": [
    "!pip install nest_asyncio\n",
    "\n",
    "import nest_asyncio\n",
    "nest_asyncio.apply()"
   ]
  },
  {
   "cell_type": "markdown",
   "id": "38664b59",
   "metadata": {},
   "source": [
    "<div class=\"alert alert-info\">\n",
    "    \n",
    "<b>Note</b>\n",
    "    \n",
    "The following environment variables can be used to avoid the logging of **some** Tensorflow *DEBUG*, *INFO* and *WARNING* statements.\n",
    "    \n",
    "</div>"
   ]
  },
  {
   "cell_type": "code",
   "execution_count": 2,
   "id": "320e7d27",
   "metadata": {
    "ExecuteTime": {
     "end_time": "2021-10-06T14:08:03.492690Z",
     "start_time": "2021-10-06T14:08:03.490841Z"
    },
    "execution": {
     "iopub.execute_input": "2021-10-05T13:19:52.492998Z",
     "iopub.status.busy": "2021-10-05T13:19:52.492700Z",
     "iopub.status.idle": "2021-10-05T13:19:52.496874Z",
     "shell.execute_reply": "2021-10-05T13:19:52.496162Z",
     "shell.execute_reply.started": "2021-10-05T13:19:52.492970Z"
    }
   },
   "outputs": [],
   "source": [
    "import os\n",
    "\n",
    "os.environ[\"TF_CPP_MIN_LOG_LEVEL\"] = str(3)\n",
    "os.environ[\"AUTOGRAPH_VERBOSITY\"] = str(0)"
   ]
  },
  {
   "cell_type": "markdown",
   "id": "22386d68",
   "metadata": {},
   "source": [
    "## Imports\n",
    "\n",
    "<div class=\"alert alert-warning\">\n",
    "    \n",
    "<b>Warning</b> \n",
    "\n",
    "It is important to follow the import strategy `import tensorflow as tf` to prevent serialization errors that will crash the search.\n",
    "    \n",
    "</div>\n",
    "\n",
    "The import strategy from the original Keras tutorial (shown below),\n",
    "\n",
    "```python\n",
    "from tensorflow import keras\n",
    "from tensorflow.keras import layers\n",
    "...\n",
    "from tensorflow.keras.layers import IntegerLookup\n",
    "from tensorflow.keras.layers import Normalization\n",
    "from tensorflow.keras.layers import StringLookup\n",
    "```\n",
    "    \n",
    "resulted in non-serializable data, preventing the search from executing."
   ]
  },
  {
   "cell_type": "code",
   "execution_count": 3,
   "id": "f3a37b1d",
   "metadata": {
    "ExecuteTime": {
     "end_time": "2021-10-06T14:08:06.961251Z",
     "start_time": "2021-10-06T14:08:04.788328Z"
    },
    "execution": {
     "iopub.execute_input": "2021-10-05T13:19:55.476248Z",
     "iopub.status.busy": "2021-10-05T13:19:55.475972Z",
     "iopub.status.idle": "2021-10-05T13:19:59.977776Z",
     "shell.execute_reply": "2021-10-05T13:19:59.976946Z",
     "shell.execute_reply.started": "2021-10-05T13:19:55.476222Z"
    }
   },
   "outputs": [],
   "source": [
    "import json\n",
    "\n",
    "import ray\n",
    "import pandas as pd\n",
    "import tensorflow as tf"
   ]
  },
  {
   "cell_type": "markdown",
   "id": "e9061925",
   "metadata": {},
   "source": [
    "<div class=\"alert alert-info\">\n",
    "    \n",
    "<b>Note</b>\n",
    "    \n",
    "The following can be used to detect if <b>GPU</b> devices are available on the current host. Therefore, this notebook will automatically adapt the parallel execution based on the ressources available locally. However, it will not be the case if many compute nodes are requested.\n",
    "    \n",
    "</div>"
   ]
  },
  {
   "cell_type": "code",
   "execution_count": 4,
   "id": "da5e0602",
   "metadata": {
    "ExecuteTime": {
     "end_time": "2021-10-06T14:08:15.285962Z",
     "start_time": "2021-10-06T14:08:11.659531Z"
    },
    "execution": {
     "iopub.execute_input": "2021-10-05T13:20:04.352206Z",
     "iopub.status.busy": "2021-10-05T13:20:04.351647Z",
     "iopub.status.idle": "2021-10-05T13:20:04.633707Z",
     "shell.execute_reply": "2021-10-05T13:20:04.632997Z",
     "shell.execute_reply.started": "2021-10-05T13:20:04.352152Z"
    }
   },
   "outputs": [
    {
     "name": "stdout",
     "output_type": "stream",
     "text": [
      "No GPU available\n"
     ]
    }
   ],
   "source": [
    "from tensorflow.python.client import device_lib\n",
    "\n",
    "def get_available_gpus():\n",
    "    local_device_protos = device_lib.list_local_devices()\n",
    "    return [x.name for x in local_device_protos if x.device_type == \"GPU\"]\n",
    "\n",
    "n_gpus = len(get_available_gpus())\n",
    "if n_gpus > 1:\n",
    "    n_gpus -= 1\n",
    "    \n",
    "is_gpu_available = n_gpus > 0\n",
    "\n",
    "if is_gpu_available:\n",
    "    print(f\"{n_gpus} GPU{'s are' if n_gpus > 1 else ' is'} available.\")\n",
    "else:\n",
    "    print(\"No GPU available\")"
   ]
  },
  {
   "cell_type": "markdown",
   "id": "c702c644",
   "metadata": {},
   "source": [
    "## The dataset (from Keras.io)\n",
    "\n",
    "The [dataset](https://archive.ics.uci.edu/ml/datasets/heart+Disease) is provided by the\n",
    "Cleveland Clinic Foundation for Heart Disease.\n",
    "It's a CSV file with 303 rows. Each row contains information about a patient (a\n",
    "**sample**), and each column describes an attribute of the patient (a **feature**). We\n",
    "use the features to predict whether a patient has a heart disease (**binary\n",
    "classification**).\n",
    "\n",
    "Here's the description of each feature:\n",
    "\n",
    "Column| Description| Feature Type\n",
    "------------|--------------------|----------------------\n",
    "Age | Age in years | Numerical\n",
    "Sex | (1 = male; 0 = female) | Categorical\n",
    "CP | Chest pain type (0, 1, 2, 3, 4) | Categorical\n",
    "Trestbpd | Resting blood pressure (in mm Hg on admission) | Numerical\n",
    "Chol | Serum cholesterol in mg/dl | Numerical\n",
    "FBS | fasting blood sugar in 120 mg/dl (1 = true; 0 = false) | Categorical\n",
    "RestECG | Resting electrocardiogram results (0, 1, 2) | Categorical\n",
    "Thalach | Maximum heart rate achieved | Numerical\n",
    "Exang | Exercise induced angina (1 = yes; 0 = no) | Categorical\n",
    "Oldpeak | ST depression induced by exercise relative to rest | Numerical\n",
    "Slope | Slope of the peak exercise ST segment | Numerical\n",
    "CA | Number of major vessels (0-3) colored by fluoroscopy | Both numerical & categorical\n",
    "Thal | 3 = normal; 6 = fixed defect; 7 = reversible defect | Categorical\n",
    "Target | Diagnosis of heart disease (1 = true; 0 = false) | Target"
   ]
  },
  {
   "cell_type": "code",
   "execution_count": 5,
   "id": "9499cd94",
   "metadata": {
    "ExecuteTime": {
     "end_time": "2021-10-06T14:08:19.106131Z",
     "start_time": "2021-10-06T14:08:19.102761Z"
    },
    "execution": {
     "iopub.execute_input": "2021-10-05T13:20:09.216293Z",
     "iopub.status.busy": "2021-10-05T13:20:09.215939Z",
     "iopub.status.idle": "2021-10-05T13:20:09.222811Z",
     "shell.execute_reply": "2021-10-05T13:20:09.222055Z",
     "shell.execute_reply.started": "2021-10-05T13:20:09.216257Z"
    }
   },
   "outputs": [],
   "source": [
    "def load_data():\n",
    "    file_url = \"http://storage.googleapis.com/download.tensorflow.org/data/heart.csv\"\n",
    "    dataframe = pd.read_csv(file_url)\n",
    "\n",
    "    val_dataframe = dataframe.sample(frac=0.2, random_state=1337)\n",
    "    train_dataframe = dataframe.drop(val_dataframe.index)\n",
    "\n",
    "    return train_dataframe, val_dataframe\n",
    "\n",
    "\n",
    "def dataframe_to_dataset(dataframe):\n",
    "    dataframe = dataframe.copy()\n",
    "    labels = dataframe.pop(\"target\")\n",
    "    ds = tf.data.Dataset.from_tensor_slices((dict(dataframe), labels))\n",
    "    ds = ds.shuffle(buffer_size=len(dataframe))\n",
    "    return ds"
   ]
  },
  {
   "cell_type": "markdown",
   "id": "6ceb5938",
   "metadata": {},
   "source": [
    "## Preprocessing & encoding of features\n",
    "\n",
    "The next cells use `tf.keras.layers.Normalization()` to apply standard scaling on the features.\n",
    "\n",
    "Then, the `tf.keras.layers.StringLookup` and `tf.keras.layers.IntegerLookup` are used to encode categorical variables."
   ]
  },
  {
   "cell_type": "code",
   "execution_count": 6,
   "id": "996814d7",
   "metadata": {
    "ExecuteTime": {
     "end_time": "2021-10-06T14:08:22.308775Z",
     "start_time": "2021-10-06T14:08:22.304430Z"
    },
    "execution": {
     "iopub.execute_input": "2021-10-05T13:20:10.938147Z",
     "iopub.status.busy": "2021-10-05T13:20:10.937624Z",
     "iopub.status.idle": "2021-10-05T13:20:10.950587Z",
     "shell.execute_reply": "2021-10-05T13:20:10.949641Z",
     "shell.execute_reply.started": "2021-10-05T13:20:10.938088Z"
    }
   },
   "outputs": [],
   "source": [
    "def encode_numerical_feature(feature, name, dataset):\n",
    "    # Create a Normalization layer for our feature\n",
    "    normalizer = tf.keras.layers.Normalization()\n",
    "\n",
    "    # Prepare a Dataset that only yields our feature\n",
    "    feature_ds = dataset.map(lambda x, y: x[name])\n",
    "    feature_ds = feature_ds.map(lambda x: tf.expand_dims(x, -1))\n",
    "\n",
    "    # Learn the statistics of the data\n",
    "    normalizer.adapt(feature_ds)\n",
    "\n",
    "    # Normalize the input feature\n",
    "    encoded_feature = normalizer(feature)\n",
    "    return encoded_feature\n",
    "\n",
    "\n",
    "def encode_categorical_feature(feature, name, dataset, is_string):\n",
    "    lookup_class = (\n",
    "        tf.keras.layers.StringLookup if is_string else tf.keras.layers.IntegerLookup\n",
    "    )\n",
    "    # Create a lookup layer which will turn strings into integer indices\n",
    "    lookup = lookup_class(output_mode=\"binary\")\n",
    "\n",
    "    # Prepare a Dataset that only yields our feature\n",
    "    feature_ds = dataset.map(lambda x, y: x[name])\n",
    "    feature_ds = feature_ds.map(lambda x: tf.expand_dims(x, -1))\n",
    "\n",
    "    # Learn the set of possible string values and assign them a fixed integer index\n",
    "    lookup.adapt(feature_ds)\n",
    "\n",
    "    # Turn the string input into integer indices\n",
    "    encoded_feature = lookup(feature)\n",
    "    return encoded_feature"
   ]
  },
  {
   "cell_type": "markdown",
   "id": "c8743319",
   "metadata": {},
   "source": [
    "## Define the run-function\n",
    "\n",
    "The run-function defines how the objective that we want to maximize is computed. It takes a `config` dictionary as input and often returns a scalar value that we want to maximize. The `config` contains a sample value of hyperparameters that we want to tune. In this example we will search for:\n",
    "\n",
    "* `units` (default value: `32`)\n",
    "* `activation` (default value: `\"relu\"`)\n",
    "* `dropout_rate` (default value: `0.5`)\n",
    "* `num_epochs` (default value: `50`)\n",
    "* `batch_size` (default value: `32`)\n",
    "* `learning_rate` (default value: `1e-3`)\n",
    "\n",
    "A hyperparameter value can be acessed easily in the dictionary through the corresponding key, for example `config[\"units\"]`."
   ]
  },
  {
   "cell_type": "code",
   "execution_count": 7,
   "id": "2f99f031",
   "metadata": {
    "ExecuteTime": {
     "end_time": "2021-10-06T14:08:25.815920Z",
     "start_time": "2021-10-06T14:08:25.802830Z"
    },
    "execution": {
     "iopub.execute_input": "2021-10-05T13:20:14.252344Z",
     "iopub.status.busy": "2021-10-05T13:20:14.251894Z",
     "iopub.status.idle": "2021-10-05T13:20:14.269736Z",
     "shell.execute_reply": "2021-10-05T13:20:14.269026Z",
     "shell.execute_reply.started": "2021-10-05T13:20:14.252307Z"
    }
   },
   "outputs": [],
   "source": [
    "def run(config: dict):\n",
    "    tf.autograph.set_verbosity(0)\n",
    "    # Load data and split into validation set\n",
    "    train_dataframe, val_dataframe = load_data()\n",
    "    train_ds = dataframe_to_dataset(train_dataframe)\n",
    "    val_ds = dataframe_to_dataset(val_dataframe)\n",
    "    train_ds = train_ds.batch(config[\"batch_size\"])\n",
    "    val_ds = val_ds.batch(config[\"batch_size\"])\n",
    "\n",
    "    # Categorical features encoded as integers\n",
    "    sex = tf.keras.Input(shape=(1,), name=\"sex\", dtype=\"int64\")\n",
    "    cp = tf.keras.Input(shape=(1,), name=\"cp\", dtype=\"int64\")\n",
    "    fbs = tf.keras.Input(shape=(1,), name=\"fbs\", dtype=\"int64\")\n",
    "    restecg = tf.keras.Input(shape=(1,), name=\"restecg\", dtype=\"int64\")\n",
    "    exang = tf.keras.Input(shape=(1,), name=\"exang\", dtype=\"int64\")\n",
    "    ca = tf.keras.Input(shape=(1,), name=\"ca\", dtype=\"int64\")\n",
    "\n",
    "    # Categorical feature encoded as string\n",
    "    thal = tf.keras.Input(shape=(1,), name=\"thal\", dtype=\"string\")\n",
    "\n",
    "    # Numerical features\n",
    "    age = tf.keras.Input(shape=(1,), name=\"age\")\n",
    "    trestbps = tf.keras.Input(shape=(1,), name=\"trestbps\")\n",
    "    chol = tf.keras.Input(shape=(1,), name=\"chol\")\n",
    "    thalach = tf.keras.Input(shape=(1,), name=\"thalach\")\n",
    "    oldpeak = tf.keras.Input(shape=(1,), name=\"oldpeak\")\n",
    "    slope = tf.keras.Input(shape=(1,), name=\"slope\")\n",
    "\n",
    "    all_inputs = [\n",
    "        sex,\n",
    "        cp,\n",
    "        fbs,\n",
    "        restecg,\n",
    "        exang,\n",
    "        ca,\n",
    "        thal,\n",
    "        age,\n",
    "        trestbps,\n",
    "        chol,\n",
    "        thalach,\n",
    "        oldpeak,\n",
    "        slope,\n",
    "    ]\n",
    "\n",
    "    # Integer categorical features\n",
    "    sex_encoded = encode_categorical_feature(sex, \"sex\", train_ds, False)\n",
    "    cp_encoded = encode_categorical_feature(cp, \"cp\", train_ds, False)\n",
    "    fbs_encoded = encode_categorical_feature(fbs, \"fbs\", train_ds, False)\n",
    "    restecg_encoded = encode_categorical_feature(restecg, \"restecg\", train_ds, False)\n",
    "    exang_encoded = encode_categorical_feature(exang, \"exang\", train_ds, False)\n",
    "    ca_encoded = encode_categorical_feature(ca, \"ca\", train_ds, False)\n",
    "\n",
    "    # String categorical features\n",
    "    thal_encoded = encode_categorical_feature(thal, \"thal\", train_ds, True)\n",
    "\n",
    "    # Numerical features\n",
    "    age_encoded = encode_numerical_feature(age, \"age\", train_ds)\n",
    "    trestbps_encoded = encode_numerical_feature(trestbps, \"trestbps\", train_ds)\n",
    "    chol_encoded = encode_numerical_feature(chol, \"chol\", train_ds)\n",
    "    thalach_encoded = encode_numerical_feature(thalach, \"thalach\", train_ds)\n",
    "    oldpeak_encoded = encode_numerical_feature(oldpeak, \"oldpeak\", train_ds)\n",
    "    slope_encoded = encode_numerical_feature(slope, \"slope\", train_ds)\n",
    "\n",
    "    all_features = tf.keras.layers.concatenate(\n",
    "        [\n",
    "            sex_encoded,\n",
    "            cp_encoded,\n",
    "            fbs_encoded,\n",
    "            restecg_encoded,\n",
    "            exang_encoded,\n",
    "            slope_encoded,\n",
    "            ca_encoded,\n",
    "            thal_encoded,\n",
    "            age_encoded,\n",
    "            trestbps_encoded,\n",
    "            chol_encoded,\n",
    "            thalach_encoded,\n",
    "            oldpeak_encoded,\n",
    "        ]\n",
    "    )\n",
    "    x = tf.keras.layers.Dense(config[\"units\"], activation=config[\"activation\"])(\n",
    "        all_features\n",
    "    )\n",
    "    x = tf.keras.layers.Dropout(config[\"dropout_rate\"])(x)\n",
    "    output = tf.keras.layers.Dense(1, activation=\"sigmoid\")(x)\n",
    "    model = tf.keras.Model(all_inputs, output)\n",
    "\n",
    "    optimizer = tf.keras.optimizers.Adam(learning_rate=config[\"learning_rate\"])\n",
    "    model.compile(optimizer, \"binary_crossentropy\", metrics=[\"accuracy\"])\n",
    "\n",
    "    history = model.fit(\n",
    "        train_ds, epochs=config[\"num_epochs\"], validation_data=val_ds, verbose=0\n",
    "    )\n",
    "\n",
    "    return history.history[\"val_accuracy\"][-1]"
   ]
  },
  {
   "cell_type": "markdown",
   "id": "ea800ab1",
   "metadata": {},
   "source": [
    "<div class=\"alert alert-info\"> \n",
    "<b>Note</b>  \n",
    "<br>\n",
    "\n",
    "The objective maximised by DeepHyper is the scalar value returned by the `run`-function.\n",
    "    \n",
    "</div>\n",
    "\n",
    "In this tutorial it corresponds to the validation accuracy of the last epoch of training which we retrieve in the `History` object returned by the `model.fit(...)` call.\n",
    "    \n",
    "```python\n",
    "...\n",
    "history = model.fit(\n",
    "    train_ds, epochs=config[\"num_epochs\"], validation_data=val_ds, verbose=0\n",
    ") \n",
    "return history.history[\"val_accuracy\"][-1]\n",
    "...\n",
    "``` \n",
    "    \n",
    "Using an objective like `max(history.history['val_accuracy'])` can have undesired side effects.\n",
    "\n",
    "For example, it is possible that the training curves will overshoot a local maximum, resulting in a model without the capacity to flexibly adapt to new data in the future."
   ]
  },
  {
   "cell_type": "markdown",
   "id": "9f1719e4",
   "metadata": {},
   "source": [
    "## Evaluate a default configuration\n",
    "\n",
    "We evaluate the performance of the default set of hyperparameters provided in the Keras tutorial."
   ]
  },
  {
   "cell_type": "code",
   "execution_count": 8,
   "id": "5ab7ab0c",
   "metadata": {
    "ExecuteTime": {
     "end_time": "2021-10-06T14:08:49.765740Z",
     "start_time": "2021-10-06T14:08:29.330155Z"
    },
    "execution": {
     "iopub.execute_input": "2021-10-05T13:20:17.560431Z",
     "iopub.status.busy": "2021-10-05T13:20:17.560135Z",
     "iopub.status.idle": "2021-10-05T13:20:33.100905Z",
     "shell.execute_reply": "2021-10-05T13:20:33.100179Z",
     "shell.execute_reply.started": "2021-10-05T13:20:17.560401Z"
    },
    "scrolled": true
   },
   "outputs": [
    {
     "name": "stderr",
     "output_type": "stream",
     "text": [
      "2021-10-14 14:13:19,050\tINFO services.py:1263 -- View the Ray dashboard at \u001b[1m\u001b[32mhttp://127.0.0.1:8265\u001b[39m\u001b[22m\n"
     ]
    },
    {
     "name": "stdout",
     "output_type": "stream",
     "text": [
      "Accuracy Default Configuration:  0.820\n"
     ]
    }
   ],
   "source": [
    "# We define a dictionnary for the default values\n",
    "default_config = {\n",
    "    \"units\": 32,\n",
    "    \"activation\": \"relu\",\n",
    "    \"dropout_rate\": 0.5,\n",
    "    \"num_epochs\": 50,\n",
    "    \"batch_size\": 32,\n",
    "    \"learning_rate\": 1e-3,\n",
    "}\n",
    "\n",
    "# We launch the Ray run-time depending of the detected local ressources\n",
    "# and execute the `run` function with the default configuration\n",
    "# WARNING: in the case of GPUs it is important to follow this scheme\n",
    "# to avoid multiple processes (Ray workers vs current process) to lock\n",
    "# the same GPU.\n",
    "if is_gpu_available:\n",
    "    if not(ray.is_initialized()):\n",
    "        ray.init(num_cpus=n_gpus, num_gpus=n_gpus, log_to_driver=False)\n",
    "    \n",
    "    run_default = ray.remote(num_cpus=1, num_gpus=1)(run)\n",
    "    objective_default = ray.get(run_default.remote(default_config))\n",
    "else:\n",
    "    if not(ray.is_initialized()):\n",
    "        ray.init(num_cpus=1, log_to_driver=False)\n",
    "    run_default = run\n",
    "    objective_default = run_default(default_config)\n",
    "    \n",
    "print(f\"Accuracy Default Configuration:  {objective_default:.3f}\")"
   ]
  },
  {
   "cell_type": "markdown",
   "id": "3ca589b5",
   "metadata": {},
   "source": [
    "## Define the Hyperparameter optimization problem\n",
    "\n",
    "Hyperparameter ranges are defined using the following syntax:\n",
    "\n",
    "* Discrete integer ranges are generated from a tuple `(lower: int, upper: int)`\n",
    "* Continuous prarameters are generated from a tuple `(lower: float, upper: float)`\n",
    "* Categorical or nonordinal hyperparameter ranges can be given as a list of possible values `[val1, val2, ...]`\n",
    "\n",
    "We provide the default configuration of hyperparameters as a starting point of the problem."
   ]
  },
  {
   "cell_type": "code",
   "execution_count": 9,
   "id": "5813bb59",
   "metadata": {
    "ExecuteTime": {
     "end_time": "2021-10-06T14:08:50.985064Z",
     "start_time": "2021-10-06T14:08:49.770713Z"
    },
    "execution": {
     "iopub.execute_input": "2021-10-05T13:20:33.102492Z",
     "iopub.status.busy": "2021-10-05T13:20:33.102220Z",
     "iopub.status.idle": "2021-10-05T13:20:33.802294Z",
     "shell.execute_reply": "2021-10-05T13:20:33.801558Z",
     "shell.execute_reply.started": "2021-10-05T13:20:33.102451Z"
    }
   },
   "outputs": [
    {
     "data": {
      "text/plain": [
       "Configuration space object:\n",
       "  Hyperparameters:\n",
       "    activation, Type: Categorical, Choices: {elu, gelu, hard_sigmoid, linear, relu, selu, sigmoid, softplus, softsign, swish, tanh}, Default: elu\n",
       "    batch_size, Type: UniformInteger, Range: [8, 256], Default: 45, on log-scale\n",
       "    dropout_rate, Type: UniformFloat, Range: [0.0, 0.6], Default: 0.3\n",
       "    learning_rate, Type: UniformFloat, Range: [1e-05, 0.01], Default: 0.0003162278, on log-scale\n",
       "    num_epochs, Type: UniformInteger, Range: [10, 100], Default: 55\n",
       "    units, Type: UniformInteger, Range: [8, 128], Default: 68\n",
       "\n",
       "\n",
       "  Starting Point:\n",
       "{0: {'activation': 'relu',\n",
       "     'batch_size': 32,\n",
       "     'dropout_rate': 0.5,\n",
       "     'learning_rate': 0.001,\n",
       "     'num_epochs': 50,\n",
       "     'units': 32}}"
      ]
     },
     "execution_count": 9,
     "metadata": {},
     "output_type": "execute_result"
    }
   ],
   "source": [
    "from deephyper.problem import HpProblem\n",
    "\n",
    "problem = HpProblem()\n",
    "# Discrete hyperparameter (sampled with uniform prior)\n",
    "problem.add_hyperparameter((8, 128), \"units\")\n",
    "# Categorical hyperparameter (sampled with uniform prior)\n",
    "ACTIVATIONS = [\n",
    "    \"elu\", \"gelu\", \"hard_sigmoid\", \"linear\", \"relu\", \"selu\",\n",
    "    \"sigmoid\", \"softplus\", \"softsign\", \"swish\", \"tanh\",\n",
    "]\n",
    "problem.add_hyperparameter(ACTIVATIONS, \"activation\")\n",
    "# Real hyperparameter (sampled with uniform prior)\n",
    "problem.add_hyperparameter((0.0, 0.6), \"dropout_rate\")\n",
    "problem.add_hyperparameter((10, 100), \"num_epochs\")\n",
    "# Discrete and Real hyperparameters (sampled with log-uniform)\n",
    "problem.add_hyperparameter((8, 256, \"log-uniform\"), \"batch_size\")\n",
    "problem.add_hyperparameter((1e-5, 1e-2, \"log-uniform\"), \"learning_rate\")\n",
    "\n",
    "# Add a starting point to try first\n",
    "problem.add_starting_point(**default_config)\n",
    "problem"
   ]
  },
  {
   "cell_type": "markdown",
   "id": "596900f9",
   "metadata": {},
   "source": [
    "## Define the evaluator object\n",
    "\n",
    "The `Evaluator` object allows to change the parallelization backend used by DeepHyper.  \n",
    "It is a standalone object which schedules the execution of remote tasks. All evaluators needs a `run_function` to be instantiated.  \n",
    "Then a keyword `method` defines the backend (e.g., `\"ray\"`) and the `method_kwargs` corresponds to keyword arguments of this chosen `method`.\n",
    "\n",
    "```python\n",
    "evaluator = Evaluator.create(run_function, method, method_kwargs)\n",
    "```\n",
    "\n",
    "Once created the `evaluator.num_workers` gives access to the number of available parallel workers.\n",
    "\n",
    "Finally, to submit and collect tasks to the evaluator one just needs to use the following interface:\n",
    "\n",
    "```python\n",
    "configs = [...]\n",
    "evaluator.submit(configs)\n",
    "...\n",
    "tasks_done = evaluator.get(\"BATCH\", size=1) # For asynchronous\n",
    "tasks_done = evaluator.get(\"ALL\") # For batch synchronous\n",
    "```\n",
    "\n",
    "<div class=\"alert alert-warning\">\n",
    "\n",
    "<b>Warning</b>\n",
    "\n",
    "Each `Evaluator` saves its own state, therefore it is crucial to create a new evaluator when launching a fresh search.\n",
    "    \n",
    "</div>\n"
   ]
  },
  {
   "cell_type": "code",
   "execution_count": 10,
   "id": "b3f0be13",
   "metadata": {
    "ExecuteTime": {
     "end_time": "2021-10-06T14:08:51.128103Z",
     "start_time": "2021-10-06T14:08:50.989345Z"
    },
    "execution": {
     "iopub.execute_input": "2021-10-05T13:24:26.533483Z",
     "iopub.status.busy": "2021-10-05T13:24:26.533227Z",
     "iopub.status.idle": "2021-10-05T13:24:26.548067Z",
     "shell.execute_reply": "2021-10-05T13:24:26.547597Z",
     "shell.execute_reply.started": "2021-10-05T13:24:26.533457Z"
    }
   },
   "outputs": [
    {
     "name": "stdout",
     "output_type": "stream",
     "text": [
      "Created new evaluator with 1 worker and config: {'num_cpus': 1, 'num_cpus_per_task': 1, 'callbacks': [<deephyper.evaluator.callback.LoggerCallback object at 0x7fce1226bc10>]}\n"
     ]
    }
   ],
   "source": [
    "from deephyper.evaluator import Evaluator\n",
    "from deephyper.evaluator.callback import LoggerCallback\n",
    "\n",
    "def get_evaluator(run_function):\n",
    "    # Default arguments for Ray: 1 worker and 1 worker per evaluation\n",
    "    method_kwargs = {\n",
    "        \"num_cpus\": 1, \n",
    "        \"num_cpus_per_task\": 1,\n",
    "        \"callbacks\": [LoggerCallback()]\n",
    "    }\n",
    "\n",
    "    # If GPU devices are detected then it will create 'n_gpus' workers\n",
    "    # and use 1 worker for each evaluation\n",
    "    if is_gpu_available:\n",
    "        method_kwargs[\"num_cpus\"] = n_gpus\n",
    "        method_kwargs[\"num_gpus\"] = n_gpus\n",
    "        method_kwargs[\"num_cpus_per_task\"] = 1\n",
    "        method_kwargs[\"num_gpus_per_task\"] = 1\n",
    "\n",
    "    evaluator = Evaluator.create(\n",
    "        run_function, \n",
    "        method=\"ray\", \n",
    "        method_kwargs=method_kwargs\n",
    "    )\n",
    "    print(f\"Created new evaluator with {evaluator.num_workers} worker{'s' if evaluator.num_workers > 1 else ''} and config: {method_kwargs}\", )\n",
    "    \n",
    "    return evaluator\n",
    "\n",
    "evaluator_1 = get_evaluator(run)"
   ]
  },
  {
   "cell_type": "markdown",
   "id": "392998bc",
   "metadata": {},
   "source": [
    "## Define and run the asynchronous model-based search (AMBS)\n",
    "\n",
    "A primary pillar of hyperparameter search in DeepHyper is given by an asynchronous parallel model-based search paradigm (henceforth AMBS). AMBS may be described in the following algorithm:\n",
    "\n",
    "<img src=\"Figures/AMBS.png\" width=30% align=right>\n",
    "\n",
    "### AMBS:\n",
    "\n",
    "\n",
    "1. $\\mathcal{X}_{S}\\leftarrow$ `random_sample_configs`$(\\mathcal{D})$\n",
    "2. `add_eval_batch` $(\\mathcal{X}_{S})$\n",
    "3. **while** `stopping criterion not met` **do**:\n",
    "  - $(\\mathcal{X}_{r}, \\mathcal{Y}_{r})\\leftarrow$ `get_finished_evals()`\n",
    "  - $s\\leftarrow|\\mathcal{Y}_{r}|$\n",
    "  - **if** $s>0$ **then**:\n",
    "    - $\\mathcal{X}_{\\mathrm{out}}\\leftarrow \\mathcal{X}_{\\mathrm{out}}\\cup\\mathcal{X}_{r};\\,\\, \\mathcal{Y}_{\\mathrm{out}}\\leftarrow\\mathcal{Y}_{\\mathrm{out}}\\cup\\mathcal{Y}_{r}$\n",
    "    - $\\mathcal{M}\\leftarrow$ `Fit` $(\\mathcal{X}_{\\mathrm{out}}, \\mathcal{Y}_{\\mathrm{out}})$\n",
    "    - $\\mathcal{D}\\leftarrow \\mathcal{D}-\\mathcal{X}_{r}$\n",
    "    - $\\mathcal{X}_{s}\\leftarrow$ `sample_configs` $(\\mathcal{M}, \\mathcal{D})$\n",
    "    - `add_eval_batch` $(\\mathcal{X}_{s})$\n",
    "- **Output:** Best hyperparameter configuration(s) from $\\mathcal{X}_{\\mathrm{out}}$\n",
    "   \n",
    "\n",
    "---\n",
    "\n",
    "Following the parallelized evaluation of these configurations, a low-fidelity and high efficiency model (henceforth \"the surrogate\") is devised to reproduce the relationship between the input variables involved in the model (i.e., the choice of hyperparameters) and the outputs (which are generally a measure of validation data accuracy).  \n",
    "\n",
    "After obtaining this surrogate of the validation accuracy, we may utilize ideas from classical methods in Bayesian optimization literature for adaptively sample the search space of hyperparameters.\n",
    "\n",
    "First, the surrogate is used to obtain an estimate for the mean value of the validation accuracy at a certain sampling location $x$ in addition to an estimated variance. The latter requirement restricts us to the use of high efficiency data-driven modeling strategies that have inbuilt variance estimates (such as a Gaussian process or Random Forest regressor).  \n",
    "\n",
    "Regions where the mean is high represent opportunities for exploitation and regions where the variance is high represent opportunities for exploration. An optimistic acquisition function called UCB can be constructed using these two quantities:\n",
    "\n",
    "$$L_{\\text{UCB}}(x) = \\mu(x) + \\kappa \\cdot \\sigma(x)$$\n",
    "\n",
    "The *unevaluated* hyperparameter configurations that *maximize* the acquisition function are chosen for the next batch of evaluations.  \n",
    "\n",
    "Note that the choice of the variance weighting parameter $\\kappa$ controls the degree of exploration in the hyperparameter search with zero indicating purely exploitation (unseen configurations where the predicted accuracy is highest will be sampled).  \n",
    "\n",
    "The top `s` configurations are selected for the new batch. The following schematic demonstrates this process:\n",
    "\n",
    "<img src=\"Figures/BO_AF.png\" width=50%>\n",
    "\n",
    "The process of obtaining `s` configurations relies on the \"constant-liar\" strategy where a sampled configuration is mapped to a dummy output given by a bulk metric of all the evaluated configurations thus far (such as the maximum, mean or median validation accuracy).  \n",
    "\n",
    "Prior to sampling the next configuration by acquisition function maximization, the surrogate is retrained with the dummy output as a data point. As the true validation accuracy becomes available for one of the sampled configurations, the dummy output is replaced and the surrogate is updated.\n",
    "\n",
    "This allows for scalable asynchronous (or batch synchronous) sampling of new hyperparameter configurations. \n",
    "\n",
    "####  Choice of surrogate model\n",
    "\n",
    "Users should note that our choice of the surrogate is given by the Random Forest regressor due to its ability to handle non-ordinal data (hyperparameter configurations may not be purely continuous or even numerical). Evidence for how they outperform other methods (such as Gaussian processes) is also available in [1]\n",
    "\n",
    "<img src=\"Figures/RFR.png\" width=33% align=left>\n",
    "\n",
    "<img src=\"Figures/RFR_Superior.png\" width=64% align=right>\n"
   ]
  },
  {
   "cell_type": "markdown",
   "id": "613067b2",
   "metadata": {},
   "source": [
    "### Setup AMBS\n",
    "\n",
    "We create the AMBS using the `problem` and `evaluator` defined above."
   ]
  },
  {
   "cell_type": "code",
   "execution_count": 11,
   "id": "09dc7abd",
   "metadata": {
    "ExecuteTime": {
     "end_time": "2021-10-06T14:08:57.225948Z",
     "start_time": "2021-10-06T14:08:57.221120Z"
    },
    "execution": {
     "iopub.execute_input": "2021-10-05T13:24:31.729788Z",
     "iopub.status.busy": "2021-10-05T13:24:31.729551Z",
     "iopub.status.idle": "2021-10-05T13:24:31.811538Z",
     "shell.execute_reply": "2021-10-05T13:24:31.810828Z",
     "shell.execute_reply.started": "2021-10-05T13:24:31.729764Z"
    }
   },
   "outputs": [],
   "source": [
    "from deephyper.search.hps import AMBS\n",
    "# Uncomment the following line to show the arguments of AMBS.\n",
    "# AMBS?"
   ]
  },
  {
   "cell_type": "code",
   "execution_count": 12,
   "id": "1e00f0f0",
   "metadata": {
    "ExecuteTime": {
     "end_time": "2021-10-06T14:08:58.089438Z",
     "start_time": "2021-10-06T14:08:58.087565Z"
    },
    "execution": {
     "iopub.execute_input": "2021-10-05T13:24:32.484543Z",
     "iopub.status.busy": "2021-10-05T13:24:32.484353Z",
     "iopub.status.idle": "2021-10-05T13:24:32.488491Z",
     "shell.execute_reply": "2021-10-05T13:24:32.487856Z",
     "shell.execute_reply.started": "2021-10-05T13:24:32.484521Z"
    }
   },
   "outputs": [],
   "source": [
    "# Instanciate the search with the problem and a specific evaluator\n",
    "search = AMBS(problem, evaluator_1)"
   ]
  },
  {
   "cell_type": "markdown",
   "id": "5fad52a5",
   "metadata": {},
   "source": [
    "<div class=\"alert alert-info\">\n",
    "    \n",
    "<b>Note</b>\n",
    "    \n",
    "All DeepHyper's search algorithm have two stopping criteria:\n",
    "    <ul> \n",
    "        <li> <code>`max_evals (int)`</code>: Defines the maximum number of evaluations that we want to perform. Default to <code>-1</code> for an infinite number.</li>\n",
    "        <li> <code>`timeout (int)`</code>: Defines a time budget (in seconds) before stopping the search. Default to <code>None</code> for an infinite time budget.</li>\n",
    "    </ul>\n",
    "    \n",
    "</div>"
   ]
  },
  {
   "cell_type": "code",
   "execution_count": 13,
   "id": "457546ce",
   "metadata": {
    "ExecuteTime": {
     "end_time": "2021-10-06T14:09:28.174734Z",
     "start_time": "2021-10-06T14:09:00.593517Z"
    },
    "execution": {
     "iopub.execute_input": "2021-10-05T13:24:34.026578Z",
     "iopub.status.busy": "2021-10-05T13:24:34.026364Z",
     "iopub.status.idle": "2021-10-05T13:25:38.142031Z",
     "shell.execute_reply": "2021-10-05T13:25:38.141494Z",
     "shell.execute_reply.started": "2021-10-05T13:24:34.026553Z"
    }
   },
   "outputs": [
    {
     "name": "stdout",
     "output_type": "stream",
     "text": [
      "[00001] -- best objective: 0.78689 -- received objective: 0.78689\n",
      "[00002] -- best objective: 0.78689 -- received objective: 0.67213\n",
      "[00003] -- best objective: 0.78689 -- received objective: 0.77049\n",
      "[00004] -- best objective: 0.81967 -- received objective: 0.81967\n",
      "[00005] -- best objective: 0.81967 -- received objective: 0.78689\n",
      "[00006] -- best objective: 0.81967 -- received objective: 0.73770\n",
      "[00007] -- best objective: 0.81967 -- received objective: 0.50820\n",
      "[00008] -- best objective: 0.81967 -- received objective: 0.80328\n",
      "[00009] -- best objective: 0.81967 -- received objective: 0.47541\n",
      "[00010] -- best objective: 0.81967 -- received objective: 0.81967\n"
     ]
    }
   ],
   "source": [
    "results = search.search(max_evals=10)"
   ]
  },
  {
   "cell_type": "markdown",
   "id": "33c2dd77",
   "metadata": {},
   "source": [
    "<div class=\"alert alert-warning\">\n",
    "\n",
    "<b>Warning</b>\n",
    "    \n",
    "The `search` call does not output any information about the current status of the search. However, a `results.csv` file is created in the local directly and can be visualized to see finished tasks.\n",
    "    \n",
    "</div>"
   ]
  },
  {
   "cell_type": "markdown",
   "id": "5c54414b",
   "metadata": {},
   "source": [
    "The returned `results` is a Pandas Dataframe where columns are hyperparameters and information stored by the evaluator:\n",
    "\n",
    "* `id` is a unique identifier corresponding to the order of creation of tasks\n",
    "* `objective` is the value returned by the run-function\n",
    "* `elapsed_sec` is the time (in seconds) when the task completed since the creation of the evaluator.\n",
    "* `duration` is the duration (in seconds) of the task to be computed."
   ]
  },
  {
   "cell_type": "code",
   "execution_count": 14,
   "id": "87bc93b8",
   "metadata": {
    "ExecuteTime": {
     "end_time": "2021-10-06T14:14:09.049833Z",
     "start_time": "2021-10-06T14:14:09.038740Z"
    },
    "execution": {
     "iopub.execute_input": "2021-10-05T13:26:06.857647Z",
     "iopub.status.busy": "2021-10-05T13:26:06.857404Z",
     "iopub.status.idle": "2021-10-05T13:26:06.897524Z",
     "shell.execute_reply": "2021-10-05T13:26:06.897125Z",
     "shell.execute_reply.started": "2021-10-05T13:26:06.857622Z"
    }
   },
   "outputs": [
    {
     "data": {
      "text/html": [
       "<div>\n",
       "<style scoped>\n",
       "    .dataframe tbody tr th:only-of-type {\n",
       "        vertical-align: middle;\n",
       "    }\n",
       "\n",
       "    .dataframe tbody tr th {\n",
       "        vertical-align: top;\n",
       "    }\n",
       "\n",
       "    .dataframe thead th {\n",
       "        text-align: right;\n",
       "    }\n",
       "</style>\n",
       "<table border=\"1\" class=\"dataframe\">\n",
       "  <thead>\n",
       "    <tr style=\"text-align: right;\">\n",
       "      <th></th>\n",
       "      <th>activation</th>\n",
       "      <th>batch_size</th>\n",
       "      <th>dropout_rate</th>\n",
       "      <th>learning_rate</th>\n",
       "      <th>num_epochs</th>\n",
       "      <th>units</th>\n",
       "      <th>id</th>\n",
       "      <th>objective</th>\n",
       "      <th>elapsed_sec</th>\n",
       "      <th>duration</th>\n",
       "    </tr>\n",
       "  </thead>\n",
       "  <tbody>\n",
       "    <tr>\n",
       "      <th>0</th>\n",
       "      <td>relu</td>\n",
       "      <td>32</td>\n",
       "      <td>0.500000</td>\n",
       "      <td>0.001000</td>\n",
       "      <td>50</td>\n",
       "      <td>32</td>\n",
       "      <td>1</td>\n",
       "      <td>0.786885</td>\n",
       "      <td>7.598853</td>\n",
       "      <td>7.578054</td>\n",
       "    </tr>\n",
       "    <tr>\n",
       "      <th>1</th>\n",
       "      <td>gelu</td>\n",
       "      <td>23</td>\n",
       "      <td>0.258033</td>\n",
       "      <td>0.000040</td>\n",
       "      <td>40</td>\n",
       "      <td>32</td>\n",
       "      <td>2</td>\n",
       "      <td>0.672131</td>\n",
       "      <td>11.768938</td>\n",
       "      <td>3.980299</td>\n",
       "    </tr>\n",
       "    <tr>\n",
       "      <th>2</th>\n",
       "      <td>hard_sigmoid</td>\n",
       "      <td>18</td>\n",
       "      <td>0.284941</td>\n",
       "      <td>0.006025</td>\n",
       "      <td>98</td>\n",
       "      <td>47</td>\n",
       "      <td>3</td>\n",
       "      <td>0.770492</td>\n",
       "      <td>18.290051</td>\n",
       "      <td>6.336473</td>\n",
       "    </tr>\n",
       "    <tr>\n",
       "      <th>3</th>\n",
       "      <td>gelu</td>\n",
       "      <td>80</td>\n",
       "      <td>0.550907</td>\n",
       "      <td>0.000997</td>\n",
       "      <td>72</td>\n",
       "      <td>21</td>\n",
       "      <td>4</td>\n",
       "      <td>0.819672</td>\n",
       "      <td>23.084517</td>\n",
       "      <td>4.360083</td>\n",
       "    </tr>\n",
       "    <tr>\n",
       "      <th>4</th>\n",
       "      <td>gelu</td>\n",
       "      <td>138</td>\n",
       "      <td>0.580057</td>\n",
       "      <td>0.000150</td>\n",
       "      <td>37</td>\n",
       "      <td>64</td>\n",
       "      <td>5</td>\n",
       "      <td>0.786885</td>\n",
       "      <td>26.648506</td>\n",
       "      <td>3.365339</td>\n",
       "    </tr>\n",
       "    <tr>\n",
       "      <th>5</th>\n",
       "      <td>gelu</td>\n",
       "      <td>67</td>\n",
       "      <td>0.424701</td>\n",
       "      <td>0.000039</td>\n",
       "      <td>92</td>\n",
       "      <td>26</td>\n",
       "      <td>6</td>\n",
       "      <td>0.737705</td>\n",
       "      <td>31.437847</td>\n",
       "      <td>4.600158</td>\n",
       "    </tr>\n",
       "    <tr>\n",
       "      <th>6</th>\n",
       "      <td>gelu</td>\n",
       "      <td>34</td>\n",
       "      <td>0.579395</td>\n",
       "      <td>0.000078</td>\n",
       "      <td>68</td>\n",
       "      <td>15</td>\n",
       "      <td>7</td>\n",
       "      <td>0.508197</td>\n",
       "      <td>36.114651</td>\n",
       "      <td>4.487519</td>\n",
       "    </tr>\n",
       "    <tr>\n",
       "      <th>7</th>\n",
       "      <td>elu</td>\n",
       "      <td>122</td>\n",
       "      <td>0.539962</td>\n",
       "      <td>0.000082</td>\n",
       "      <td>96</td>\n",
       "      <td>58</td>\n",
       "      <td>8</td>\n",
       "      <td>0.803279</td>\n",
       "      <td>41.484020</td>\n",
       "      <td>5.163884</td>\n",
       "    </tr>\n",
       "    <tr>\n",
       "      <th>8</th>\n",
       "      <td>relu</td>\n",
       "      <td>65</td>\n",
       "      <td>0.504956</td>\n",
       "      <td>0.000410</td>\n",
       "      <td>10</td>\n",
       "      <td>12</td>\n",
       "      <td>9</td>\n",
       "      <td>0.475410</td>\n",
       "      <td>44.582903</td>\n",
       "      <td>2.883155</td>\n",
       "    </tr>\n",
       "    <tr>\n",
       "      <th>9</th>\n",
       "      <td>tanh</td>\n",
       "      <td>60</td>\n",
       "      <td>0.580642</td>\n",
       "      <td>0.000986</td>\n",
       "      <td>11</td>\n",
       "      <td>116</td>\n",
       "      <td>10</td>\n",
       "      <td>0.819672</td>\n",
       "      <td>47.797433</td>\n",
       "      <td>2.988053</td>\n",
       "    </tr>\n",
       "  </tbody>\n",
       "</table>\n",
       "</div>"
      ],
      "text/plain": [
       "     activation  batch_size  dropout_rate  learning_rate  num_epochs  units  \\\n",
       "0          relu          32      0.500000       0.001000          50     32   \n",
       "1          gelu          23      0.258033       0.000040          40     32   \n",
       "2  hard_sigmoid          18      0.284941       0.006025          98     47   \n",
       "3          gelu          80      0.550907       0.000997          72     21   \n",
       "4          gelu         138      0.580057       0.000150          37     64   \n",
       "5          gelu          67      0.424701       0.000039          92     26   \n",
       "6          gelu          34      0.579395       0.000078          68     15   \n",
       "7           elu         122      0.539962       0.000082          96     58   \n",
       "8          relu          65      0.504956       0.000410          10     12   \n",
       "9          tanh          60      0.580642       0.000986          11    116   \n",
       "\n",
       "   id  objective  elapsed_sec  duration  \n",
       "0   1   0.786885     7.598853  7.578054  \n",
       "1   2   0.672131    11.768938  3.980299  \n",
       "2   3   0.770492    18.290051  6.336473  \n",
       "3   4   0.819672    23.084517  4.360083  \n",
       "4   5   0.786885    26.648506  3.365339  \n",
       "5   6   0.737705    31.437847  4.600158  \n",
       "6   7   0.508197    36.114651  4.487519  \n",
       "7   8   0.803279    41.484020  5.163884  \n",
       "8   9   0.475410    44.582903  2.883155  \n",
       "9  10   0.819672    47.797433  2.988053  "
      ]
     },
     "execution_count": 14,
     "metadata": {},
     "output_type": "execute_result"
    }
   ],
   "source": [
    "results"
   ]
  },
  {
   "cell_type": "markdown",
   "id": "dbd8b3e4",
   "metadata": {},
   "source": [
    "The search can be continued without any issue."
   ]
  },
  {
   "cell_type": "code",
   "execution_count": 15,
   "id": "f2e6af67",
   "metadata": {
    "ExecuteTime": {
     "end_time": "2021-10-06T14:14:10.966261Z",
     "start_time": "2021-10-06T14:14:09.918767Z"
    },
    "execution": {
     "iopub.execute_input": "2021-10-05T13:26:08.179747Z",
     "iopub.status.busy": "2021-10-05T13:26:08.179499Z",
     "iopub.status.idle": "2021-10-05T13:26:32.492749Z",
     "shell.execute_reply": "2021-10-05T13:26:32.492153Z",
     "shell.execute_reply.started": "2021-10-05T13:26:08.179721Z"
    }
   },
   "outputs": [
    {
     "name": "stdout",
     "output_type": "stream",
     "text": [
      "[00011] -- best objective: 0.81967 -- received objective: 0.67213\n",
      "[00012] -- best objective: 0.81967 -- received objective: 0.80328\n",
      "[00013] -- best objective: 0.83607 -- received objective: 0.83607\n",
      "[00014] -- best objective: 0.83607 -- received objective: 0.81967\n",
      "[00015] -- best objective: 0.83607 -- received objective: 0.73770\n"
     ]
    },
    {
     "data": {
      "text/html": [
       "<div>\n",
       "<style scoped>\n",
       "    .dataframe tbody tr th:only-of-type {\n",
       "        vertical-align: middle;\n",
       "    }\n",
       "\n",
       "    .dataframe tbody tr th {\n",
       "        vertical-align: top;\n",
       "    }\n",
       "\n",
       "    .dataframe thead th {\n",
       "        text-align: right;\n",
       "    }\n",
       "</style>\n",
       "<table border=\"1\" class=\"dataframe\">\n",
       "  <thead>\n",
       "    <tr style=\"text-align: right;\">\n",
       "      <th></th>\n",
       "      <th>activation</th>\n",
       "      <th>batch_size</th>\n",
       "      <th>dropout_rate</th>\n",
       "      <th>learning_rate</th>\n",
       "      <th>num_epochs</th>\n",
       "      <th>units</th>\n",
       "      <th>id</th>\n",
       "      <th>objective</th>\n",
       "      <th>elapsed_sec</th>\n",
       "      <th>duration</th>\n",
       "    </tr>\n",
       "  </thead>\n",
       "  <tbody>\n",
       "    <tr>\n",
       "      <th>0</th>\n",
       "      <td>relu</td>\n",
       "      <td>32</td>\n",
       "      <td>0.500000</td>\n",
       "      <td>0.001000</td>\n",
       "      <td>50</td>\n",
       "      <td>32</td>\n",
       "      <td>1</td>\n",
       "      <td>0.786885</td>\n",
       "      <td>7.598853</td>\n",
       "      <td>7.578054</td>\n",
       "    </tr>\n",
       "    <tr>\n",
       "      <th>1</th>\n",
       "      <td>gelu</td>\n",
       "      <td>23</td>\n",
       "      <td>0.258033</td>\n",
       "      <td>0.000040</td>\n",
       "      <td>40</td>\n",
       "      <td>32</td>\n",
       "      <td>2</td>\n",
       "      <td>0.672131</td>\n",
       "      <td>11.768938</td>\n",
       "      <td>3.980299</td>\n",
       "    </tr>\n",
       "    <tr>\n",
       "      <th>2</th>\n",
       "      <td>hard_sigmoid</td>\n",
       "      <td>18</td>\n",
       "      <td>0.284941</td>\n",
       "      <td>0.006025</td>\n",
       "      <td>98</td>\n",
       "      <td>47</td>\n",
       "      <td>3</td>\n",
       "      <td>0.770492</td>\n",
       "      <td>18.290051</td>\n",
       "      <td>6.336473</td>\n",
       "    </tr>\n",
       "    <tr>\n",
       "      <th>3</th>\n",
       "      <td>gelu</td>\n",
       "      <td>80</td>\n",
       "      <td>0.550907</td>\n",
       "      <td>0.000997</td>\n",
       "      <td>72</td>\n",
       "      <td>21</td>\n",
       "      <td>4</td>\n",
       "      <td>0.819672</td>\n",
       "      <td>23.084517</td>\n",
       "      <td>4.360083</td>\n",
       "    </tr>\n",
       "    <tr>\n",
       "      <th>4</th>\n",
       "      <td>gelu</td>\n",
       "      <td>138</td>\n",
       "      <td>0.580057</td>\n",
       "      <td>0.000150</td>\n",
       "      <td>37</td>\n",
       "      <td>64</td>\n",
       "      <td>5</td>\n",
       "      <td>0.786885</td>\n",
       "      <td>26.648506</td>\n",
       "      <td>3.365339</td>\n",
       "    </tr>\n",
       "    <tr>\n",
       "      <th>5</th>\n",
       "      <td>gelu</td>\n",
       "      <td>67</td>\n",
       "      <td>0.424701</td>\n",
       "      <td>0.000039</td>\n",
       "      <td>92</td>\n",
       "      <td>26</td>\n",
       "      <td>6</td>\n",
       "      <td>0.737705</td>\n",
       "      <td>31.437847</td>\n",
       "      <td>4.600158</td>\n",
       "    </tr>\n",
       "    <tr>\n",
       "      <th>6</th>\n",
       "      <td>gelu</td>\n",
       "      <td>34</td>\n",
       "      <td>0.579395</td>\n",
       "      <td>0.000078</td>\n",
       "      <td>68</td>\n",
       "      <td>15</td>\n",
       "      <td>7</td>\n",
       "      <td>0.508197</td>\n",
       "      <td>36.114651</td>\n",
       "      <td>4.487519</td>\n",
       "    </tr>\n",
       "    <tr>\n",
       "      <th>7</th>\n",
       "      <td>elu</td>\n",
       "      <td>122</td>\n",
       "      <td>0.539962</td>\n",
       "      <td>0.000082</td>\n",
       "      <td>96</td>\n",
       "      <td>58</td>\n",
       "      <td>8</td>\n",
       "      <td>0.803279</td>\n",
       "      <td>41.484020</td>\n",
       "      <td>5.163884</td>\n",
       "    </tr>\n",
       "    <tr>\n",
       "      <th>8</th>\n",
       "      <td>relu</td>\n",
       "      <td>65</td>\n",
       "      <td>0.504956</td>\n",
       "      <td>0.000410</td>\n",
       "      <td>10</td>\n",
       "      <td>12</td>\n",
       "      <td>9</td>\n",
       "      <td>0.475410</td>\n",
       "      <td>44.582903</td>\n",
       "      <td>2.883155</td>\n",
       "    </tr>\n",
       "    <tr>\n",
       "      <th>9</th>\n",
       "      <td>tanh</td>\n",
       "      <td>60</td>\n",
       "      <td>0.580642</td>\n",
       "      <td>0.000986</td>\n",
       "      <td>11</td>\n",
       "      <td>116</td>\n",
       "      <td>10</td>\n",
       "      <td>0.819672</td>\n",
       "      <td>47.797433</td>\n",
       "      <td>2.988053</td>\n",
       "    </tr>\n",
       "    <tr>\n",
       "      <th>10</th>\n",
       "      <td>linear</td>\n",
       "      <td>28</td>\n",
       "      <td>0.560679</td>\n",
       "      <td>0.000158</td>\n",
       "      <td>25</td>\n",
       "      <td>21</td>\n",
       "      <td>11</td>\n",
       "      <td>0.672131</td>\n",
       "      <td>143.179677</td>\n",
       "      <td>95.150133</td>\n",
       "    </tr>\n",
       "    <tr>\n",
       "      <th>11</th>\n",
       "      <td>relu</td>\n",
       "      <td>32</td>\n",
       "      <td>0.500000</td>\n",
       "      <td>0.001000</td>\n",
       "      <td>50</td>\n",
       "      <td>32</td>\n",
       "      <td>12</td>\n",
       "      <td>0.803279</td>\n",
       "      <td>147.456655</td>\n",
       "      <td>4.278111</td>\n",
       "    </tr>\n",
       "    <tr>\n",
       "      <th>12</th>\n",
       "      <td>tanh</td>\n",
       "      <td>45</td>\n",
       "      <td>0.523236</td>\n",
       "      <td>0.000493</td>\n",
       "      <td>10</td>\n",
       "      <td>119</td>\n",
       "      <td>13</td>\n",
       "      <td>0.836066</td>\n",
       "      <td>150.287624</td>\n",
       "      <td>6.870446</td>\n",
       "    </tr>\n",
       "    <tr>\n",
       "      <th>13</th>\n",
       "      <td>swish</td>\n",
       "      <td>93</td>\n",
       "      <td>0.580342</td>\n",
       "      <td>0.000609</td>\n",
       "      <td>10</td>\n",
       "      <td>127</td>\n",
       "      <td>14</td>\n",
       "      <td>0.819672</td>\n",
       "      <td>153.097930</td>\n",
       "      <td>5.411582</td>\n",
       "    </tr>\n",
       "    <tr>\n",
       "      <th>14</th>\n",
       "      <td>softplus</td>\n",
       "      <td>113</td>\n",
       "      <td>0.521517</td>\n",
       "      <td>0.000171</td>\n",
       "      <td>17</td>\n",
       "      <td>124</td>\n",
       "      <td>15</td>\n",
       "      <td>0.737705</td>\n",
       "      <td>156.108216</td>\n",
       "      <td>5.605134</td>\n",
       "    </tr>\n",
       "  </tbody>\n",
       "</table>\n",
       "</div>"
      ],
      "text/plain": [
       "      activation  batch_size  dropout_rate  learning_rate  num_epochs  units  \\\n",
       "0           relu          32      0.500000       0.001000          50     32   \n",
       "1           gelu          23      0.258033       0.000040          40     32   \n",
       "2   hard_sigmoid          18      0.284941       0.006025          98     47   \n",
       "3           gelu          80      0.550907       0.000997          72     21   \n",
       "4           gelu         138      0.580057       0.000150          37     64   \n",
       "5           gelu          67      0.424701       0.000039          92     26   \n",
       "6           gelu          34      0.579395       0.000078          68     15   \n",
       "7            elu         122      0.539962       0.000082          96     58   \n",
       "8           relu          65      0.504956       0.000410          10     12   \n",
       "9           tanh          60      0.580642       0.000986          11    116   \n",
       "10        linear          28      0.560679       0.000158          25     21   \n",
       "11          relu          32      0.500000       0.001000          50     32   \n",
       "12          tanh          45      0.523236       0.000493          10    119   \n",
       "13         swish          93      0.580342       0.000609          10    127   \n",
       "14      softplus         113      0.521517       0.000171          17    124   \n",
       "\n",
       "    id  objective  elapsed_sec   duration  \n",
       "0    1   0.786885     7.598853   7.578054  \n",
       "1    2   0.672131    11.768938   3.980299  \n",
       "2    3   0.770492    18.290051   6.336473  \n",
       "3    4   0.819672    23.084517   4.360083  \n",
       "4    5   0.786885    26.648506   3.365339  \n",
       "5    6   0.737705    31.437847   4.600158  \n",
       "6    7   0.508197    36.114651   4.487519  \n",
       "7    8   0.803279    41.484020   5.163884  \n",
       "8    9   0.475410    44.582903   2.883155  \n",
       "9   10   0.819672    47.797433   2.988053  \n",
       "10  11   0.672131   143.179677  95.150133  \n",
       "11  12   0.803279   147.456655   4.278111  \n",
       "12  13   0.836066   150.287624   6.870446  \n",
       "13  14   0.819672   153.097930   5.411582  \n",
       "14  15   0.737705   156.108216   5.605134  "
      ]
     },
     "execution_count": 15,
     "metadata": {},
     "output_type": "execute_result"
    }
   ],
   "source": [
    "results = search.search(max_evals=5)\n",
    "\n",
    "results"
   ]
  },
  {
   "cell_type": "markdown",
   "id": "53d673da",
   "metadata": {},
   "source": [
    "Now that the search is over, let us print the best configuration found during this run."
   ]
  },
  {
   "cell_type": "code",
   "execution_count": 16,
   "id": "f906a04f",
   "metadata": {
    "ExecuteTime": {
     "end_time": "2021-10-06T14:14:10.979212Z",
     "start_time": "2021-10-06T14:14:10.975696Z"
    },
    "execution": {
     "iopub.execute_input": "2021-10-05T13:28:16.309800Z",
     "iopub.status.busy": "2021-10-05T13:28:16.309564Z",
     "iopub.status.idle": "2021-10-05T13:28:16.316422Z",
     "shell.execute_reply": "2021-10-05T13:28:16.315876Z",
     "shell.execute_reply.started": "2021-10-05T13:28:16.309775Z"
    }
   },
   "outputs": [
    {
     "name": "stdout",
     "output_type": "stream",
     "text": [
      "The default configuration has an accuracy of 0.820. \n",
      "The best configuration found by DeepHyper has an accuracy 0.836, \n",
      "trained in 6.87 secondes and \n",
      "finished after 150.29 secondes of search.\n",
      "\n",
      "{\n",
      "    \"activation\": \"tanh\",\n",
      "    \"batch_size\": 45,\n",
      "    \"dropout_rate\": 0.523235647787012,\n",
      "    \"learning_rate\": 0.000492760471386,\n",
      "    \"num_epochs\": 10,\n",
      "    \"units\": 119,\n",
      "    \"id\": 13\n",
      "}\n"
     ]
    }
   ],
   "source": [
    "i_max = results.objective.argmax()\n",
    "best_config = results.iloc[i_max][:-3].to_dict()\n",
    "\n",
    "print(f\"The default configuration has an accuracy of {objective_default:.3f}. \\n\" \n",
    "      f\"The best configuration found by DeepHyper has an accuracy {results['objective'].iloc[i_max]:.3f}, \\n\" \n",
    "      f\"trained in {results['duration'].iloc[i_max]:.2f} secondes and \\n\"\n",
    "      f\"finished after {results['elapsed_sec'].iloc[i_max]:.2f} secondes of search.\\n\")\n",
    "\n",
    "print(json.dumps(best_config, indent=4))"
   ]
  },
  {
   "cell_type": "markdown",
   "id": "b8349d84",
   "metadata": {},
   "source": [
    "## Restart from a checkpoint\n",
    "\n",
    "It can often be useful to continue the search from previous results. For example, if the allocation requested was not enough or if an unexpected crash happened. The `AMBS` searhc provides the `fit_surrogate(dataframe_of_results)` method for this use case. \n",
    "\n",
    "To simulate this we create a second evaluator `evaluator_2` and start a fresh AMBS search with strong explotation `kappa=0.001`."
   ]
  },
  {
   "cell_type": "code",
   "execution_count": 17,
   "id": "3e99249c",
   "metadata": {
    "ExecuteTime": {
     "end_time": "2021-10-06T14:14:13.791888Z",
     "start_time": "2021-10-06T14:14:13.717020Z"
    },
    "execution": {
     "iopub.execute_input": "2021-10-05T13:28:18.176620Z",
     "iopub.status.busy": "2021-10-05T13:28:18.176439Z",
     "iopub.status.idle": "2021-10-05T13:28:18.260776Z",
     "shell.execute_reply": "2021-10-05T13:28:18.260306Z",
     "shell.execute_reply.started": "2021-10-05T13:28:18.176598Z"
    }
   },
   "outputs": [
    {
     "name": "stdout",
     "output_type": "stream",
     "text": [
      "Created new evaluator with 1 worker and config: {'num_cpus': 1, 'num_cpus_per_task': 1, 'callbacks': [<deephyper.evaluator.callback.LoggerCallback object at 0x7fce1445abb0>]}\n"
     ]
    }
   ],
   "source": [
    "evaluator_2 = get_evaluator(run)\n",
    "\n",
    "search_from_checkpoint = AMBS(problem, evaluator_2, kappa=0.001)\n",
    "\n",
    "# Initialize surrogate model of Bayesian optization (in AMBS)\n",
    "# With results of previous search\n",
    "search_from_checkpoint.fit_surrogate(results)"
   ]
  },
  {
   "cell_type": "code",
   "execution_count": 18,
   "id": "9baeb24f",
   "metadata": {
    "ExecuteTime": {
     "end_time": "2021-10-06T14:15:00.807606Z",
     "start_time": "2021-10-06T14:14:15.820625Z"
    },
    "execution": {
     "iopub.execute_input": "2021-10-05T13:28:19.996570Z",
     "iopub.status.busy": "2021-10-05T13:28:19.996390Z",
     "iopub.status.idle": "2021-10-05T13:29:18.566650Z",
     "shell.execute_reply": "2021-10-05T13:29:18.566114Z",
     "shell.execute_reply.started": "2021-10-05T13:28:19.996549Z"
    }
   },
   "outputs": [
    {
     "name": "stdout",
     "output_type": "stream",
     "text": [
      "[00001] -- best objective: 0.83607 -- received objective: 0.83607\n",
      "[00002] -- best objective: 0.83607 -- received objective: 0.81967\n",
      "[00003] -- best objective: 0.83607 -- received objective: 0.83607\n",
      "[00004] -- best objective: 0.83607 -- received objective: 0.80328\n",
      "[00005] -- best objective: 0.83607 -- received objective: 0.81967\n",
      "[00006] -- best objective: 0.83607 -- received objective: 0.83607\n",
      "[00007] -- best objective: 0.83607 -- received objective: 0.83607\n",
      "[00008] -- best objective: 0.83607 -- received objective: 0.81967\n",
      "[00009] -- best objective: 0.83607 -- received objective: 0.83607\n",
      "[00010] -- best objective: 0.83607 -- received objective: 0.80328\n"
     ]
    }
   ],
   "source": [
    "results_from_checkpoint = search_from_checkpoint.search(max_evals=10)"
   ]
  },
  {
   "cell_type": "code",
   "execution_count": 19,
   "id": "7f293587",
   "metadata": {
    "ExecuteTime": {
     "end_time": "2021-10-06T14:15:00.826885Z",
     "start_time": "2021-10-06T14:15:00.819039Z"
    },
    "execution": {
     "iopub.execute_input": "2021-10-05T13:31:00.645334Z",
     "iopub.status.busy": "2021-10-05T13:31:00.645102Z",
     "iopub.status.idle": "2021-10-05T13:31:00.657401Z",
     "shell.execute_reply": "2021-10-05T13:31:00.656830Z",
     "shell.execute_reply.started": "2021-10-05T13:31:00.645309Z"
    }
   },
   "outputs": [
    {
     "data": {
      "text/html": [
       "<div>\n",
       "<style scoped>\n",
       "    .dataframe tbody tr th:only-of-type {\n",
       "        vertical-align: middle;\n",
       "    }\n",
       "\n",
       "    .dataframe tbody tr th {\n",
       "        vertical-align: top;\n",
       "    }\n",
       "\n",
       "    .dataframe thead th {\n",
       "        text-align: right;\n",
       "    }\n",
       "</style>\n",
       "<table border=\"1\" class=\"dataframe\">\n",
       "  <thead>\n",
       "    <tr style=\"text-align: right;\">\n",
       "      <th></th>\n",
       "      <th>activation</th>\n",
       "      <th>batch_size</th>\n",
       "      <th>dropout_rate</th>\n",
       "      <th>learning_rate</th>\n",
       "      <th>num_epochs</th>\n",
       "      <th>units</th>\n",
       "      <th>id</th>\n",
       "      <th>objective</th>\n",
       "      <th>elapsed_sec</th>\n",
       "      <th>duration</th>\n",
       "    </tr>\n",
       "  </thead>\n",
       "  <tbody>\n",
       "    <tr>\n",
       "      <th>0</th>\n",
       "      <td>tanh</td>\n",
       "      <td>86</td>\n",
       "      <td>0.583971</td>\n",
       "      <td>0.000329</td>\n",
       "      <td>14</td>\n",
       "      <td>61</td>\n",
       "      <td>1</td>\n",
       "      <td>0.836066</td>\n",
       "      <td>4.265080</td>\n",
       "      <td>2.999104</td>\n",
       "    </tr>\n",
       "    <tr>\n",
       "      <th>1</th>\n",
       "      <td>tanh</td>\n",
       "      <td>59</td>\n",
       "      <td>0.526438</td>\n",
       "      <td>0.000688</td>\n",
       "      <td>19</td>\n",
       "      <td>101</td>\n",
       "      <td>2</td>\n",
       "      <td>0.819672</td>\n",
       "      <td>7.689744</td>\n",
       "      <td>3.105097</td>\n",
       "    </tr>\n",
       "    <tr>\n",
       "      <th>2</th>\n",
       "      <td>softsign</td>\n",
       "      <td>43</td>\n",
       "      <td>0.591609</td>\n",
       "      <td>0.000439</td>\n",
       "      <td>58</td>\n",
       "      <td>54</td>\n",
       "      <td>3</td>\n",
       "      <td>0.836066</td>\n",
       "      <td>12.176082</td>\n",
       "      <td>4.269989</td>\n",
       "    </tr>\n",
       "    <tr>\n",
       "      <th>3</th>\n",
       "      <td>selu</td>\n",
       "      <td>90</td>\n",
       "      <td>0.596547</td>\n",
       "      <td>0.000410</td>\n",
       "      <td>45</td>\n",
       "      <td>34</td>\n",
       "      <td>4</td>\n",
       "      <td>0.803279</td>\n",
       "      <td>16.115337</td>\n",
       "      <td>3.733523</td>\n",
       "    </tr>\n",
       "    <tr>\n",
       "      <th>4</th>\n",
       "      <td>gelu</td>\n",
       "      <td>94</td>\n",
       "      <td>0.563828</td>\n",
       "      <td>0.000558</td>\n",
       "      <td>61</td>\n",
       "      <td>50</td>\n",
       "      <td>5</td>\n",
       "      <td>0.819672</td>\n",
       "      <td>20.392039</td>\n",
       "      <td>4.069311</td>\n",
       "    </tr>\n",
       "    <tr>\n",
       "      <th>5</th>\n",
       "      <td>softsign</td>\n",
       "      <td>36</td>\n",
       "      <td>0.546140</td>\n",
       "      <td>0.000275</td>\n",
       "      <td>98</td>\n",
       "      <td>102</td>\n",
       "      <td>6</td>\n",
       "      <td>0.836066</td>\n",
       "      <td>26.195118</td>\n",
       "      <td>5.587447</td>\n",
       "    </tr>\n",
       "    <tr>\n",
       "      <th>6</th>\n",
       "      <td>selu</td>\n",
       "      <td>49</td>\n",
       "      <td>0.269347</td>\n",
       "      <td>0.000286</td>\n",
       "      <td>43</td>\n",
       "      <td>66</td>\n",
       "      <td>7</td>\n",
       "      <td>0.836066</td>\n",
       "      <td>30.199833</td>\n",
       "      <td>3.788395</td>\n",
       "    </tr>\n",
       "    <tr>\n",
       "      <th>7</th>\n",
       "      <td>gelu</td>\n",
       "      <td>45</td>\n",
       "      <td>0.199935</td>\n",
       "      <td>0.000307</td>\n",
       "      <td>14</td>\n",
       "      <td>83</td>\n",
       "      <td>8</td>\n",
       "      <td>0.819672</td>\n",
       "      <td>33.426655</td>\n",
       "      <td>3.017154</td>\n",
       "    </tr>\n",
       "    <tr>\n",
       "      <th>8</th>\n",
       "      <td>elu</td>\n",
       "      <td>86</td>\n",
       "      <td>0.574243</td>\n",
       "      <td>0.000322</td>\n",
       "      <td>42</td>\n",
       "      <td>84</td>\n",
       "      <td>9</td>\n",
       "      <td>0.836066</td>\n",
       "      <td>37.323858</td>\n",
       "      <td>3.670469</td>\n",
       "    </tr>\n",
       "    <tr>\n",
       "      <th>9</th>\n",
       "      <td>elu</td>\n",
       "      <td>77</td>\n",
       "      <td>0.578832</td>\n",
       "      <td>0.000414</td>\n",
       "      <td>67</td>\n",
       "      <td>101</td>\n",
       "      <td>10</td>\n",
       "      <td>0.803279</td>\n",
       "      <td>41.889889</td>\n",
       "      <td>4.346157</td>\n",
       "    </tr>\n",
       "  </tbody>\n",
       "</table>\n",
       "</div>"
      ],
      "text/plain": [
       "  activation  batch_size  dropout_rate  learning_rate  num_epochs  units  id  \\\n",
       "0       tanh          86      0.583971       0.000329          14     61   1   \n",
       "1       tanh          59      0.526438       0.000688          19    101   2   \n",
       "2   softsign          43      0.591609       0.000439          58     54   3   \n",
       "3       selu          90      0.596547       0.000410          45     34   4   \n",
       "4       gelu          94      0.563828       0.000558          61     50   5   \n",
       "5   softsign          36      0.546140       0.000275          98    102   6   \n",
       "6       selu          49      0.269347       0.000286          43     66   7   \n",
       "7       gelu          45      0.199935       0.000307          14     83   8   \n",
       "8        elu          86      0.574243       0.000322          42     84   9   \n",
       "9        elu          77      0.578832       0.000414          67    101  10   \n",
       "\n",
       "   objective  elapsed_sec  duration  \n",
       "0   0.836066     4.265080  2.999104  \n",
       "1   0.819672     7.689744  3.105097  \n",
       "2   0.836066    12.176082  4.269989  \n",
       "3   0.803279    16.115337  3.733523  \n",
       "4   0.819672    20.392039  4.069311  \n",
       "5   0.836066    26.195118  5.587447  \n",
       "6   0.836066    30.199833  3.788395  \n",
       "7   0.819672    33.426655  3.017154  \n",
       "8   0.836066    37.323858  3.670469  \n",
       "9   0.803279    41.889889  4.346157  "
      ]
     },
     "execution_count": 19,
     "metadata": {},
     "output_type": "execute_result"
    }
   ],
   "source": [
    "results_from_checkpoint"
   ]
  },
  {
   "cell_type": "code",
   "execution_count": 20,
   "id": "8f28d724",
   "metadata": {
    "ExecuteTime": {
     "end_time": "2021-10-06T14:15:01.129246Z",
     "start_time": "2021-10-06T14:15:00.837350Z"
    },
    "execution": {
     "iopub.execute_input": "2021-10-05T13:31:03.701630Z",
     "iopub.status.busy": "2021-10-05T13:31:03.701435Z",
     "iopub.status.idle": "2021-10-05T13:31:03.708209Z",
     "shell.execute_reply": "2021-10-05T13:31:03.707703Z",
     "shell.execute_reply.started": "2021-10-05T13:31:03.701608Z"
    }
   },
   "outputs": [
    {
     "name": "stdout",
     "output_type": "stream",
     "text": [
      "The default configuration has an accuracy of 0.820. The best configuration found by DeepHyper has an accuracy 0.836, trained in 3.00 secondes and finished after 4.27 secondes of search.\n"
     ]
    },
    {
     "data": {
      "text/plain": [
       "{'activation': 'tanh',\n",
       " 'batch_size': 86,\n",
       " 'dropout_rate': 0.583970714199678,\n",
       " 'learning_rate': 0.0003287815175123,\n",
       " 'num_epochs': 14,\n",
       " 'units': 61,\n",
       " 'id': 1}"
      ]
     },
     "execution_count": 20,
     "metadata": {},
     "output_type": "execute_result"
    }
   ],
   "source": [
    "i_max = results_from_checkpoint.objective.argmax()\n",
    "best_config = results_from_checkpoint.iloc[i_max][:-3].to_dict()\n",
    "\n",
    "print(f\"The default configuration has an accuracy of {objective_default:.3f}. \" \n",
    "      f\"The best configuration found by DeepHyper has an accuracy {results_from_checkpoint['objective'].iloc[i_max]:.3f}, \" \n",
    "      f\"trained in {results_from_checkpoint['duration'].iloc[i_max]:.2f} secondes and \"\n",
    "      f\"finished after {results_from_checkpoint['elapsed_sec'].iloc[i_max]:.2f} secondes of search.\")\n",
    "\n",
    "best_config"
   ]
  },
  {
   "cell_type": "markdown",
   "id": "8b535c9d",
   "metadata": {},
   "source": [
    "## Add conditional hyperparameters\n",
    "\n",
    "Now we want to add the possibility to search for a second fully-connected layer. We simply add two new lines:\n",
    "\n",
    "```python\n",
    "if config.get(\"dense_2\", False):\n",
    "    x = tf.keras.layers.Dense(config[\"dense_2:units\"], activation=config[\"dense_2:activation\"])(x)\n",
    "```"
   ]
  },
  {
   "cell_type": "code",
   "execution_count": 21,
   "id": "8a62e9f5",
   "metadata": {
    "ExecuteTime": {
     "end_time": "2021-10-06T14:15:01.344982Z",
     "start_time": "2021-10-06T14:15:01.141111Z"
    },
    "execution": {
     "iopub.execute_input": "2021-10-05T13:31:06.664412Z",
     "iopub.status.busy": "2021-10-05T13:31:06.664230Z",
     "iopub.status.idle": "2021-10-05T13:31:06.678681Z",
     "shell.execute_reply": "2021-10-05T13:31:06.678208Z",
     "shell.execute_reply.started": "2021-10-05T13:31:06.664391Z"
    }
   },
   "outputs": [],
   "source": [
    "def run_with_condition(config: dict):\n",
    "    tf.autograph.set_verbosity(0)\n",
    "    \n",
    "    train_dataframe, val_dataframe = load_data()\n",
    "\n",
    "    train_ds = dataframe_to_dataset(train_dataframe)\n",
    "    val_ds = dataframe_to_dataset(val_dataframe)\n",
    "\n",
    "    train_ds = train_ds.batch(config[\"batch_size\"])\n",
    "    val_ds = val_ds.batch(config[\"batch_size\"])\n",
    "\n",
    "    # Categorical features encoded as integers\n",
    "    sex = tf.keras.Input(shape=(1,), name=\"sex\", dtype=\"int64\")\n",
    "    cp = tf.keras.Input(shape=(1,), name=\"cp\", dtype=\"int64\")\n",
    "    fbs = tf.keras.Input(shape=(1,), name=\"fbs\", dtype=\"int64\")\n",
    "    restecg = tf.keras.Input(shape=(1,), name=\"restecg\", dtype=\"int64\")\n",
    "    exang = tf.keras.Input(shape=(1,), name=\"exang\", dtype=\"int64\")\n",
    "    ca = tf.keras.Input(shape=(1,), name=\"ca\", dtype=\"int64\")\n",
    "\n",
    "    # Categorical feature encoded as string\n",
    "    thal = tf.keras.Input(shape=(1,), name=\"thal\", dtype=\"string\")\n",
    "\n",
    "    # Numerical features\n",
    "    age = tf.keras.Input(shape=(1,), name=\"age\")\n",
    "    trestbps = tf.keras.Input(shape=(1,), name=\"trestbps\")\n",
    "    chol = tf.keras.Input(shape=(1,), name=\"chol\")\n",
    "    thalach = tf.keras.Input(shape=(1,), name=\"thalach\")\n",
    "    oldpeak = tf.keras.Input(shape=(1,), name=\"oldpeak\")\n",
    "    slope = tf.keras.Input(shape=(1,), name=\"slope\")\n",
    "\n",
    "    all_inputs = [\n",
    "        sex,\n",
    "        cp,\n",
    "        fbs,\n",
    "        restecg,\n",
    "        exang,\n",
    "        ca,\n",
    "        thal,\n",
    "        age,\n",
    "        trestbps,\n",
    "        chol,\n",
    "        thalach,\n",
    "        oldpeak,\n",
    "        slope,\n",
    "    ]\n",
    "\n",
    "    # Integer categorical features\n",
    "    sex_encoded = encode_categorical_feature(sex, \"sex\", train_ds, False)\n",
    "    cp_encoded = encode_categorical_feature(cp, \"cp\", train_ds, False)\n",
    "    fbs_encoded = encode_categorical_feature(fbs, \"fbs\", train_ds, False)\n",
    "    restecg_encoded = encode_categorical_feature(restecg, \"restecg\", train_ds, False)\n",
    "    exang_encoded = encode_categorical_feature(exang, \"exang\", train_ds, False)\n",
    "    ca_encoded = encode_categorical_feature(ca, \"ca\", train_ds, False)\n",
    "\n",
    "    # String categorical features\n",
    "    thal_encoded = encode_categorical_feature(thal, \"thal\", train_ds, True)\n",
    "\n",
    "    # Numerical features\n",
    "    age_encoded = encode_numerical_feature(age, \"age\", train_ds)\n",
    "    trestbps_encoded = encode_numerical_feature(trestbps, \"trestbps\", train_ds)\n",
    "    chol_encoded = encode_numerical_feature(chol, \"chol\", train_ds)\n",
    "    thalach_encoded = encode_numerical_feature(thalach, \"thalach\", train_ds)\n",
    "    oldpeak_encoded = encode_numerical_feature(oldpeak, \"oldpeak\", train_ds)\n",
    "    slope_encoded = encode_numerical_feature(slope, \"slope\", train_ds)\n",
    "\n",
    "    all_features = tf.keras.layers.concatenate(\n",
    "        [\n",
    "            sex_encoded,\n",
    "            cp_encoded,\n",
    "            fbs_encoded,\n",
    "            restecg_encoded,\n",
    "            exang_encoded,\n",
    "            slope_encoded,\n",
    "            ca_encoded,\n",
    "            thal_encoded,\n",
    "            age_encoded,\n",
    "            trestbps_encoded,\n",
    "            chol_encoded,\n",
    "            thalach_encoded,\n",
    "            oldpeak_encoded,\n",
    "        ]\n",
    "    )\n",
    "    x = tf.keras.layers.Dense(config[\"units\"], activation=config[\"activation\"])(\n",
    "        all_features\n",
    "    )\n",
    "    if config.get(\"dense_2\", False):\n",
    "        x = tf.keras.layers.Dense(config[\"dense_2:units\"], activation=config[\"dense_2:activation\"])(x)\n",
    "    x = tf.keras.layers.Dropout(config[\"dropout_rate\"])(x)\n",
    "    output = tf.keras.layers.Dense(1, activation=\"sigmoid\")(x)\n",
    "    model = tf.keras.Model(all_inputs, output)\n",
    "\n",
    "    optimizer = tf.keras.optimizers.Adam(learning_rate=config[\"learning_rate\"])\n",
    "    model.compile(optimizer, \"binary_crossentropy\", metrics=[\"accuracy\"])\n",
    "\n",
    "    history = model.fit(\n",
    "        train_ds, epochs=config[\"num_epochs\"], validation_data=val_ds, verbose=0\n",
    "    )\n",
    "\n",
    "    return history.history[\"val_accuracy\"][-1]"
   ]
  },
  {
   "cell_type": "markdown",
   "id": "5df1c9fb",
   "metadata": {},
   "source": [
    "To define conditionnal hyperparameters we use [ConfigSpace](https://automl.github.io/ConfigSpace/master/index.html). We define `dense_2:units` and `dense_2:activation` as active hyperparameters only when `dense_2 == True`. The `cs.EqualsCondition` help us do that. Then we call\n",
    "\n",
    "```python\n",
    "problem_with_condition.add_condition(condition)\n",
    "```\n",
    "\n",
    "to register each new condition to the `HpProblem`."
   ]
  },
  {
   "cell_type": "code",
   "execution_count": 22,
   "id": "4cda0275",
   "metadata": {
    "ExecuteTime": {
     "end_time": "2021-10-06T14:15:41.846465Z",
     "start_time": "2021-10-06T14:15:41.831051Z"
    },
    "execution": {
     "iopub.execute_input": "2021-10-05T13:31:13.593610Z",
     "iopub.status.busy": "2021-10-05T13:31:13.593319Z",
     "iopub.status.idle": "2021-10-05T13:31:13.618632Z",
     "shell.execute_reply": "2021-10-05T13:31:13.618023Z",
     "shell.execute_reply.started": "2021-10-05T13:31:13.593579Z"
    }
   },
   "outputs": [
    {
     "data": {
      "text/plain": [
       "Configuration space object:\n",
       "  Hyperparameters:\n",
       "    activation, Type: Categorical, Choices: {elu, gelu, hard_sigmoid, linear, relu, selu, sigmoid, softplus, softsign, swish, tanh}, Default: elu\n",
       "    batch_size, Type: UniformInteger, Range: [8, 256], Default: 45, on log-scale\n",
       "    dense_2, Type: Categorical, Choices: {True, False}, Default: True\n",
       "    dense_2:activation, Type: Categorical, Choices: {elu, gelu, hard_sigmoid, linear, relu, selu, sigmoid, softplus, softsign, swish, tanh}, Default: elu\n",
       "    dense_2:units, Type: UniformInteger, Range: [8, 128], Default: 68\n",
       "    dropout_rate, Type: UniformFloat, Range: [0.0, 0.6], Default: 0.3\n",
       "    learning_rate, Type: UniformFloat, Range: [1e-05, 0.01], Default: 0.0003162278, on log-scale\n",
       "    num_epochs, Type: UniformInteger, Range: [10, 100], Default: 55\n",
       "    units, Type: UniformInteger, Range: [8, 128], Default: 68\n",
       "  Conditions:\n",
       "    dense_2:activation | dense_2 == True\n",
       "    dense_2:units | dense_2 == True"
      ]
     },
     "execution_count": 22,
     "metadata": {},
     "output_type": "execute_result"
    }
   ],
   "source": [
    "import ConfigSpace as cs\n",
    "\n",
    "# Define the same hyperparameters as before\n",
    "problem_with_condition = HpProblem()\n",
    "problem_with_condition.add_hyperparameter((8, 128), \"units\")\n",
    "problem_with_condition.add_hyperparameter(ACTIVATIONS, \"activation\")\n",
    "problem_with_condition.add_hyperparameter((0.0, 0.6), \"dropout_rate\")\n",
    "problem_with_condition.add_hyperparameter((10, 100), \"num_epochs\")\n",
    "problem_with_condition.add_hyperparameter((8, 256, \"log-uniform\"), \"batch_size\")\n",
    "problem_with_condition.add_hyperparameter((1e-5, 1e-2, \"log-uniform\"), \"learning_rate\")\n",
    "\n",
    "# Add a new hyperparameter \"dense_2 (bool)\" to decide if a second fully-connected layer should be created\n",
    "hp_dense_2 = problem_with_condition.add_hyperparameter([True, False], \"dense_2\")\n",
    "hp_dense_2_units = problem_with_condition.add_hyperparameter((8, 128), \"dense_2:units\")\n",
    "hp_dense_2_activation = problem_with_condition.add_hyperparameter(ACTIVATIONS, \"dense_2:activation\")\n",
    "\n",
    "problem_with_condition.add_condition(cs.EqualsCondition(hp_dense_2_units, hp_dense_2, True))\n",
    "problem_with_condition.add_condition(cs.EqualsCondition(hp_dense_2_activation, hp_dense_2, True))\n",
    "\n",
    "\n",
    "problem_with_condition"
   ]
  },
  {
   "cell_type": "markdown",
   "id": "fc027194",
   "metadata": {},
   "source": [
    "We create a new evaluator `evaluator_3` and start a fresh AMBS search with this new problem `problem_with_condition`."
   ]
  },
  {
   "cell_type": "code",
   "execution_count": 23,
   "id": "70192b13",
   "metadata": {
    "ExecuteTime": {
     "end_time": "2021-10-06T14:15:44.701082Z",
     "start_time": "2021-10-06T14:15:44.697400Z"
    },
    "execution": {
     "iopub.execute_input": "2021-10-05T13:31:15.311474Z",
     "iopub.status.busy": "2021-10-05T13:31:15.311234Z",
     "iopub.status.idle": "2021-10-05T13:31:15.318532Z",
     "shell.execute_reply": "2021-10-05T13:31:15.317880Z",
     "shell.execute_reply.started": "2021-10-05T13:31:15.311445Z"
    }
   },
   "outputs": [
    {
     "name": "stdout",
     "output_type": "stream",
     "text": [
      "Created new evaluator with 1 worker and config: {'num_cpus': 1, 'num_cpus_per_task': 1, 'callbacks': [<deephyper.evaluator.callback.LoggerCallback object at 0x7fce13c92f10>]}\n"
     ]
    }
   ],
   "source": [
    "evaluator_3 = get_evaluator(run_with_condition)\n",
    "\n",
    "search_with_condition = AMBS(problem_with_condition, evaluator_3)"
   ]
  },
  {
   "cell_type": "code",
   "execution_count": 24,
   "id": "7705a8a1",
   "metadata": {
    "ExecuteTime": {
     "end_time": "2021-10-05T17:39:39.208415Z",
     "start_time": "2021-10-05T17:38:35.828400Z"
    },
    "execution": {
     "iopub.execute_input": "2021-10-05T13:31:16.432178Z",
     "iopub.status.busy": "2021-10-05T13:31:16.431994Z",
     "iopub.status.idle": "2021-10-05T13:33:02.931919Z",
     "shell.execute_reply": "2021-10-05T13:33:02.931400Z",
     "shell.execute_reply.started": "2021-10-05T13:31:16.432154Z"
    }
   },
   "outputs": [
    {
     "name": "stdout",
     "output_type": "stream",
     "text": [
      "[00001] -- best objective: 0.80328 -- received objective: 0.80328\n",
      "[00002] -- best objective: 0.81967 -- received objective: 0.81967\n",
      "[00003] -- best objective: 0.81967 -- received objective: 0.77049\n",
      "[00004] -- best objective: 0.83607 -- received objective: 0.83607\n",
      "[00005] -- best objective: 0.83607 -- received objective: 0.77049\n",
      "[00006] -- best objective: 0.83607 -- received objective: 0.81967\n",
      "[00007] -- best objective: 0.83607 -- received objective: 0.77049\n",
      "[00008] -- best objective: 0.83607 -- received objective: 0.81967\n",
      "[00009] -- best objective: 0.83607 -- received objective: 0.78689\n",
      "[00010] -- best objective: 0.83607 -- received objective: 0.80328\n"
     ]
    }
   ],
   "source": [
    "results_with_condition = search_with_condition.search(max_evals=10)"
   ]
  },
  {
   "cell_type": "code",
   "execution_count": 25,
   "id": "4764b947",
   "metadata": {
    "ExecuteTime": {
     "end_time": "2021-10-05T17:39:39.253697Z",
     "start_time": "2021-10-05T17:39:39.235644Z"
    },
    "execution": {
     "iopub.execute_input": "2021-10-05T13:33:02.932935Z",
     "iopub.status.busy": "2021-10-05T13:33:02.932760Z",
     "iopub.status.idle": "2021-10-05T13:33:02.950032Z",
     "shell.execute_reply": "2021-10-05T13:33:02.949499Z",
     "shell.execute_reply.started": "2021-10-05T13:33:02.932912Z"
    }
   },
   "outputs": [
    {
     "data": {
      "text/html": [
       "<div>\n",
       "<style scoped>\n",
       "    .dataframe tbody tr th:only-of-type {\n",
       "        vertical-align: middle;\n",
       "    }\n",
       "\n",
       "    .dataframe tbody tr th {\n",
       "        vertical-align: top;\n",
       "    }\n",
       "\n",
       "    .dataframe thead th {\n",
       "        text-align: right;\n",
       "    }\n",
       "</style>\n",
       "<table border=\"1\" class=\"dataframe\">\n",
       "  <thead>\n",
       "    <tr style=\"text-align: right;\">\n",
       "      <th></th>\n",
       "      <th>activation</th>\n",
       "      <th>batch_size</th>\n",
       "      <th>dense_2</th>\n",
       "      <th>dropout_rate</th>\n",
       "      <th>learning_rate</th>\n",
       "      <th>num_epochs</th>\n",
       "      <th>units</th>\n",
       "      <th>dense_2:activation</th>\n",
       "      <th>dense_2:units</th>\n",
       "      <th>id</th>\n",
       "      <th>objective</th>\n",
       "      <th>elapsed_sec</th>\n",
       "      <th>duration</th>\n",
       "    </tr>\n",
       "  </thead>\n",
       "  <tbody>\n",
       "    <tr>\n",
       "      <th>0</th>\n",
       "      <td>softsign</td>\n",
       "      <td>91</td>\n",
       "      <td>False</td>\n",
       "      <td>0.114065</td>\n",
       "      <td>0.000506</td>\n",
       "      <td>67</td>\n",
       "      <td>27</td>\n",
       "      <td>NaN</td>\n",
       "      <td>NaN</td>\n",
       "      <td>1</td>\n",
       "      <td>0.803279</td>\n",
       "      <td>5.145283</td>\n",
       "      <td>4.457543</td>\n",
       "    </tr>\n",
       "    <tr>\n",
       "      <th>1</th>\n",
       "      <td>elu</td>\n",
       "      <td>87</td>\n",
       "      <td>True</td>\n",
       "      <td>0.137768</td>\n",
       "      <td>0.000138</td>\n",
       "      <td>55</td>\n",
       "      <td>93</td>\n",
       "      <td>softplus</td>\n",
       "      <td>21.0</td>\n",
       "      <td>2</td>\n",
       "      <td>0.819672</td>\n",
       "      <td>9.527729</td>\n",
       "      <td>4.079856</td>\n",
       "    </tr>\n",
       "    <tr>\n",
       "      <th>2</th>\n",
       "      <td>swish</td>\n",
       "      <td>222</td>\n",
       "      <td>True</td>\n",
       "      <td>0.199520</td>\n",
       "      <td>0.001492</td>\n",
       "      <td>93</td>\n",
       "      <td>55</td>\n",
       "      <td>selu</td>\n",
       "      <td>74.0</td>\n",
       "      <td>3</td>\n",
       "      <td>0.770492</td>\n",
       "      <td>14.642000</td>\n",
       "      <td>4.838408</td>\n",
       "    </tr>\n",
       "    <tr>\n",
       "      <th>3</th>\n",
       "      <td>tanh</td>\n",
       "      <td>15</td>\n",
       "      <td>True</td>\n",
       "      <td>0.361096</td>\n",
       "      <td>0.000017</td>\n",
       "      <td>87</td>\n",
       "      <td>109</td>\n",
       "      <td>sigmoid</td>\n",
       "      <td>40.0</td>\n",
       "      <td>4</td>\n",
       "      <td>0.836066</td>\n",
       "      <td>21.096835</td>\n",
       "      <td>6.172969</td>\n",
       "    </tr>\n",
       "    <tr>\n",
       "      <th>4</th>\n",
       "      <td>tanh</td>\n",
       "      <td>14</td>\n",
       "      <td>True</td>\n",
       "      <td>0.419676</td>\n",
       "      <td>0.000091</td>\n",
       "      <td>51</td>\n",
       "      <td>8</td>\n",
       "      <td>swish</td>\n",
       "      <td>56.0</td>\n",
       "      <td>5</td>\n",
       "      <td>0.770492</td>\n",
       "      <td>26.564862</td>\n",
       "      <td>5.068724</td>\n",
       "    </tr>\n",
       "    <tr>\n",
       "      <th>5</th>\n",
       "      <td>linear</td>\n",
       "      <td>98</td>\n",
       "      <td>True</td>\n",
       "      <td>0.357352</td>\n",
       "      <td>0.000658</td>\n",
       "      <td>20</td>\n",
       "      <td>83</td>\n",
       "      <td>sigmoid</td>\n",
       "      <td>44.0</td>\n",
       "      <td>6</td>\n",
       "      <td>0.819672</td>\n",
       "      <td>29.972148</td>\n",
       "      <td>3.128226</td>\n",
       "    </tr>\n",
       "    <tr>\n",
       "      <th>6</th>\n",
       "      <td>tanh</td>\n",
       "      <td>21</td>\n",
       "      <td>True</td>\n",
       "      <td>0.457153</td>\n",
       "      <td>0.000027</td>\n",
       "      <td>87</td>\n",
       "      <td>113</td>\n",
       "      <td>sigmoid</td>\n",
       "      <td>114.0</td>\n",
       "      <td>7</td>\n",
       "      <td>0.770492</td>\n",
       "      <td>36.240880</td>\n",
       "      <td>5.962217</td>\n",
       "    </tr>\n",
       "    <tr>\n",
       "      <th>7</th>\n",
       "      <td>tanh</td>\n",
       "      <td>13</td>\n",
       "      <td>True</td>\n",
       "      <td>0.525997</td>\n",
       "      <td>0.000015</td>\n",
       "      <td>73</td>\n",
       "      <td>58</td>\n",
       "      <td>tanh</td>\n",
       "      <td>41.0</td>\n",
       "      <td>8</td>\n",
       "      <td>0.819672</td>\n",
       "      <td>42.468082</td>\n",
       "      <td>5.935735</td>\n",
       "    </tr>\n",
       "    <tr>\n",
       "      <th>8</th>\n",
       "      <td>selu</td>\n",
       "      <td>40</td>\n",
       "      <td>True</td>\n",
       "      <td>0.039040</td>\n",
       "      <td>0.001955</td>\n",
       "      <td>82</td>\n",
       "      <td>37</td>\n",
       "      <td>swish</td>\n",
       "      <td>49.0</td>\n",
       "      <td>9</td>\n",
       "      <td>0.786885</td>\n",
       "      <td>47.987107</td>\n",
       "      <td>5.255840</td>\n",
       "    </tr>\n",
       "    <tr>\n",
       "      <th>9</th>\n",
       "      <td>elu</td>\n",
       "      <td>13</td>\n",
       "      <td>True</td>\n",
       "      <td>0.348771</td>\n",
       "      <td>0.000015</td>\n",
       "      <td>87</td>\n",
       "      <td>107</td>\n",
       "      <td>sigmoid</td>\n",
       "      <td>36.0</td>\n",
       "      <td>10</td>\n",
       "      <td>0.803279</td>\n",
       "      <td>54.743863</td>\n",
       "      <td>6.452969</td>\n",
       "    </tr>\n",
       "  </tbody>\n",
       "</table>\n",
       "</div>"
      ],
      "text/plain": [
       "  activation  batch_size  dense_2  dropout_rate  learning_rate  num_epochs  \\\n",
       "0   softsign          91    False      0.114065       0.000506          67   \n",
       "1        elu          87     True      0.137768       0.000138          55   \n",
       "2      swish         222     True      0.199520       0.001492          93   \n",
       "3       tanh          15     True      0.361096       0.000017          87   \n",
       "4       tanh          14     True      0.419676       0.000091          51   \n",
       "5     linear          98     True      0.357352       0.000658          20   \n",
       "6       tanh          21     True      0.457153       0.000027          87   \n",
       "7       tanh          13     True      0.525997       0.000015          73   \n",
       "8       selu          40     True      0.039040       0.001955          82   \n",
       "9        elu          13     True      0.348771       0.000015          87   \n",
       "\n",
       "   units dense_2:activation  dense_2:units  id  objective  elapsed_sec  \\\n",
       "0     27                NaN            NaN   1   0.803279     5.145283   \n",
       "1     93           softplus           21.0   2   0.819672     9.527729   \n",
       "2     55               selu           74.0   3   0.770492    14.642000   \n",
       "3    109            sigmoid           40.0   4   0.836066    21.096835   \n",
       "4      8              swish           56.0   5   0.770492    26.564862   \n",
       "5     83            sigmoid           44.0   6   0.819672    29.972148   \n",
       "6    113            sigmoid          114.0   7   0.770492    36.240880   \n",
       "7     58               tanh           41.0   8   0.819672    42.468082   \n",
       "8     37              swish           49.0   9   0.786885    47.987107   \n",
       "9    107            sigmoid           36.0  10   0.803279    54.743863   \n",
       "\n",
       "   duration  \n",
       "0  4.457543  \n",
       "1  4.079856  \n",
       "2  4.838408  \n",
       "3  6.172969  \n",
       "4  5.068724  \n",
       "5  3.128226  \n",
       "6  5.962217  \n",
       "7  5.935735  \n",
       "8  5.255840  \n",
       "9  6.452969  "
      ]
     },
     "execution_count": 25,
     "metadata": {},
     "output_type": "execute_result"
    }
   ],
   "source": [
    "results_with_condition"
   ]
  },
  {
   "cell_type": "markdown",
   "id": "63ca8219",
   "metadata": {},
   "source": [
    "Finally, let us print out the best configuration found from this conditionned search space."
   ]
  },
  {
   "cell_type": "code",
   "execution_count": 26,
   "id": "34f26be4",
   "metadata": {
    "ExecuteTime": {
     "end_time": "2021-10-05T17:39:41.791938Z",
     "start_time": "2021-10-05T17:39:41.784904Z"
    },
    "execution": {
     "iopub.execute_input": "2021-10-05T13:33:02.951023Z",
     "iopub.status.busy": "2021-10-05T13:33:02.950816Z",
     "iopub.status.idle": "2021-10-05T13:33:03.295308Z",
     "shell.execute_reply": "2021-10-05T13:33:03.294708Z",
     "shell.execute_reply.started": "2021-10-05T13:33:02.950999Z"
    }
   },
   "outputs": [
    {
     "name": "stdout",
     "output_type": "stream",
     "text": [
      "The default configuration has an accuracy of 0.820. The best configuration found by DeepHyper has an accuracy 0.836, trained in 6.17 seconds and finished after 21.10 seconds of search.\n"
     ]
    },
    {
     "data": {
      "text/plain": [
       "{'activation': 'tanh',\n",
       " 'batch_size': 15,\n",
       " 'dense_2': True,\n",
       " 'dropout_rate': 0.3610957550277699,\n",
       " 'learning_rate': 1.6722905935364422e-05,\n",
       " 'num_epochs': 87,\n",
       " 'units': 109,\n",
       " 'dense_2:activation': 'sigmoid',\n",
       " 'dense_2:units': 40.0,\n",
       " 'id': 4}"
      ]
     },
     "execution_count": 26,
     "metadata": {},
     "output_type": "execute_result"
    }
   ],
   "source": [
    "i_max = results_with_condition.objective.argmax()\n",
    "best_config = results_with_condition.iloc[i_max][:-3].to_dict()\n",
    "\n",
    "print(f\"The default configuration has an accuracy of {objective_default:.3f}. \" \n",
    "      f\"The best configuration found by DeepHyper has an accuracy {results_with_condition['objective'].iloc[i_max]:.3f}, \" \n",
    "      f\"trained in {results_with_condition['duration'].iloc[i_max]:.2f} seconds and \"\n",
    "      f\"finished after {results_with_condition['elapsed_sec'].iloc[i_max]:.2f} seconds of search.\")\n",
    "\n",
    "best_config"
   ]
  }
 ],
 "metadata": {
  "interpreter": {
   "hash": "c33774984308773a164e9991715538701a09ddea2391d4c1ef9b39eda340d87d"
  },
  "kernelspec": {
   "display_name": "Python 3.8.11 64-bit ('deephyper': conda)",
   "name": "python3"
  },
  "language_info": {
   "codemirror_mode": {
    "name": "ipython",
    "version": 3
   },
   "file_extension": ".py",
   "mimetype": "text/x-python",
   "name": "python",
   "nbconvert_exporter": "python",
   "pygments_lexer": "ipython3",
   "version": "3.8.11"
  },
  "latex_envs": {
   "LaTeX_envs_menu_present": true,
   "autoclose": false,
   "autocomplete": true,
   "bibliofile": "biblio.bib",
   "cite_by": "apalike",
   "current_citInitial": 1,
   "eqLabelWithNumbers": true,
   "eqNumInitial": 1,
   "hotkeys": {
    "equation": ""
   },
   "labels_anchors": false,
   "latex_user_defs": false,
   "report_style_numbering": false,
   "user_envs_cfg": false
  },
  "nbTranslate": {
   "displayLangs": [
    "*"
   ],
   "hotkey": "alt-t",
   "langInMainMenu": true,
   "sourceLang": "en",
   "targetLang": "fr",
   "useGoogleTranslate": true
  },
  "toc": {
   "base_numbering": 1,
   "nav_menu": {},
   "number_sections": false,
   "sideBar": false,
   "skip_h1_title": true,
   "title_cell": "Table of Contents",
   "title_sidebar": "Contents",
   "toc_cell": true,
   "toc_position": {
    "height": "calc(100% - 180px)",
    "left": "10px",
    "top": "150px",
    "width": "165px"
   },
   "toc_section_display": false,
   "toc_window_display": false
  },
  "varInspector": {
   "cols": {
    "lenName": 16,
    "lenType": 16,
    "lenVar": 40
   },
   "kernels_config": {
    "python": {
     "delete_cmd_postfix": "",
     "delete_cmd_prefix": "del ",
     "library": "var_list.py",
     "varRefreshCmd": "print(var_dic_list())"
    },
    "r": {
     "delete_cmd_postfix": ") ",
     "delete_cmd_prefix": "rm(",
     "library": "var_list.r",
     "varRefreshCmd": "cat(var_dic_list()) "
    }
   },
   "types_to_exclude": [
    "module",
    "function",
    "builtin_function_or_method",
    "instance",
    "_Feature"
   ],
   "window_display": false
  }
 },
 "nbformat": 4,
 "nbformat_minor": 5
}
